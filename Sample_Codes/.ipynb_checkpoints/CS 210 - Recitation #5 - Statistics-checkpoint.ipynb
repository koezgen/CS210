{
 "cells": [
  {
   "cell_type": "markdown",
   "metadata": {
    "id": "7dxdzmm4SYwI"
   },
   "source": [
    "# Statistical Measurements and Visualizations\n",
    "\n",
    "In this recitation, we are going to discuss and compare some of the statistical measurements from a practical point of view. To this end, we are going to utilize multiple datasets, in addition to synthetic distributions."
   ]
  },
  {
   "cell_type": "code",
   "execution_count": 1,
   "metadata": {
    "colab": {
     "base_uri": "https://localhost:8080/"
    },
    "executionInfo": {
     "elapsed": 22053,
     "status": "ok",
     "timestamp": 1680615837601,
     "user": {
      "displayName": "Damla Erden (Student)",
      "userId": "14770221574056571138"
     },
     "user_tz": -180
    },
    "id": "pUqgwwdGHwKt",
    "outputId": "3a12eb72-ef4d-40f5-a5f9-871458db63ac"
   },
   "outputs": [
    {
     "name": "stdout",
     "output_type": "stream",
     "text": [
      "Mounted at ./drive\n"
     ]
    }
   ],
   "source": [
    "import google\n",
    "from google.colab import drive\n",
    "drive.mount(\"./drive\", force_remount=True)\n",
    "\n",
    "path_prefix = \"./drive/My Drive\""
   ]
  },
  {
   "cell_type": "code",
   "execution_count": 2,
   "metadata": {
    "executionInfo": {
     "elapsed": 3,
     "status": "ok",
     "timestamp": 1680615840164,
     "user": {
      "displayName": "Damla Erden (Student)",
      "userId": "14770221574056571138"
     },
     "user_tz": -180
    },
    "id": "JExW41FGH9F2"
   },
   "outputs": [],
   "source": [
    "import pandas as pd\n",
    "import numpy as np\n",
    "import matplotlib.pyplot as plt\n",
    "from os.path import join\n",
    "import warnings\n",
    "\n",
    "warnings.filterwarnings('ignore')\n",
    "\n",
    "%matplotlib inline"
   ]
  },
  {
   "cell_type": "markdown",
   "metadata": {
    "id": "XXkW_ykYWtYl"
   },
   "source": [
    "## Descriptive vs Inferential Statistics\n",
    "\n",
    "![](https://s3.amazonaws.com/libapps/accounts/73970/images/descriptive_and_inferential.JPG)"
   ]
  },
  {
   "cell_type": "markdown",
   "metadata": {
    "id": "thTD_mPVXbe3"
   },
   "source": [
    "## Data Levels of Measurement\n",
    "\n",
    "> A variable has one of four different levels of measurement.\n",
    "\n",
    "![](https://lh5.googleusercontent.com/7jyxzQ2ObysJGLFcGB6Zc25AHAswexk68SbOh_KYa4if2P9yRe7lIC8NDUgZEcSGspqpRIGQcMx_qCmrG6sjHegFHy9Sqhp_1z3PFido6d19TKYFq0pMTHDs4OV9l6pP-MTNmeKu)\n",
    "\n"
   ]
  },
  {
   "cell_type": "markdown",
   "metadata": {
    "id": "Y9wCcyk2NOug"
   },
   "source": [
    "Explanations and examples of these level of measurements can also be found below.\n",
    "\n",
    "![](https://sixsigmastats.com/wp-content/uploads/2019/07/scale.png)"
   ]
  },
  {
   "cell_type": "markdown",
   "metadata": {
    "id": "0YYFzJFInl_a"
   },
   "source": [
    "In this notebook, we are going to scrape a table from this [link](https://www.theyshootpictures.com/gf1000_all1000films_table.php) and store it as a dataframe.\n",
    "\n",
    "![](https://i.ibb.co/j4VcfNf/ts.png)"
   ]
  },
  {
   "cell_type": "code",
   "execution_count": 3,
   "metadata": {
    "executionInfo": {
     "elapsed": 372,
     "status": "ok",
     "timestamp": 1680616098455,
     "user": {
      "displayName": "Damla Erden (Student)",
      "userId": "14770221574056571138"
     },
     "user_tz": -180
    },
    "id": "DMSdIhqnnc6Q"
   },
   "outputs": [],
   "source": [
    "from bs4 import BeautifulSoup\n",
    "import requests"
   ]
  },
  {
   "cell_type": "code",
   "execution_count": 5,
   "metadata": {
    "colab": {
     "base_uri": "https://localhost:8080/"
    },
    "executionInfo": {
     "elapsed": 1592,
     "status": "ok",
     "timestamp": 1680616138196,
     "user": {
      "displayName": "Damla Erden (Student)",
      "userId": "14770221574056571138"
     },
     "user_tz": -180
    },
    "id": "OJeaJxjHnkbK",
    "outputId": "c97a3caa-02a5-47f7-f5db-9fbcecb56b9b"
   },
   "outputs": [
    {
     "data": {
      "text/plain": [
       "200"
      ]
     },
     "execution_count": 5,
     "metadata": {},
     "output_type": "execute_result"
    }
   ],
   "source": [
    "# url that stores the required table\n",
    "url = \"https://www.theyshootpictures.com/gf1000_all1000films_table.php\"\n",
    "\n",
    "# retrieve the html document\n",
    "res = requests.get(url)\n",
    "res.status_code"
   ]
  },
  {
   "cell_type": "code",
   "execution_count": 6,
   "metadata": {
    "executionInfo": {
     "elapsed": 325,
     "status": "ok",
     "timestamp": 1680616150563,
     "user": {
      "displayName": "Damla Erden (Student)",
      "userId": "14770221574056571138"
     },
     "user_tz": -180
    },
    "id": "oTBbjWpsoJgJ"
   },
   "outputs": [],
   "source": [
    "# get the raw html text\n",
    "content = res.text\n",
    "# parse and store the domtree \n",
    "# with beautifulsoup\n",
    "soup = BeautifulSoup(content,\"html.parser\")"
   ]
  },
  {
   "cell_type": "code",
   "execution_count": 7,
   "metadata": {
    "colab": {
     "base_uri": "https://localhost:8080/"
    },
    "executionInfo": {
     "elapsed": 388,
     "status": "ok",
     "timestamp": 1680616175059,
     "user": {
      "displayName": "Damla Erden (Student)",
      "userId": "14770221574056571138"
     },
     "user_tz": -180
    },
    "id": "vzS9tdPAqIaG",
    "outputId": "63604b4b-e2ce-4560-8aa1-231022a2975f"
   },
   "outputs": [
    {
     "data": {
      "text/plain": [
       "['\\ufeffPos', '2022', 'Title', 'Director', 'Year', 'Country', 'Mins']"
      ]
     },
     "execution_count": 7,
     "metadata": {},
     "output_type": "execute_result"
    }
   ],
   "source": [
    "# get the column names\n",
    "header = soup.find(\"thead\").findAll(\"th\")\n",
    "column_names = [entry.text for entry in header]\n",
    "column_names"
   ]
  },
  {
   "cell_type": "code",
   "execution_count": 8,
   "metadata": {
    "colab": {
     "base_uri": "https://localhost:8080/",
     "height": 206
    },
    "executionInfo": {
     "elapsed": 355,
     "status": "ok",
     "timestamp": 1680616204736,
     "user": {
      "displayName": "Damla Erden (Student)",
      "userId": "14770221574056571138"
     },
     "user_tz": -180
    },
    "id": "rZdF6HX9owbG",
    "outputId": "64a0ab67-1858-4e0f-a9f4-95bb025a7827"
   },
   "outputs": [
    {
     "data": {
      "text/html": [
       "\n",
       "  <div id=\"df-c2af43ac-b8fa-4d95-a1de-0bc7213d746d\">\n",
       "    <div class=\"colab-df-container\">\n",
       "      <div>\n",
       "<style scoped>\n",
       "    .dataframe tbody tr th:only-of-type {\n",
       "        vertical-align: middle;\n",
       "    }\n",
       "\n",
       "    .dataframe tbody tr th {\n",
       "        vertical-align: top;\n",
       "    }\n",
       "\n",
       "    .dataframe thead th {\n",
       "        text-align: right;\n",
       "    }\n",
       "</style>\n",
       "<table border=\"1\" class=\"dataframe\">\n",
       "  <thead>\n",
       "    <tr style=\"text-align: right;\">\n",
       "      <th></th>\n",
       "      <th>﻿Pos</th>\n",
       "      <th>2022</th>\n",
       "      <th>Title</th>\n",
       "      <th>Director</th>\n",
       "      <th>Year</th>\n",
       "      <th>Country</th>\n",
       "      <th>Mins</th>\n",
       "    </tr>\n",
       "  </thead>\n",
       "  <tbody>\n",
       "    <tr>\n",
       "      <th>0</th>\n",
       "      <td>1</td>\n",
       "      <td>1</td>\n",
       "      <td>Citizen Kane</td>\n",
       "      <td>Welles, Orson</td>\n",
       "      <td>1941</td>\n",
       "      <td>USA</td>\n",
       "      <td>119</td>\n",
       "    </tr>\n",
       "    <tr>\n",
       "      <th>1</th>\n",
       "      <td>2</td>\n",
       "      <td>2</td>\n",
       "      <td>Vertigo</td>\n",
       "      <td>Hitchcock, Alfred</td>\n",
       "      <td>1958</td>\n",
       "      <td>USA</td>\n",
       "      <td>128</td>\n",
       "    </tr>\n",
       "    <tr>\n",
       "      <th>2</th>\n",
       "      <td>3</td>\n",
       "      <td>3</td>\n",
       "      <td>2001: A Space Odyssey</td>\n",
       "      <td>Kubrick, Stanley</td>\n",
       "      <td>1968</td>\n",
       "      <td>UK</td>\n",
       "      <td>139</td>\n",
       "    </tr>\n",
       "    <tr>\n",
       "      <th>3</th>\n",
       "      <td>4</td>\n",
       "      <td>5</td>\n",
       "      <td>Tokyo Story</td>\n",
       "      <td>Ozu, Yasujiro</td>\n",
       "      <td>1953</td>\n",
       "      <td>Japan</td>\n",
       "      <td>134</td>\n",
       "    </tr>\n",
       "    <tr>\n",
       "      <th>4</th>\n",
       "      <td>5</td>\n",
       "      <td>4</td>\n",
       "      <td>Rules of the Game, The</td>\n",
       "      <td>Renoir, Jean</td>\n",
       "      <td>1939</td>\n",
       "      <td>France</td>\n",
       "      <td>113</td>\n",
       "    </tr>\n",
       "  </tbody>\n",
       "</table>\n",
       "</div>\n",
       "      <button class=\"colab-df-convert\" onclick=\"convertToInteractive('df-c2af43ac-b8fa-4d95-a1de-0bc7213d746d')\"\n",
       "              title=\"Convert this dataframe to an interactive table.\"\n",
       "              style=\"display:none;\">\n",
       "        \n",
       "  <svg xmlns=\"http://www.w3.org/2000/svg\" height=\"24px\"viewBox=\"0 0 24 24\"\n",
       "       width=\"24px\">\n",
       "    <path d=\"M0 0h24v24H0V0z\" fill=\"none\"/>\n",
       "    <path d=\"M18.56 5.44l.94 2.06.94-2.06 2.06-.94-2.06-.94-.94-2.06-.94 2.06-2.06.94zm-11 1L8.5 8.5l.94-2.06 2.06-.94-2.06-.94L8.5 2.5l-.94 2.06-2.06.94zm10 10l.94 2.06.94-2.06 2.06-.94-2.06-.94-.94-2.06-.94 2.06-2.06.94z\"/><path d=\"M17.41 7.96l-1.37-1.37c-.4-.4-.92-.59-1.43-.59-.52 0-1.04.2-1.43.59L10.3 9.45l-7.72 7.72c-.78.78-.78 2.05 0 2.83L4 21.41c.39.39.9.59 1.41.59.51 0 1.02-.2 1.41-.59l7.78-7.78 2.81-2.81c.8-.78.8-2.07 0-2.86zM5.41 20L4 18.59l7.72-7.72 1.47 1.35L5.41 20z\"/>\n",
       "  </svg>\n",
       "      </button>\n",
       "      \n",
       "  <style>\n",
       "    .colab-df-container {\n",
       "      display:flex;\n",
       "      flex-wrap:wrap;\n",
       "      gap: 12px;\n",
       "    }\n",
       "\n",
       "    .colab-df-convert {\n",
       "      background-color: #E8F0FE;\n",
       "      border: none;\n",
       "      border-radius: 50%;\n",
       "      cursor: pointer;\n",
       "      display: none;\n",
       "      fill: #1967D2;\n",
       "      height: 32px;\n",
       "      padding: 0 0 0 0;\n",
       "      width: 32px;\n",
       "    }\n",
       "\n",
       "    .colab-df-convert:hover {\n",
       "      background-color: #E2EBFA;\n",
       "      box-shadow: 0px 1px 2px rgba(60, 64, 67, 0.3), 0px 1px 3px 1px rgba(60, 64, 67, 0.15);\n",
       "      fill: #174EA6;\n",
       "    }\n",
       "\n",
       "    [theme=dark] .colab-df-convert {\n",
       "      background-color: #3B4455;\n",
       "      fill: #D2E3FC;\n",
       "    }\n",
       "\n",
       "    [theme=dark] .colab-df-convert:hover {\n",
       "      background-color: #434B5C;\n",
       "      box-shadow: 0px 1px 3px 1px rgba(0, 0, 0, 0.15);\n",
       "      filter: drop-shadow(0px 1px 2px rgba(0, 0, 0, 0.3));\n",
       "      fill: #FFFFFF;\n",
       "    }\n",
       "  </style>\n",
       "\n",
       "      <script>\n",
       "        const buttonEl =\n",
       "          document.querySelector('#df-c2af43ac-b8fa-4d95-a1de-0bc7213d746d button.colab-df-convert');\n",
       "        buttonEl.style.display =\n",
       "          google.colab.kernel.accessAllowed ? 'block' : 'none';\n",
       "\n",
       "        async function convertToInteractive(key) {\n",
       "          const element = document.querySelector('#df-c2af43ac-b8fa-4d95-a1de-0bc7213d746d');\n",
       "          const dataTable =\n",
       "            await google.colab.kernel.invokeFunction('convertToInteractive',\n",
       "                                                     [key], {});\n",
       "          if (!dataTable) return;\n",
       "\n",
       "          const docLinkHtml = 'Like what you see? Visit the ' +\n",
       "            '<a target=\"_blank\" href=https://colab.research.google.com/notebooks/data_table.ipynb>data table notebook</a>'\n",
       "            + ' to learn more about interactive tables.';\n",
       "          element.innerHTML = '';\n",
       "          dataTable['output_type'] = 'display_data';\n",
       "          await google.colab.output.renderOutput(dataTable, element);\n",
       "          const docLink = document.createElement('div');\n",
       "          docLink.innerHTML = docLinkHtml;\n",
       "          element.appendChild(docLink);\n",
       "        }\n",
       "      </script>\n",
       "    </div>\n",
       "  </div>\n",
       "  "
      ],
      "text/plain": [
       "  ﻿Pos 2022                   Title           Director  Year Country Mins\n",
       "0    1    1            Citizen Kane      Welles, Orson  1941     USA  119\n",
       "1    2    2                 Vertigo  Hitchcock, Alfred  1958     USA  128\n",
       "2    3    3   2001: A Space Odyssey   Kubrick, Stanley  1968      UK  139\n",
       "3    4    5             Tokyo Story      Ozu, Yasujiro  1953   Japan  134\n",
       "4    5    4  Rules of the Game, The       Renoir, Jean  1939  France  113"
      ]
     },
     "execution_count": 8,
     "metadata": {},
     "output_type": "execute_result"
    }
   ],
   "source": [
    "# find the table in the document\n",
    "table = soup.find(\"tbody\")\n",
    "rows = []\n",
    "for entry in table.findAll(\"tr\"):\n",
    "  # merge column names and zip them with the values\n",
    "  row = dict(zip(column_names, [value.text for value in entry.findAll(\"td\")]))\n",
    "  rows.append(row)\n",
    "df = pd.DataFrame(rows)\n",
    "df.head()"
   ]
  },
  {
   "cell_type": "markdown",
   "metadata": {
    "id": "5SNvvOnM_PDE"
   },
   "source": [
    "Some of the movie names are problematic in the table, such that they end with `, the` postfix  \n",
    "whereas the title should have begun as `The ...`\n",
    "\n",
    "Now let's fix this problem."
   ]
  },
  {
   "cell_type": "code",
   "execution_count": 9,
   "metadata": {
    "colab": {
     "base_uri": "https://localhost:8080/",
     "height": 206
    },
    "executionInfo": {
     "elapsed": 302,
     "status": "ok",
     "timestamp": 1680616269906,
     "user": {
      "displayName": "Damla Erden (Student)",
      "userId": "14770221574056571138"
     },
     "user_tz": -180
    },
    "id": "PZncZBXyy8y1",
    "outputId": "66e32283-0145-4a05-af1f-d0dedb0fd01f"
   },
   "outputs": [
    {
     "data": {
      "text/html": [
       "\n",
       "  <div id=\"df-2902e759-c89b-4bb0-895a-1efff95cf5b0\">\n",
       "    <div class=\"colab-df-container\">\n",
       "      <div>\n",
       "<style scoped>\n",
       "    .dataframe tbody tr th:only-of-type {\n",
       "        vertical-align: middle;\n",
       "    }\n",
       "\n",
       "    .dataframe tbody tr th {\n",
       "        vertical-align: top;\n",
       "    }\n",
       "\n",
       "    .dataframe thead th {\n",
       "        text-align: right;\n",
       "    }\n",
       "</style>\n",
       "<table border=\"1\" class=\"dataframe\">\n",
       "  <thead>\n",
       "    <tr style=\"text-align: right;\">\n",
       "      <th></th>\n",
       "      <th>﻿Pos</th>\n",
       "      <th>2022</th>\n",
       "      <th>Title</th>\n",
       "      <th>Director</th>\n",
       "      <th>Year</th>\n",
       "      <th>Country</th>\n",
       "      <th>Mins</th>\n",
       "    </tr>\n",
       "  </thead>\n",
       "  <tbody>\n",
       "    <tr>\n",
       "      <th>0</th>\n",
       "      <td>1</td>\n",
       "      <td>1</td>\n",
       "      <td>Citizen Kane</td>\n",
       "      <td>Welles, Orson</td>\n",
       "      <td>1941</td>\n",
       "      <td>USA</td>\n",
       "      <td>119</td>\n",
       "    </tr>\n",
       "    <tr>\n",
       "      <th>1</th>\n",
       "      <td>2</td>\n",
       "      <td>2</td>\n",
       "      <td>Vertigo</td>\n",
       "      <td>Hitchcock, Alfred</td>\n",
       "      <td>1958</td>\n",
       "      <td>USA</td>\n",
       "      <td>128</td>\n",
       "    </tr>\n",
       "    <tr>\n",
       "      <th>2</th>\n",
       "      <td>3</td>\n",
       "      <td>3</td>\n",
       "      <td>2001: A Space Odyssey</td>\n",
       "      <td>Kubrick, Stanley</td>\n",
       "      <td>1968</td>\n",
       "      <td>UK</td>\n",
       "      <td>139</td>\n",
       "    </tr>\n",
       "    <tr>\n",
       "      <th>3</th>\n",
       "      <td>4</td>\n",
       "      <td>5</td>\n",
       "      <td>Tokyo Story</td>\n",
       "      <td>Ozu, Yasujiro</td>\n",
       "      <td>1953</td>\n",
       "      <td>Japan</td>\n",
       "      <td>134</td>\n",
       "    </tr>\n",
       "    <tr>\n",
       "      <th>4</th>\n",
       "      <td>5</td>\n",
       "      <td>4</td>\n",
       "      <td>The Rules of the Game</td>\n",
       "      <td>Renoir, Jean</td>\n",
       "      <td>1939</td>\n",
       "      <td>France</td>\n",
       "      <td>113</td>\n",
       "    </tr>\n",
       "  </tbody>\n",
       "</table>\n",
       "</div>\n",
       "      <button class=\"colab-df-convert\" onclick=\"convertToInteractive('df-2902e759-c89b-4bb0-895a-1efff95cf5b0')\"\n",
       "              title=\"Convert this dataframe to an interactive table.\"\n",
       "              style=\"display:none;\">\n",
       "        \n",
       "  <svg xmlns=\"http://www.w3.org/2000/svg\" height=\"24px\"viewBox=\"0 0 24 24\"\n",
       "       width=\"24px\">\n",
       "    <path d=\"M0 0h24v24H0V0z\" fill=\"none\"/>\n",
       "    <path d=\"M18.56 5.44l.94 2.06.94-2.06 2.06-.94-2.06-.94-.94-2.06-.94 2.06-2.06.94zm-11 1L8.5 8.5l.94-2.06 2.06-.94-2.06-.94L8.5 2.5l-.94 2.06-2.06.94zm10 10l.94 2.06.94-2.06 2.06-.94-2.06-.94-.94-2.06-.94 2.06-2.06.94z\"/><path d=\"M17.41 7.96l-1.37-1.37c-.4-.4-.92-.59-1.43-.59-.52 0-1.04.2-1.43.59L10.3 9.45l-7.72 7.72c-.78.78-.78 2.05 0 2.83L4 21.41c.39.39.9.59 1.41.59.51 0 1.02-.2 1.41-.59l7.78-7.78 2.81-2.81c.8-.78.8-2.07 0-2.86zM5.41 20L4 18.59l7.72-7.72 1.47 1.35L5.41 20z\"/>\n",
       "  </svg>\n",
       "      </button>\n",
       "      \n",
       "  <style>\n",
       "    .colab-df-container {\n",
       "      display:flex;\n",
       "      flex-wrap:wrap;\n",
       "      gap: 12px;\n",
       "    }\n",
       "\n",
       "    .colab-df-convert {\n",
       "      background-color: #E8F0FE;\n",
       "      border: none;\n",
       "      border-radius: 50%;\n",
       "      cursor: pointer;\n",
       "      display: none;\n",
       "      fill: #1967D2;\n",
       "      height: 32px;\n",
       "      padding: 0 0 0 0;\n",
       "      width: 32px;\n",
       "    }\n",
       "\n",
       "    .colab-df-convert:hover {\n",
       "      background-color: #E2EBFA;\n",
       "      box-shadow: 0px 1px 2px rgba(60, 64, 67, 0.3), 0px 1px 3px 1px rgba(60, 64, 67, 0.15);\n",
       "      fill: #174EA6;\n",
       "    }\n",
       "\n",
       "    [theme=dark] .colab-df-convert {\n",
       "      background-color: #3B4455;\n",
       "      fill: #D2E3FC;\n",
       "    }\n",
       "\n",
       "    [theme=dark] .colab-df-convert:hover {\n",
       "      background-color: #434B5C;\n",
       "      box-shadow: 0px 1px 3px 1px rgba(0, 0, 0, 0.15);\n",
       "      filter: drop-shadow(0px 1px 2px rgba(0, 0, 0, 0.3));\n",
       "      fill: #FFFFFF;\n",
       "    }\n",
       "  </style>\n",
       "\n",
       "      <script>\n",
       "        const buttonEl =\n",
       "          document.querySelector('#df-2902e759-c89b-4bb0-895a-1efff95cf5b0 button.colab-df-convert');\n",
       "        buttonEl.style.display =\n",
       "          google.colab.kernel.accessAllowed ? 'block' : 'none';\n",
       "\n",
       "        async function convertToInteractive(key) {\n",
       "          const element = document.querySelector('#df-2902e759-c89b-4bb0-895a-1efff95cf5b0');\n",
       "          const dataTable =\n",
       "            await google.colab.kernel.invokeFunction('convertToInteractive',\n",
       "                                                     [key], {});\n",
       "          if (!dataTable) return;\n",
       "\n",
       "          const docLinkHtml = 'Like what you see? Visit the ' +\n",
       "            '<a target=\"_blank\" href=https://colab.research.google.com/notebooks/data_table.ipynb>data table notebook</a>'\n",
       "            + ' to learn more about interactive tables.';\n",
       "          element.innerHTML = '';\n",
       "          dataTable['output_type'] = 'display_data';\n",
       "          await google.colab.output.renderOutput(dataTable, element);\n",
       "          const docLink = document.createElement('div');\n",
       "          docLink.innerHTML = docLinkHtml;\n",
       "          element.appendChild(docLink);\n",
       "        }\n",
       "      </script>\n",
       "    </div>\n",
       "  </div>\n",
       "  "
      ],
      "text/plain": [
       "  ﻿Pos 2022                  Title           Director  Year Country Mins\n",
       "0    1    1           Citizen Kane      Welles, Orson  1941     USA  119\n",
       "1    2    2                Vertigo  Hitchcock, Alfred  1958     USA  128\n",
       "2    3    3  2001: A Space Odyssey   Kubrick, Stanley  1968      UK  139\n",
       "3    4    5            Tokyo Story      Ozu, Yasujiro  1953   Japan  134\n",
       "4    5    4  The Rules of the Game       Renoir, Jean  1939  France  113"
      ]
     },
     "execution_count": 9,
     "metadata": {},
     "output_type": "execute_result"
    }
   ],
   "source": [
    "def fix_title(title):\n",
    "  if title.endswith(\", The\"):\n",
    "    title = \"The \" + title[:-5]\n",
    "  return title\n",
    "\n",
    "df[\"Title\"] = df[\"Title\"].apply(fix_title)\n",
    "df.head()"
   ]
  },
  {
   "cell_type": "markdown",
   "metadata": {
    "id": "9C-pF7RZ_sIq"
   },
   "source": [
    "With the extracted table above, we can also obtain the IMDB and Rotten Tomatoes ratings with the help of an API named [`OMDb`](http://www.omdbapi.com/).\n",
    "\n",
    "Below, we use an API key that's not shared with you. To obtain your own key, please visit http://www.omdbapi.com/apikey.aspx"
   ]
  },
  {
   "cell_type": "code",
   "execution_count": 10,
   "metadata": {
    "executionInfo": {
     "elapsed": 1075,
     "status": "ok",
     "timestamp": 1680616365013,
     "user": {
      "displayName": "Damla Erden (Student)",
      "userId": "14770221574056571138"
     },
     "user_tz": -180
    },
    "id": "-j3NqMmVrjSE"
   },
   "outputs": [],
   "source": [
    "# get the OMDb API key\n",
    "fname = \"key.txt\"\n",
    "with open(join(path_prefix, fname)) as f:\n",
    "  key = f.read().strip()"
   ]
  },
  {
   "cell_type": "code",
   "execution_count": 11,
   "metadata": {
    "colab": {
     "base_uri": "https://localhost:8080/"
    },
    "executionInfo": {
     "elapsed": 605,
     "status": "ok",
     "timestamp": 1680616392777,
     "user": {
      "displayName": "Damla Erden (Student)",
      "userId": "14770221574056571138"
     },
     "user_tz": -180
    },
    "id": "vv6ApVker2zZ",
    "outputId": "46325f28-6b2f-4a83-f198-32e9074dd556"
   },
   "outputs": [
    {
     "data": {
      "text/plain": [
       "{'Title': 'Citizen Kane',\n",
       " 'Year': '1941',\n",
       " 'Rated': 'PG',\n",
       " 'Released': '05 Sep 1941',\n",
       " 'Runtime': '119 min',\n",
       " 'Genre': 'Drama, Mystery',\n",
       " 'Director': 'Orson Welles',\n",
       " 'Writer': 'Herman J. Mankiewicz, Orson Welles, John Houseman',\n",
       " 'Actors': 'Orson Welles, Joseph Cotten, Dorothy Comingore',\n",
       " 'Plot': \"Following the death of publishing tycoon Charles Foster Kane, reporters scramble to uncover the meaning of his final utterance: 'Rosebud.'\",\n",
       " 'Language': 'English, Italian',\n",
       " 'Country': 'United States',\n",
       " 'Awards': 'Won 1 Oscar. 11 wins & 13 nominations total',\n",
       " 'Poster': 'https://m.media-amazon.com/images/M/MV5BYjBiOTYxZWItMzdiZi00NjlkLWIzZTYtYmFhZjhiMTljOTdkXkEyXkFqcGdeQXVyNzkwMjQ5NzM@._V1_SX300.jpg',\n",
       " 'Ratings': [{'Source': 'Internet Movie Database', 'Value': '8.3/10'},\n",
       "  {'Source': 'Rotten Tomatoes', 'Value': '99%'},\n",
       "  {'Source': 'Metacritic', 'Value': '100/100'}],\n",
       " 'Metascore': '100',\n",
       " 'imdbRating': '8.3',\n",
       " 'imdbVotes': '447,879',\n",
       " 'imdbID': 'tt0033467',\n",
       " 'Type': 'movie',\n",
       " 'DVD': '23 Feb 2010',\n",
       " 'BoxOffice': '$1,627,530',\n",
       " 'Production': 'N/A',\n",
       " 'Website': 'N/A',\n",
       " 'Response': 'True'}"
      ]
     },
     "execution_count": 11,
     "metadata": {},
     "output_type": "execute_result"
    }
   ],
   "source": [
    "# prepare the API endpoint\n",
    "endpoint = \"http://www.omdbapi.com/?apikey={}&t={}&y={}\".format(key, \"Citizen Kane\", 1941)\n",
    "res = requests.get(endpoint)\n",
    "# get the imdb rating from retrieved json object\n",
    "res.json()"
   ]
  },
  {
   "cell_type": "code",
   "execution_count": 12,
   "metadata": {
    "colab": {
     "base_uri": "https://localhost:8080/"
    },
    "executionInfo": {
     "elapsed": 293,
     "status": "ok",
     "timestamp": 1680616401429,
     "user": {
      "displayName": "Damla Erden (Student)",
      "userId": "14770221574056571138"
     },
     "user_tz": -180
    },
    "id": "UqkEpts_fMB-",
    "outputId": "02742ea8-7417-455a-e74f-efdbedf1aaf1"
   },
   "outputs": [
    {
     "data": {
      "text/plain": [
       "{'Title': \"Carlito's Way\",\n",
       " 'Year': '1993',\n",
       " 'Rated': 'R',\n",
       " 'Released': '12 Nov 1993',\n",
       " 'Runtime': '144 min',\n",
       " 'Genre': 'Crime, Drama, Thriller',\n",
       " 'Director': 'Brian De Palma',\n",
       " 'Writer': 'Edwin Torres, David Koepp',\n",
       " 'Actors': 'Al Pacino, Sean Penn, Penelope Ann Miller',\n",
       " 'Plot': 'A Puerto Rican former convict, just released from prison, pledges to stay away from drugs and violence despite the pressure around him and lead on to a better life outside of N.Y.C.',\n",
       " 'Language': 'English, Spanish',\n",
       " 'Country': 'United States',\n",
       " 'Awards': '2 wins & 9 nominations',\n",
       " 'Poster': 'https://m.media-amazon.com/images/M/MV5BYzBhY2E0OWYtYzRmNC00ZGY3LTllODYtNTExM2FmYTFkMGUwXkEyXkFqcGdeQXVyMjUzOTY1NTc@._V1_SX300.jpg',\n",
       " 'Ratings': [{'Source': 'Internet Movie Database', 'Value': '7.9/10'},\n",
       "  {'Source': 'Rotten Tomatoes', 'Value': '81%'},\n",
       "  {'Source': 'Metacritic', 'Value': '66/100'}],\n",
       " 'Metascore': '66',\n",
       " 'imdbRating': '7.9',\n",
       " 'imdbVotes': '222,107',\n",
       " 'imdbID': 'tt0106519',\n",
       " 'Type': 'movie',\n",
       " 'DVD': '02 Sep 2003',\n",
       " 'BoxOffice': '$36,948,322',\n",
       " 'Production': 'N/A',\n",
       " 'Website': 'N/A',\n",
       " 'Response': 'True'}"
      ]
     },
     "execution_count": 12,
     "metadata": {},
     "output_type": "execute_result"
    }
   ],
   "source": [
    " endpoint = \"http://www.omdbapi.com/?apikey={}&t={}&y={}\".format(key, row[\"Title\"], row[\"Year\"])\n",
    "res = requests.get(endpoint)\n",
    "info = res.json()\n",
    "info\n"
   ]
  },
  {
   "cell_type": "code",
   "execution_count": 13,
   "metadata": {
    "executionInfo": {
     "elapsed": 8,
     "status": "ok",
     "timestamp": 1680616423946,
     "user": {
      "displayName": "Damla Erden (Student)",
      "userId": "14770221574056571138"
     },
     "user_tz": -180
    },
    "id": "ER5HdGRgxxcF"
   },
   "outputs": [],
   "source": [
    "def get_imdb_score(row):\n",
    "  # prepare the API endpoint\n",
    "  endpoint = \"http://www.omdbapi.com/?apikey={}&t={}&y={}\".format(key, row[\"Title\"], row[\"Year\"])\n",
    "  res = requests.get(endpoint)\n",
    "  info = res.json()\n",
    "  try:\n",
    "    rating = info[\"imdbRating\"], info[\"Ratings\"][1][\"Value\"].strip(\"%\")\n",
    "  except:\n",
    "    rating = (None, None)     \n",
    "\n",
    "  return rating\n",
    "\n",
    "  "
   ]
  },
  {
   "cell_type": "code",
   "execution_count": 14,
   "metadata": {
    "colab": {
     "base_uri": "https://localhost:8080/",
     "height": 206
    },
    "executionInfo": {
     "elapsed": 12749,
     "status": "ok",
     "timestamp": 1680616471732,
     "user": {
      "displayName": "Damla Erden (Student)",
      "userId": "14770221574056571138"
     },
     "user_tz": -180
    },
    "id": "eYB49xTpxYuD",
    "outputId": "1a523cac-5344-4e64-e599-bd483b9a8da0"
   },
   "outputs": [
    {
     "data": {
      "text/html": [
       "\n",
       "  <div id=\"df-6e6a9692-1c65-48f9-8858-d25b71a49ac3\">\n",
       "    <div class=\"colab-df-container\">\n",
       "      <div>\n",
       "<style scoped>\n",
       "    .dataframe tbody tr th:only-of-type {\n",
       "        vertical-align: middle;\n",
       "    }\n",
       "\n",
       "    .dataframe tbody tr th {\n",
       "        vertical-align: top;\n",
       "    }\n",
       "\n",
       "    .dataframe thead th {\n",
       "        text-align: right;\n",
       "    }\n",
       "</style>\n",
       "<table border=\"1\" class=\"dataframe\">\n",
       "  <thead>\n",
       "    <tr style=\"text-align: right;\">\n",
       "      <th></th>\n",
       "      <th>﻿Pos</th>\n",
       "      <th>2022</th>\n",
       "      <th>Title</th>\n",
       "      <th>Director</th>\n",
       "      <th>Year</th>\n",
       "      <th>Country</th>\n",
       "      <th>Mins</th>\n",
       "      <th>IMDB Ratings</th>\n",
       "      <th>Rotten Tomatoes Ratings</th>\n",
       "    </tr>\n",
       "  </thead>\n",
       "  <tbody>\n",
       "    <tr>\n",
       "      <th>0</th>\n",
       "      <td>1</td>\n",
       "      <td>1</td>\n",
       "      <td>Citizen Kane</td>\n",
       "      <td>Welles, Orson</td>\n",
       "      <td>1941</td>\n",
       "      <td>USA</td>\n",
       "      <td>119</td>\n",
       "      <td>8.3</td>\n",
       "      <td>99</td>\n",
       "    </tr>\n",
       "    <tr>\n",
       "      <th>1</th>\n",
       "      <td>2</td>\n",
       "      <td>2</td>\n",
       "      <td>Vertigo</td>\n",
       "      <td>Hitchcock, Alfred</td>\n",
       "      <td>1958</td>\n",
       "      <td>USA</td>\n",
       "      <td>128</td>\n",
       "      <td>8.3</td>\n",
       "      <td>92</td>\n",
       "    </tr>\n",
       "    <tr>\n",
       "      <th>2</th>\n",
       "      <td>3</td>\n",
       "      <td>3</td>\n",
       "      <td>2001: A Space Odyssey</td>\n",
       "      <td>Kubrick, Stanley</td>\n",
       "      <td>1968</td>\n",
       "      <td>UK</td>\n",
       "      <td>139</td>\n",
       "      <td>8.3</td>\n",
       "      <td>91</td>\n",
       "    </tr>\n",
       "    <tr>\n",
       "      <th>3</th>\n",
       "      <td>4</td>\n",
       "      <td>5</td>\n",
       "      <td>Tokyo Story</td>\n",
       "      <td>Ozu, Yasujiro</td>\n",
       "      <td>1953</td>\n",
       "      <td>Japan</td>\n",
       "      <td>134</td>\n",
       "      <td>8.2</td>\n",
       "      <td>100</td>\n",
       "    </tr>\n",
       "    <tr>\n",
       "      <th>4</th>\n",
       "      <td>5</td>\n",
       "      <td>4</td>\n",
       "      <td>The Rules of the Game</td>\n",
       "      <td>Renoir, Jean</td>\n",
       "      <td>1939</td>\n",
       "      <td>France</td>\n",
       "      <td>113</td>\n",
       "      <td>7.9</td>\n",
       "      <td>96</td>\n",
       "    </tr>\n",
       "  </tbody>\n",
       "</table>\n",
       "</div>\n",
       "      <button class=\"colab-df-convert\" onclick=\"convertToInteractive('df-6e6a9692-1c65-48f9-8858-d25b71a49ac3')\"\n",
       "              title=\"Convert this dataframe to an interactive table.\"\n",
       "              style=\"display:none;\">\n",
       "        \n",
       "  <svg xmlns=\"http://www.w3.org/2000/svg\" height=\"24px\"viewBox=\"0 0 24 24\"\n",
       "       width=\"24px\">\n",
       "    <path d=\"M0 0h24v24H0V0z\" fill=\"none\"/>\n",
       "    <path d=\"M18.56 5.44l.94 2.06.94-2.06 2.06-.94-2.06-.94-.94-2.06-.94 2.06-2.06.94zm-11 1L8.5 8.5l.94-2.06 2.06-.94-2.06-.94L8.5 2.5l-.94 2.06-2.06.94zm10 10l.94 2.06.94-2.06 2.06-.94-2.06-.94-.94-2.06-.94 2.06-2.06.94z\"/><path d=\"M17.41 7.96l-1.37-1.37c-.4-.4-.92-.59-1.43-.59-.52 0-1.04.2-1.43.59L10.3 9.45l-7.72 7.72c-.78.78-.78 2.05 0 2.83L4 21.41c.39.39.9.59 1.41.59.51 0 1.02-.2 1.41-.59l7.78-7.78 2.81-2.81c.8-.78.8-2.07 0-2.86zM5.41 20L4 18.59l7.72-7.72 1.47 1.35L5.41 20z\"/>\n",
       "  </svg>\n",
       "      </button>\n",
       "      \n",
       "  <style>\n",
       "    .colab-df-container {\n",
       "      display:flex;\n",
       "      flex-wrap:wrap;\n",
       "      gap: 12px;\n",
       "    }\n",
       "\n",
       "    .colab-df-convert {\n",
       "      background-color: #E8F0FE;\n",
       "      border: none;\n",
       "      border-radius: 50%;\n",
       "      cursor: pointer;\n",
       "      display: none;\n",
       "      fill: #1967D2;\n",
       "      height: 32px;\n",
       "      padding: 0 0 0 0;\n",
       "      width: 32px;\n",
       "    }\n",
       "\n",
       "    .colab-df-convert:hover {\n",
       "      background-color: #E2EBFA;\n",
       "      box-shadow: 0px 1px 2px rgba(60, 64, 67, 0.3), 0px 1px 3px 1px rgba(60, 64, 67, 0.15);\n",
       "      fill: #174EA6;\n",
       "    }\n",
       "\n",
       "    [theme=dark] .colab-df-convert {\n",
       "      background-color: #3B4455;\n",
       "      fill: #D2E3FC;\n",
       "    }\n",
       "\n",
       "    [theme=dark] .colab-df-convert:hover {\n",
       "      background-color: #434B5C;\n",
       "      box-shadow: 0px 1px 3px 1px rgba(0, 0, 0, 0.15);\n",
       "      filter: drop-shadow(0px 1px 2px rgba(0, 0, 0, 0.3));\n",
       "      fill: #FFFFFF;\n",
       "    }\n",
       "  </style>\n",
       "\n",
       "      <script>\n",
       "        const buttonEl =\n",
       "          document.querySelector('#df-6e6a9692-1c65-48f9-8858-d25b71a49ac3 button.colab-df-convert');\n",
       "        buttonEl.style.display =\n",
       "          google.colab.kernel.accessAllowed ? 'block' : 'none';\n",
       "\n",
       "        async function convertToInteractive(key) {\n",
       "          const element = document.querySelector('#df-6e6a9692-1c65-48f9-8858-d25b71a49ac3');\n",
       "          const dataTable =\n",
       "            await google.colab.kernel.invokeFunction('convertToInteractive',\n",
       "                                                     [key], {});\n",
       "          if (!dataTable) return;\n",
       "\n",
       "          const docLinkHtml = 'Like what you see? Visit the ' +\n",
       "            '<a target=\"_blank\" href=https://colab.research.google.com/notebooks/data_table.ipynb>data table notebook</a>'\n",
       "            + ' to learn more about interactive tables.';\n",
       "          element.innerHTML = '';\n",
       "          dataTable['output_type'] = 'display_data';\n",
       "          await google.colab.output.renderOutput(dataTable, element);\n",
       "          const docLink = document.createElement('div');\n",
       "          docLink.innerHTML = docLinkHtml;\n",
       "          element.appendChild(docLink);\n",
       "        }\n",
       "      </script>\n",
       "    </div>\n",
       "  </div>\n",
       "  "
      ],
      "text/plain": [
       "  ﻿Pos 2022                  Title           Director  Year Country Mins  \\\n",
       "0    1    1           Citizen Kane      Welles, Orson  1941     USA  119   \n",
       "1    2    2                Vertigo  Hitchcock, Alfred  1958     USA  128   \n",
       "2    3    3  2001: A Space Odyssey   Kubrick, Stanley  1968      UK  139   \n",
       "3    4    5            Tokyo Story      Ozu, Yasujiro  1953   Japan  134   \n",
       "4    5    4  The Rules of the Game       Renoir, Jean  1939  France  113   \n",
       "\n",
       "  IMDB Ratings Rotten Tomatoes Ratings  \n",
       "0          8.3                      99  \n",
       "1          8.3                      92  \n",
       "2          8.3                      91  \n",
       "3          8.2                     100  \n",
       "4          7.9                      96  "
      ]
     },
     "execution_count": 14,
     "metadata": {},
     "output_type": "execute_result"
    }
   ],
   "source": [
    "# shrink the dataset\n",
    "# OMDB API allows 1000 requests per day\n",
    "# we only use the first 100 movies\n",
    "# so that we do not consume all request rights at once\n",
    "df = df[:100]\n",
    "df[\"IMDB Ratings\"], df[\"Rotten Tomatoes Ratings\"] = zip(*df.apply(get_imdb_score, axis=1))\n",
    "df.head()"
   ]
  },
  {
   "cell_type": "code",
   "execution_count": 15,
   "metadata": {
    "colab": {
     "base_uri": "https://localhost:8080/"
    },
    "executionInfo": {
     "elapsed": 321,
     "status": "ok",
     "timestamp": 1680616486304,
     "user": {
      "displayName": "Damla Erden (Student)",
      "userId": "14770221574056571138"
     },
     "user_tz": -180
    },
    "id": "fwqd6b078-g5",
    "outputId": "67fb0d49-5e6a-4621-e6da-aa4c110d3ec4"
   },
   "outputs": [
    {
     "data": {
      "text/plain": [
       "﻿Pos                        object\n",
       "2022                        object\n",
       "Title                       object\n",
       "Director                    object\n",
       "Year                        object\n",
       "Country                     object\n",
       "Mins                        object\n",
       "IMDB Ratings               float64\n",
       "Rotten Tomatoes Ratings    float64\n",
       "dtype: object"
      ]
     },
     "execution_count": 15,
     "metadata": {},
     "output_type": "execute_result"
    }
   ],
   "source": [
    "df[\"IMDB Ratings\"] = pd.to_numeric(df[\"IMDB Ratings\"])\n",
    "df[\"Rotten Tomatoes Ratings\"] = pd.to_numeric(df[\"Rotten Tomatoes Ratings\"])\n",
    "df.dtypes"
   ]
  },
  {
   "cell_type": "markdown",
   "metadata": {
    "id": "k9zUuYULUoLq"
   },
   "source": [
    "## Measures of Central Tendency\n",
    "\n",
    "\n",
    " A measure of central tendency is a single value that attempts to describe a set of data by identifying the central position within that set of data. \n"
   ]
  },
  {
   "cell_type": "markdown",
   "metadata": {
    "id": "CMnqZyuegMSS"
   },
   "source": [
    "### Mean\n",
    "\n",
    "\n",
    "Possibly the most popular and well known measure of central tendency.\n",
    "\n",
    "$\\hat{x} = (x_1 + x_2 + ... + x_n) \\, / \\, n$\n",
    "\n",
    "$\\mu = \\frac{\\Large \\Sigma x_i}{\\Large n}$"
   ]
  },
  {
   "cell_type": "code",
   "execution_count": 16,
   "metadata": {
    "colab": {
     "base_uri": "https://localhost:8080/"
    },
    "executionInfo": {
     "elapsed": 301,
     "status": "ok",
     "timestamp": 1680616556655,
     "user": {
      "displayName": "Damla Erden (Student)",
      "userId": "14770221574056571138"
     },
     "user_tz": -180
    },
    "id": "xyt9dLFb5aSY",
    "outputId": "6b4a23e5-3ee6-4600-890c-d62366fd4470"
   },
   "outputs": [
    {
     "data": {
      "text/plain": [
       "8.253846153846153"
      ]
     },
     "execution_count": 16,
     "metadata": {},
     "output_type": "execute_result"
    }
   ],
   "source": [
    "df.groupby(by = 'Country')['IMDB Ratings'].mean()['USA']"
   ]
  },
  {
   "cell_type": "code",
   "execution_count": 17,
   "metadata": {
    "colab": {
     "base_uri": "https://localhost:8080/",
     "height": 447
    },
    "executionInfo": {
     "elapsed": 747,
     "status": "ok",
     "timestamp": 1680616578497,
     "user": {
      "displayName": "Damla Erden (Student)",
      "userId": "14770221574056571138"
     },
     "user_tz": -180
    },
    "id": "N9uHAgIo5v4X",
    "outputId": "16b6922f-8f0b-47ba-f059-08d0b6be4c21"
   },
   "outputs": [
    {
     "data": {
      "text/plain": [
       "<Axes: ylabel='Country'>"
      ]
     },
     "execution_count": 17,
     "metadata": {},
     "output_type": "execute_result"
    },
    {
     "data": {
      "image/png": "[encoded data removed]",
      "text/plain": [
       "<Figure size 640x480 with 1 Axes>"
      ]
     },
     "metadata": {},
     "output_type": "display_data"
    }
   ],
   "source": [
    "df.groupby(by = 'Country')['IMDB Ratings'].mean().sort_values().plot.barh(\n",
    "    grid = True\n",
    ")"
   ]
  },
  {
   "cell_type": "markdown",
   "metadata": {
    "id": "JurXFd2HqYED"
   },
   "source": [
    "#### Outliers"
   ]
  },
  {
   "cell_type": "markdown",
   "metadata": {
    "id": "yd2eY9v8m-8U"
   },
   "source": [
    "The new observation that we have just appended is quite distinct compared to the overall observations in the data.  \n",
    "In technical terms, it is an **outlier**.\n",
    "\n",
    "> An outlier is an observation that lies outside the overall pattern of a distribution.\n",
    "\n",
    "![](https://cdn.shortpixel.ai/client/q_glossy,ret_img,w_1667,h_1042/http://141.89.112.21/wp-content/uploads/2017/02/corrcoefs_1.png)\n",
    "\n",
    "Although, mean is a very handy metric, it has a big disadvantage.\n",
    "It is highly susceptible to the influence of outliers. "
   ]
  },
  {
   "cell_type": "markdown",
   "metadata": {
    "id": "GNgZGuUih4b4"
   },
   "source": [
    "#### Skewed Distributions\n",
    "\n",
    "> The mean loses its representativeness for the best central location of the data because the skewed data is dragging it away from the typical value.\n",
    "\n",
    "![](https://schoolbag.info/physics/physics_math/physics_math.files/image790.jpg)\n",
    "\n"
   ]
  },
  {
   "cell_type": "code",
   "execution_count": 20,
   "metadata": {
    "colab": {
     "base_uri": "https://localhost:8080/",
     "height": 486
    },
    "executionInfo": {
     "elapsed": 963,
     "status": "ok",
     "timestamp": 1680616809809,
     "user": {
      "displayName": "Damla Erden (Student)",
      "userId": "14770221574056571138"
     },
     "user_tz": -180
    },
    "id": "pafuslC9uuQE",
    "outputId": "d07f26f2-afc8-4ea6-9ef5-ed4d31e3d8b6"
   },
   "outputs": [
    {
     "data": {
      "image/png": "[encoded data removed]",
      "text/plain": [
       "<Figure size 640x480 with 2 Axes>"
      ]
     },
     "metadata": {},
     "output_type": "display_data"
    }
   ],
   "source": [
    "from scipy.stats import skewnorm, norm\n",
    "\n",
    "# number of instances\n",
    "n = 1000\n",
    "# mean\n",
    "m = 0\n",
    "# std\n",
    "s = 3\n",
    "\n",
    "# normal dist\n",
    "r_norm = norm.rvs(loc=m, scale=s, size=n)\n",
    "# skewed dist\n",
    "skewness = -5 # skewness\n",
    "r_skew = skewnorm.rvs(skewness, loc=m, scale=s, size=n)\n",
    "\n",
    "fig, axes = plt.subplots(2,1, sharex=True)\n",
    "# plot the normal and its mean\n",
    "axes[0].set_title(\"Normal Distribution\")\n",
    "axes[0].hist(r_norm, alpha=0.3, density=True)\n",
    "axes[0].axvline(r_norm.mean(), 0, 1, c=\"r\")\n",
    "\n",
    "# plot the skewed and it mean\n",
    "axes[1].set_title(\"Negative Skewed Distribution\")\n",
    "axes[1].hist(r_skew, alpha=0.3, density=True)\n",
    "axes[1].axvline(r_skew.mean(), 0, 1, c=\"r\")\n",
    "\n",
    "plt.tight_layout()\n",
    "plt.show()"
   ]
  },
  {
   "cell_type": "markdown",
   "metadata": {
    "id": "XR3eZdRghpPv"
   },
   "source": [
    "In case of outliers or skewed distribution, mean becomes a misleading measurement."
   ]
  },
  {
   "cell_type": "markdown",
   "metadata": {
    "id": "f2RwsF6y7WLr"
   },
   "source": [
    "We can also check the skewness of distributions present in our dataset. Below, you can find distributions of `IMDB Ratings` and `Rotten Tomatoes Ratings`."
   ]
  },
  {
   "cell_type": "code",
   "execution_count": 21,
   "metadata": {
    "colab": {
     "base_uri": "https://localhost:8080/",
     "height": 487
    },
    "executionInfo": {
     "elapsed": 1070,
     "status": "ok",
     "timestamp": 1680616845723,
     "user": {
      "displayName": "Damla Erden (Student)",
      "userId": "14770221574056571138"
     },
     "user_tz": -180
    },
    "id": "cYzYpv946SAj",
    "outputId": "1fce0df8-f285-4d5e-e076-dead3d2aa298"
   },
   "outputs": [
    {
     "data": {
      "image/png": "[encoded data removed]",
      "text/plain": [
       "<Figure size 640x480 with 2 Axes>"
      ]
     },
     "metadata": {},
     "output_type": "display_data"
    }
   ],
   "source": [
    "# alternative\n",
    "# checking movie rating distributions\n",
    "\n",
    "fig, axes = plt.subplots(1, 2)\n",
    "# plot IMDB Ratings distribution and its mean\n",
    "axes[0].set_title(\"Distribution of IMDB Ratings\")\n",
    "axes[0].hist(df['IMDB Ratings'], alpha=0.3, density=True)\n",
    "axes[0].axvline(df['IMDB Ratings'].mean(), 0, 1, c=\"r\")\n",
    "\n",
    "# plot Rotten Tomatoes Ratings distribution and its mean\n",
    "axes[1].set_title(\"Dist. of Rotten Tomatoes Rating\")\n",
    "axes[1].hist(df['Rotten Tomatoes Ratings'], alpha=0.3, density=True)\n",
    "axes[1].axvline(df['Rotten Tomatoes Ratings'].mean(), 0, 1, c=\"r\")\n",
    "\n",
    "plt.tight_layout()\n",
    "plt.show()"
   ]
  },
  {
   "cell_type": "markdown",
   "metadata": {
    "id": "qW_2rbKu7uh0"
   },
   "source": [
    "Although it seems difficult to comment on the distribution of `IMDB Ratings`, distribution of `Rotten Tomatoes Ratings` seem negative skewed. In that case we can argue that movies with higher ratings in our dataset are causing mean value of `Rotten Tomatoes Ratings` to be higher than majority of movie reviews."
   ]
  },
  {
   "cell_type": "markdown",
   "metadata": {
    "id": "aeLuTnoNyG07"
   },
   "source": [
    "### Median\n",
    "\n",
    "> The median is the `middle` value in a **sorted** list of numbers."
   ]
  },
  {
   "cell_type": "code",
   "execution_count": 22,
   "metadata": {
    "colab": {
     "base_uri": "https://localhost:8080/"
    },
    "executionInfo": {
     "elapsed": 7,
     "status": "ok",
     "timestamp": 1680616891481,
     "user": {
      "displayName": "Damla Erden (Student)",
      "userId": "14770221574056571138"
     },
     "user_tz": -180
    },
    "id": "FHni9ZnH86ky",
    "outputId": "55fff810-0abc-46c5-df06-fbc87a0e66f2"
   },
   "outputs": [
    {
     "data": {
      "text/plain": [
       "8.1"
      ]
     },
     "execution_count": 22,
     "metadata": {},
     "output_type": "execute_result"
    }
   ],
   "source": [
    "df[\"IMDB Ratings\"].median()"
   ]
  },
  {
   "cell_type": "code",
   "execution_count": 23,
   "metadata": {
    "colab": {
     "base_uri": "https://localhost:8080/",
     "height": 625
    },
    "executionInfo": {
     "elapsed": 447,
     "status": "ok",
     "timestamp": 1680616915652,
     "user": {
      "displayName": "Damla Erden (Student)",
      "userId": "14770221574056571138"
     },
     "user_tz": -180
    },
    "id": "2FiAtFCZ9CC-",
    "outputId": "1e6c9016-4b47-4acb-a968-85512ef68221"
   },
   "outputs": [
    {
     "data": {
      "image/png": "[encoded data removed]",
      "text/plain": [
       "<Figure size 1000x600 with 1 Axes>"
      ]
     },
     "metadata": {},
     "output_type": "display_data"
    }
   ],
   "source": [
    "fig, ax = plt.subplots(1, 1, figsize=(10, 6))\n",
    "\n",
    "ax = df.groupby(by = \"Country\").median()['Rotten Tomatoes Ratings'].sort_values().plot.bar()\n",
    "\n",
    "plt.title(\"Median Values of Rotten Tomatoes Ratings per Country\")\n",
    "plt.grid()\n",
    "plt.show()"
   ]
  },
  {
   "cell_type": "markdown",
   "metadata": {
    "id": "mDYa4Z1KnQWp"
   },
   "source": [
    "Now, let's use the same setting above and observe how median behaves with rating distributions that we have."
   ]
  },
  {
   "cell_type": "code",
   "execution_count": 24,
   "metadata": {
    "colab": {
     "base_uri": "https://localhost:8080/",
     "height": 487
    },
    "executionInfo": {
     "elapsed": 17,
     "status": "ok",
     "timestamp": 1680616941801,
     "user": {
      "displayName": "Damla Erden (Student)",
      "userId": "14770221574056571138"
     },
     "user_tz": -180
    },
    "id": "5zxtNpW39LqP",
    "outputId": "e0c8f7c3-7292-43a8-d846-b9e62642c190"
   },
   "outputs": [
    {
     "data": {
      "image/png": "[encoded data removed]",
      "text/plain": [
       "<Figure size 640x480 with 2 Axes>"
      ]
     },
     "metadata": {},
     "output_type": "display_data"
    }
   ],
   "source": [
    "fig, axes = plt.subplots(1, 2)\n",
    "# plot IMDB Ratings distribution, its mean, and median\n",
    "axes[0].set_title(\"Distribution of IMDB Ratings\")\n",
    "axes[0].hist(df['IMDB Ratings'], alpha=0.3, density=True)\n",
    "axes[0].axvline(df['IMDB Ratings'].mean(), 0, 1, c=\"r\")\n",
    "axes[0].axvline(df['IMDB Ratings'].median(), 0, 1, c=\"b\")\n",
    "\n",
    "# plot Rotten Tomatoes Ratings distribution, its mean, and median\n",
    "axes[1].set_title(\"Dist. of Rotten Tomatoes Rating\")\n",
    "axes[1].hist(df['Rotten Tomatoes Ratings'], alpha=0.3, density=True)\n",
    "axes[1].axvline(df['Rotten Tomatoes Ratings'].mean(), 0, 1, c=\"r\")\n",
    "axes[1].axvline(df['Rotten Tomatoes Ratings'].median(), 0, 1, c=\"b\")\n",
    "\n",
    "plt.tight_layout()\n",
    "plt.show()"
   ]
  },
  {
   "cell_type": "markdown",
   "metadata": {
    "id": "WD3OrKZB91P-"
   },
   "source": [
    "In `IMDB Ratings` distribution mean and median values are very close to each other. However, in `Rotten Tomatoes Ratings` median value is higher than the mean value. This is because the a large part of the distribution are composed of higher values."
   ]
  },
  {
   "cell_type": "markdown",
   "metadata": {
    "id": "pPVL1hUmo1Vt"
   },
   "source": [
    "### Mode\n",
    "\n",
    "> The mode is the most frequent value in the data."
   ]
  },
  {
   "cell_type": "code",
   "execution_count": 25,
   "metadata": {
    "colab": {
     "base_uri": "https://localhost:8080/",
     "height": 472
    },
    "executionInfo": {
     "elapsed": 490,
     "status": "ok",
     "timestamp": 1680617000101,
     "user": {
      "displayName": "Damla Erden (Student)",
      "userId": "14770221574056571138"
     },
     "user_tz": -180
    },
    "id": "B2VfYtc0pN9V",
    "outputId": "a5ee315e-8710-4b5e-ab41-8e41426163f7"
   },
   "outputs": [
    {
     "data": {
      "image/png": "[encoded data removed]",
      "text/plain": [
       "<Figure size 640x480 with 1 Axes>"
      ]
     },
     "metadata": {},
     "output_type": "display_data"
    }
   ],
   "source": [
    "from scipy import stats \n",
    "ax = df[\"Country\"].value_counts(ascending=True).plot.barh()\n",
    "ax.set_title(\"Number of Movies by Country\")\n",
    "ax.set_xlabel(\"Number of Movies\");"
   ]
  },
  {
   "cell_type": "markdown",
   "metadata": {
    "id": "7YcjVoS3rWDp"
   },
   "source": [
    "## Measures of Spreadness\n",
    "\n",
    "> Measures of spread describe how similar or varied the set of observed values are for a particular variable."
   ]
  },
  {
   "cell_type": "markdown",
   "metadata": {
    "id": "a_lwbPjXr8IK"
   },
   "source": [
    "### Variance & Standard Deviation\n",
    "\n",
    "> Informally, it measures how far a set of numbers are spread out from their average value."
   ]
  },
  {
   "cell_type": "code",
   "execution_count": 26,
   "metadata": {
    "colab": {
     "base_uri": "https://localhost:8080/"
    },
    "executionInfo": {
     "elapsed": 305,
     "status": "ok",
     "timestamp": 1680617079317,
     "user": {
      "displayName": "Damla Erden (Student)",
      "userId": "14770221574056571138"
     },
     "user_tz": -180
    },
    "id": "dbViYEvZthaZ",
    "outputId": "419e6422-1ea3-494d-e067-7fd0d672ac5e"
   },
   "outputs": [
    {
     "name": "stdout",
     "output_type": "stream",
     "text": [
      "Std: 0.3500478763424714, Var: 0.12253351573187415\n"
     ]
    }
   ],
   "source": [
    "print(f\"Std: {df['IMDB Ratings'].std()}, Var: {df['IMDB Ratings'].var()}\")"
   ]
  },
  {
   "cell_type": "markdown",
   "metadata": {
    "id": "zc6noC6Q3oYz"
   },
   "source": [
    "> Variance and standard deviation are almost the exact same thing! Variance is just the square of the standard deviation. Likewise, variance and standard deviation represent the same thing — a measure of spread — but it’s worth noting that the units are different. Whatever units your data are in, standard deviation will be the same, and variation will be in that units-squared."
   ]
  },
  {
   "cell_type": "markdown",
   "metadata": {
    "id": "Mq3njm_C_ccz"
   },
   "source": [
    "## Bivariate Analysis\n",
    "\n"
   ]
  },
  {
   "cell_type": "markdown",
   "metadata": {
    "id": "R2nY7YXYIx9s"
   },
   "source": [
    "### Covariance\n",
    "\n",
    "> The covariance is a measure for how two variables are related to each other, i.e., how two variables vary with each other.\n",
    "\n",
    "$\\Large{cov(X,Y) \\; = \\; \\Sigma_{i=1}^N\\frac{(x_i - \\hat{x})(y_i - \\hat{y})}{N}}$\n"
   ]
  },
  {
   "cell_type": "code",
   "execution_count": 27,
   "metadata": {
    "colab": {
     "base_uri": "https://localhost:8080/",
     "height": 112
    },
    "executionInfo": {
     "elapsed": 352,
     "status": "ok",
     "timestamp": 1680617176759,
     "user": {
      "displayName": "Damla Erden (Student)",
      "userId": "14770221574056571138"
     },
     "user_tz": -180
    },
    "id": "iY_eWEfjzGcP",
    "outputId": "ee8a6fcb-10d1-45f0-8bd9-bbbf312d34e9"
   },
   "outputs": [
    {
     "data": {
      "text/html": [
       "\n",
       "  <div id=\"df-144a30de-1cd1-43a3-92d3-a844bf75e2a9\">\n",
       "    <div class=\"colab-df-container\">\n",
       "      <div>\n",
       "<style scoped>\n",
       "    .dataframe tbody tr th:only-of-type {\n",
       "        vertical-align: middle;\n",
       "    }\n",
       "\n",
       "    .dataframe tbody tr th {\n",
       "        vertical-align: top;\n",
       "    }\n",
       "\n",
       "    .dataframe thead th {\n",
       "        text-align: right;\n",
       "    }\n",
       "</style>\n",
       "<table border=\"1\" class=\"dataframe\">\n",
       "  <thead>\n",
       "    <tr style=\"text-align: right;\">\n",
       "      <th></th>\n",
       "      <th>IMDB Ratings</th>\n",
       "      <th>Rotten Tomatoes Ratings</th>\n",
       "    </tr>\n",
       "  </thead>\n",
       "  <tbody>\n",
       "    <tr>\n",
       "      <th>IMDB Ratings</th>\n",
       "      <td>0.122534</td>\n",
       "      <td>0.584268</td>\n",
       "    </tr>\n",
       "    <tr>\n",
       "      <th>Rotten Tomatoes Ratings</th>\n",
       "      <td>0.584268</td>\n",
       "      <td>21.309439</td>\n",
       "    </tr>\n",
       "  </tbody>\n",
       "</table>\n",
       "</div>\n",
       "      <button class=\"colab-df-convert\" onclick=\"convertToInteractive('df-144a30de-1cd1-43a3-92d3-a844bf75e2a9')\"\n",
       "              title=\"Convert this dataframe to an interactive table.\"\n",
       "              style=\"display:none;\">\n",
       "        \n",
       "  <svg xmlns=\"http://www.w3.org/2000/svg\" height=\"24px\"viewBox=\"0 0 24 24\"\n",
       "       width=\"24px\">\n",
       "    <path d=\"M0 0h24v24H0V0z\" fill=\"none\"/>\n",
       "    <path d=\"M18.56 5.44l.94 2.06.94-2.06 2.06-.94-2.06-.94-.94-2.06-.94 2.06-2.06.94zm-11 1L8.5 8.5l.94-2.06 2.06-.94-2.06-.94L8.5 2.5l-.94 2.06-2.06.94zm10 10l.94 2.06.94-2.06 2.06-.94-2.06-.94-.94-2.06-.94 2.06-2.06.94z\"/><path d=\"M17.41 7.96l-1.37-1.37c-.4-.4-.92-.59-1.43-.59-.52 0-1.04.2-1.43.59L10.3 9.45l-7.72 7.72c-.78.78-.78 2.05 0 2.83L4 21.41c.39.39.9.59 1.41.59.51 0 1.02-.2 1.41-.59l7.78-7.78 2.81-2.81c.8-.78.8-2.07 0-2.86zM5.41 20L4 18.59l7.72-7.72 1.47 1.35L5.41 20z\"/>\n",
       "  </svg>\n",
       "      </button>\n",
       "      \n",
       "  <style>\n",
       "    .colab-df-container {\n",
       "      display:flex;\n",
       "      flex-wrap:wrap;\n",
       "      gap: 12px;\n",
       "    }\n",
       "\n",
       "    .colab-df-convert {\n",
       "      background-color: #E8F0FE;\n",
       "      border: none;\n",
       "      border-radius: 50%;\n",
       "      cursor: pointer;\n",
       "      display: none;\n",
       "      fill: #1967D2;\n",
       "      height: 32px;\n",
       "      padding: 0 0 0 0;\n",
       "      width: 32px;\n",
       "    }\n",
       "\n",
       "    .colab-df-convert:hover {\n",
       "      background-color: #E2EBFA;\n",
       "      box-shadow: 0px 1px 2px rgba(60, 64, 67, 0.3), 0px 1px 3px 1px rgba(60, 64, 67, 0.15);\n",
       "      fill: #174EA6;\n",
       "    }\n",
       "\n",
       "    [theme=dark] .colab-df-convert {\n",
       "      background-color: #3B4455;\n",
       "      fill: #D2E3FC;\n",
       "    }\n",
       "\n",
       "    [theme=dark] .colab-df-convert:hover {\n",
       "      background-color: #434B5C;\n",
       "      box-shadow: 0px 1px 3px 1px rgba(0, 0, 0, 0.15);\n",
       "      filter: drop-shadow(0px 1px 2px rgba(0, 0, 0, 0.3));\n",
       "      fill: #FFFFFF;\n",
       "    }\n",
       "  </style>\n",
       "\n",
       "      <script>\n",
       "        const buttonEl =\n",
       "          document.querySelector('#df-144a30de-1cd1-43a3-92d3-a844bf75e2a9 button.colab-df-convert');\n",
       "        buttonEl.style.display =\n",
       "          google.colab.kernel.accessAllowed ? 'block' : 'none';\n",
       "\n",
       "        async function convertToInteractive(key) {\n",
       "          const element = document.querySelector('#df-144a30de-1cd1-43a3-92d3-a844bf75e2a9');\n",
       "          const dataTable =\n",
       "            await google.colab.kernel.invokeFunction('convertToInteractive',\n",
       "                                                     [key], {});\n",
       "          if (!dataTable) return;\n",
       "\n",
       "          const docLinkHtml = 'Like what you see? Visit the ' +\n",
       "            '<a target=\"_blank\" href=https://colab.research.google.com/notebooks/data_table.ipynb>data table notebook</a>'\n",
       "            + ' to learn more about interactive tables.';\n",
       "          element.innerHTML = '';\n",
       "          dataTable['output_type'] = 'display_data';\n",
       "          await google.colab.output.renderOutput(dataTable, element);\n",
       "          const docLink = document.createElement('div');\n",
       "          docLink.innerHTML = docLinkHtml;\n",
       "          element.appendChild(docLink);\n",
       "        }\n",
       "      </script>\n",
       "    </div>\n",
       "  </div>\n",
       "  "
      ],
      "text/plain": [
       "                         IMDB Ratings  Rotten Tomatoes Ratings\n",
       "IMDB Ratings                 0.122534                 0.584268\n",
       "Rotten Tomatoes Ratings      0.584268                21.309439"
      ]
     },
     "execution_count": 27,
     "metadata": {},
     "output_type": "execute_result"
    }
   ],
   "source": [
    "# returns a dataframe that stores the covariance values\n",
    "df[[\"IMDB Ratings\", \"Rotten Tomatoes Ratings\"]].cov()"
   ]
  },
  {
   "cell_type": "markdown",
   "metadata": {
    "id": "2nCmxc651fB9"
   },
   "source": [
    "### Correlation\n",
    "\n",
    "> Measures the linear correlation between two features and is closely related to the covariance. In fact, it’s a normalized version of the covariance. By dividing the covariance by the features’ standard deviations, we ensure that the correlation between two features is in the range [-1, 1], which makes it more interpretable than the unbounded covariance.\n",
    "\n",
    "$\\Large{Corr(X,Y) \\; = \\; \\frac{cov(X,Y)}{\\sigma_x \\sigma_y}}$"
   ]
  },
  {
   "cell_type": "code",
   "execution_count": 28,
   "metadata": {
    "colab": {
     "base_uri": "https://localhost:8080/",
     "height": 112
    },
    "executionInfo": {
     "elapsed": 8,
     "status": "ok",
     "timestamp": 1680617236796,
     "user": {
      "displayName": "Damla Erden (Student)",
      "userId": "14770221574056571138"
     },
     "user_tz": -180
    },
    "id": "-sjUyrsD2ZA7",
    "outputId": "a41db167-0177-45fc-f57c-ede7592ec23d"
   },
   "outputs": [
    {
     "data": {
      "text/html": [
       "\n",
       "  <div id=\"df-d153ba92-64d3-4bf0-a927-b12dbf555bf2\">\n",
       "    <div class=\"colab-df-container\">\n",
       "      <div>\n",
       "<style scoped>\n",
       "    .dataframe tbody tr th:only-of-type {\n",
       "        vertical-align: middle;\n",
       "    }\n",
       "\n",
       "    .dataframe tbody tr th {\n",
       "        vertical-align: top;\n",
       "    }\n",
       "\n",
       "    .dataframe thead th {\n",
       "        text-align: right;\n",
       "    }\n",
       "</style>\n",
       "<table border=\"1\" class=\"dataframe\">\n",
       "  <thead>\n",
       "    <tr style=\"text-align: right;\">\n",
       "      <th></th>\n",
       "      <th>IMDB Ratings</th>\n",
       "      <th>Rotten Tomatoes Ratings</th>\n",
       "    </tr>\n",
       "  </thead>\n",
       "  <tbody>\n",
       "    <tr>\n",
       "      <th>IMDB Ratings</th>\n",
       "      <td>1.000000</td>\n",
       "      <td>0.361575</td>\n",
       "    </tr>\n",
       "    <tr>\n",
       "      <th>Rotten Tomatoes Ratings</th>\n",
       "      <td>0.361575</td>\n",
       "      <td>1.000000</td>\n",
       "    </tr>\n",
       "  </tbody>\n",
       "</table>\n",
       "</div>\n",
       "      <button class=\"colab-df-convert\" onclick=\"convertToInteractive('df-d153ba92-64d3-4bf0-a927-b12dbf555bf2')\"\n",
       "              title=\"Convert this dataframe to an interactive table.\"\n",
       "              style=\"display:none;\">\n",
       "        \n",
       "  <svg xmlns=\"http://www.w3.org/2000/svg\" height=\"24px\"viewBox=\"0 0 24 24\"\n",
       "       width=\"24px\">\n",
       "    <path d=\"M0 0h24v24H0V0z\" fill=\"none\"/>\n",
       "    <path d=\"M18.56 5.44l.94 2.06.94-2.06 2.06-.94-2.06-.94-.94-2.06-.94 2.06-2.06.94zm-11 1L8.5 8.5l.94-2.06 2.06-.94-2.06-.94L8.5 2.5l-.94 2.06-2.06.94zm10 10l.94 2.06.94-2.06 2.06-.94-2.06-.94-.94-2.06-.94 2.06-2.06.94z\"/><path d=\"M17.41 7.96l-1.37-1.37c-.4-.4-.92-.59-1.43-.59-.52 0-1.04.2-1.43.59L10.3 9.45l-7.72 7.72c-.78.78-.78 2.05 0 2.83L4 21.41c.39.39.9.59 1.41.59.51 0 1.02-.2 1.41-.59l7.78-7.78 2.81-2.81c.8-.78.8-2.07 0-2.86zM5.41 20L4 18.59l7.72-7.72 1.47 1.35L5.41 20z\"/>\n",
       "  </svg>\n",
       "      </button>\n",
       "      \n",
       "  <style>\n",
       "    .colab-df-container {\n",
       "      display:flex;\n",
       "      flex-wrap:wrap;\n",
       "      gap: 12px;\n",
       "    }\n",
       "\n",
       "    .colab-df-convert {\n",
       "      background-color: #E8F0FE;\n",
       "      border: none;\n",
       "      border-radius: 50%;\n",
       "      cursor: pointer;\n",
       "      display: none;\n",
       "      fill: #1967D2;\n",
       "      height: 32px;\n",
       "      padding: 0 0 0 0;\n",
       "      width: 32px;\n",
       "    }\n",
       "\n",
       "    .colab-df-convert:hover {\n",
       "      background-color: #E2EBFA;\n",
       "      box-shadow: 0px 1px 2px rgba(60, 64, 67, 0.3), 0px 1px 3px 1px rgba(60, 64, 67, 0.15);\n",
       "      fill: #174EA6;\n",
       "    }\n",
       "\n",
       "    [theme=dark] .colab-df-convert {\n",
       "      background-color: #3B4455;\n",
       "      fill: #D2E3FC;\n",
       "    }\n",
       "\n",
       "    [theme=dark] .colab-df-convert:hover {\n",
       "      background-color: #434B5C;\n",
       "      box-shadow: 0px 1px 3px 1px rgba(0, 0, 0, 0.15);\n",
       "      filter: drop-shadow(0px 1px 2px rgba(0, 0, 0, 0.3));\n",
       "      fill: #FFFFFF;\n",
       "    }\n",
       "  </style>\n",
       "\n",
       "      <script>\n",
       "        const buttonEl =\n",
       "          document.querySelector('#df-d153ba92-64d3-4bf0-a927-b12dbf555bf2 button.colab-df-convert');\n",
       "        buttonEl.style.display =\n",
       "          google.colab.kernel.accessAllowed ? 'block' : 'none';\n",
       "\n",
       "        async function convertToInteractive(key) {\n",
       "          const element = document.querySelector('#df-d153ba92-64d3-4bf0-a927-b12dbf555bf2');\n",
       "          const dataTable =\n",
       "            await google.colab.kernel.invokeFunction('convertToInteractive',\n",
       "                                                     [key], {});\n",
       "          if (!dataTable) return;\n",
       "\n",
       "          const docLinkHtml = 'Like what you see? Visit the ' +\n",
       "            '<a target=\"_blank\" href=https://colab.research.google.com/notebooks/data_table.ipynb>data table notebook</a>'\n",
       "            + ' to learn more about interactive tables.';\n",
       "          element.innerHTML = '';\n",
       "          dataTable['output_type'] = 'display_data';\n",
       "          await google.colab.output.renderOutput(dataTable, element);\n",
       "          const docLink = document.createElement('div');\n",
       "          docLink.innerHTML = docLinkHtml;\n",
       "          element.appendChild(docLink);\n",
       "        }\n",
       "      </script>\n",
       "    </div>\n",
       "  </div>\n",
       "  "
      ],
      "text/plain": [
       "                         IMDB Ratings  Rotten Tomatoes Ratings\n",
       "IMDB Ratings                 1.000000                 0.361575\n",
       "Rotten Tomatoes Ratings      0.361575                 1.000000"
      ]
     },
     "execution_count": 28,
     "metadata": {},
     "output_type": "execute_result"
    }
   ],
   "source": [
    "# by default performs pearson correlation\n",
    "# you can apply other correlation methods\n",
    "# with `method` optional method\n",
    "# again returns a dataframe that stores the coefficients\n",
    "df[[\"IMDB Ratings\", \"Rotten Tomatoes Ratings\"]].corr()"
   ]
  },
  {
   "cell_type": "markdown",
   "metadata": {
    "id": "RrMuLZqw-j14"
   },
   "source": [
    "## Visualization"
   ]
  },
  {
   "cell_type": "markdown",
   "metadata": {
    "id": "JrBD1ijCvy7s"
   },
   "source": [
    "### Histograms\n",
    "\n",
    "> A frequency distribution shows how often each different value in a set of data occurs. It is the most commonly used graph to show frequency distributions.\n",
    "\n",
    "![](https://codingwithmax.com/wp-content/uploads/2019/12/histogram-example-daily-steps-taken-annotated.png)"
   ]
  },
  {
   "cell_type": "markdown",
   "metadata": {
    "id": "lEukEHwA_dX-"
   },
   "source": [
    "#### Bin Size\n",
    "\n",
    "To construct a histogram from a continuous variable you first need to split the data into intervals, called **bins**.\n",
    "\n",
    "*How are we going to decide on the bin size?*\n",
    "\n",
    "There is no right or wrong answer as to how wide a bin should be, but there are rules of thumb. You need to make sure that the bins are not too small or too large."
   ]
  },
  {
   "cell_type": "code",
   "execution_count": 29,
   "metadata": {
    "colab": {
     "base_uri": "https://localhost:8080/",
     "height": 445
    },
    "executionInfo": {
     "elapsed": 1626,
     "status": "ok",
     "timestamp": 1680617391598,
     "user": {
      "displayName": "Damla Erden (Student)",
      "userId": "14770221574056571138"
     },
     "user_tz": -180
    },
    "id": "3EMn9CBj_6sh",
    "outputId": "e76813ef-ee0b-46da-aced-81ed1fa03122"
   },
   "outputs": [
    {
     "data": {
      "image/png": "[encoded data removed]",
      "text/plain": [
       "<Figure size 1000x500 with 3 Axes>"
      ]
     },
     "metadata": {},
     "output_type": "display_data"
    }
   ],
   "source": [
    "data = df['IMDB Ratings'].values\n",
    "\n",
    "_, axes = plt.subplots(1,3,figsize=(10,5))\n",
    "axes[0].hist(data, bins=4)\n",
    "axes[1].hist(data, bins=8)\n",
    "axes[2].hist(data, bins=12)\n",
    "\n",
    "plt.show()"
   ]
  },
  {
   "cell_type": "markdown",
   "metadata": {
    "id": "2e6xDAdtDMk-"
   },
   "source": [
    "Instead of manual inspection, you may apply bin size estimation methods.\n",
    "\n",
    "**Scott’s rule** is based on the standard deviation of the data.\n",
    "\n",
    "You may check this [link](https://docs.astropy.org/en/stable/visualization/histogram.html) for further details."
   ]
  },
  {
   "cell_type": "code",
   "execution_count": 31,
   "metadata": {
    "colab": {
     "base_uri": "https://localhost:8080/",
     "height": 507
    },
    "executionInfo": {
     "elapsed": 1376,
     "status": "ok",
     "timestamp": 1680617488056,
     "user": {
      "displayName": "Damla Erden (Student)",
      "userId": "14770221574056571138"
     },
     "user_tz": -180
    },
    "id": "UmQktMSTDgTs",
    "outputId": "2cadd060-2366-47a0-d3d0-f6011b27956f"
   },
   "outputs": [
    {
     "data": {
      "image/png": "[encoded data removed]",
      "text/plain": [
       "<Figure size 1000x500 with 4 Axes>"
      ]
     },
     "metadata": {},
     "output_type": "display_data"
    }
   ],
   "source": [
    "data = df['IMDB Ratings'].values\n",
    "\n",
    "n_rows = 2\n",
    "n_cols = 2\n",
    "bins = [4, 8, 12, \"scott\"]\n",
    "_, axes = plt.subplots(n_rows, n_cols, figsize=(10,5))\n",
    "\n",
    "for i, b in enumerate(bins):\n",
    "  axes[i//2][i%2].hist(data, bins=b)\n",
    "  axes[i//2][i%2].set_title(f\"Bin Size: {b}\")\n",
    "\n",
    "plt.tight_layout()\n",
    "plt.show()"
   ]
  },
  {
   "cell_type": "markdown",
   "metadata": {
    "id": "AOexCtHbkV45"
   },
   "source": [
    "And you can always define your own bins."
   ]
  },
  {
   "cell_type": "code",
   "execution_count": 32,
   "metadata": {
    "colab": {
     "base_uri": "https://localhost:8080/",
     "height": 452
    },
    "executionInfo": {
     "elapsed": 353,
     "status": "ok",
     "timestamp": 1680617502159,
     "user": {
      "displayName": "Damla Erden (Student)",
      "userId": "14770221574056571138"
     },
     "user_tz": -180
    },
    "id": "YTcSuufMkiV1",
    "outputId": "7c80e56b-d110-4676-8c0d-a07f4a7f8086"
   },
   "outputs": [
    {
     "data": {
      "image/png": "[encoded data removed]",
      "text/plain": [
       "<Figure size 640x480 with 1 Axes>"
      ]
     },
     "metadata": {},
     "output_type": "display_data"
    }
   ],
   "source": [
    "rot_ratings = df['Rotten Tomatoes Ratings'].values\n",
    "plt.hist(rot_ratings, bins = [60,65,70,75,80,85,90,95,100]) \n",
    "plt.title(\"histogram\") \n",
    "plt.show()"
   ]
  },
  {
   "cell_type": "markdown",
   "metadata": {
    "id": "3NPasZ7t-nNG"
   },
   "source": [
    "### Boxplots\n",
    "\n",
    "![](https://miro.medium.com/max/18000/1*2c21SkzJMf3frPXPAR_gZA.png)"
   ]
  },
  {
   "cell_type": "markdown",
   "metadata": {
    "id": "kAe3BUnAt3YM"
   },
   "source": [
    "#### Quartile & Percentile\n",
    "\n",
    "**Quartile**:\n",
    "\n",
    "Quartiles divide a rank-ordered data set into four equal parts. The values that divide each part are called the first, second, and third quartiles; and they are denoted by Q1, Q2, and Q3, respectively.\n",
    "\n",
    "Note the relationship between quartiles and percentiles. Q1 corresponds to P25, Q2 corresponds to P50, Q3 corresponds to P75. Q2 is the median value in a set of data.\n",
    "\n",
    "---\n",
    "\n",
    "**Percentile**:\n",
    "\n",
    "Assume that the elements in a data set are rank ordered from the smallest to the largest. The values that divide a rank-ordered set of elements into 100 equal parts are called percentiles.\n",
    "\n",
    "An element having a percentile rank of Pi would have a greater value than i percent of all the elements in the set. Thus, the observation at the 50th percentile would be denoted P50, and it would be greater than 50 percent of the observations in the set. An observation at the 50th percentile would correspond to the median value in the set.\n",
    "\n",
    "[source](https://stattrek.com/descriptive-statistics/measures-of-position.aspx)\n"
   ]
  },
  {
   "cell_type": "markdown",
   "metadata": {
    "id": "OanNCAa6RuDD"
   },
   "source": [
    "#### Exercise\n",
    "\n",
    "In this exercise, you will first categorize the movie durations into three different categories:\n",
    "\n",
    "- Less than 2 Hours\n",
    "- 2-2.30 Hours\n",
    "- and More than 2.30\n",
    "\n",
    "Once you are done with the categorization, display the Rotten Tomatoes ratigns as boxplots per duration category. The resulting chart should look like the one below.\n",
    "\n",
    "*Bonus: Try to sort the boxes with respect to their median values.*\n",
    "\n",
    "![](https://i.ibb.co/SKt6Zb7/qs.png)"
   ]
  },
  {
   "cell_type": "code",
   "execution_count": null,
   "metadata": {
    "id": "luovyKUURq2_"
   },
   "outputs": [],
   "source": [
    "# your code"
   ]
  },
  {
   "cell_type": "code",
   "execution_count": 33,
   "metadata": {
    "executionInfo": {
     "elapsed": 389,
     "status": "ok",
     "timestamp": 1680617711946,
     "user": {
      "displayName": "Damla Erden (Student)",
      "userId": "14770221574056571138"
     },
     "user_tz": -180
    },
    "id": "VQoUGRj_-gO8"
   },
   "outputs": [],
   "source": [
    "# solution\n",
    "\n",
    "def categorize_duration(duration):\n",
    "  if duration < 120:\n",
    "    return 'Less than 2 Hours'\n",
    "  elif 120 <= duration <= 150:\n",
    "    return '2 - 2.30 Hours'\n",
    "  else:\n",
    "    return 'More than 2.30'\n",
    "\n",
    "df['Duration Category'] = df['Mins'].astype(int).apply(categorize_duration)\n",
    "\n",
    "duration_groups = df.groupby(by = 'Duration Category')\n",
    "\n",
    "value_dict = {}\n",
    "for key, vals in duration_groups.groups.items():\n",
    "  value_dict[key] = df.loc[vals]['Rotten Tomatoes Ratings'].dropna().values\n",
    "  # you may also extract the values with out dropping NAs\n",
    "  # in that case, you need to discard the NAs manually before providing to a function.\n",
    "  # In the cell below, the commented lines are for that scenario\n",
    "  #\n",
    "  #value_dict[key] = df.loc[vals]['Rotten Tomatoes Ratings'].values\n",
    "  #"
   ]
  },
  {
   "cell_type": "code",
   "execution_count": 34,
   "metadata": {
    "colab": {
     "base_uri": "https://localhost:8080/",
     "height": 472
    },
    "executionInfo": {
     "elapsed": 17,
     "status": "ok",
     "timestamp": 1680617723522,
     "user": {
      "displayName": "Damla Erden (Student)",
      "userId": "14770221574056571138"
     },
     "user_tz": -180
    },
    "id": "t-0Lau98_bij",
    "outputId": "aa5a6f64-57d9-4294-c9f1-becfab7a7314"
   },
   "outputs": [
    {
     "data": {
      "image/png": "[encoded data removed]",
      "text/plain": [
       "<Figure size 640x480 with 1 Axes>"
      ]
     },
     "metadata": {},
     "output_type": "display_data"
    }
   ],
   "source": [
    "ratings = sorted(value_dict.items(), key=lambda x: np.median(x[1]))\n",
    "#ratings = sorted(value_dict.items(), key=lambda x: np.nanmedian(x[1]))\n",
    "\n",
    "fig, ax = plt.subplots()\n",
    "\n",
    "ax.boxplot([val[1] for val in ratings])\n",
    "#ax.boxplot([[val for val in rating[1] if ~np.isnan(val)] for rating in ratings])\n",
    "ax.set_xticklabels([rating[0] for rating in ratings])\n",
    "ax.set_ylabel('Rotten Tomatoes Ratings')\n",
    "ax.set_xlabel('Movie Duration')\n",
    "ax.set_title('Rotten Tomatoes Ratings by Movie Durations')\n",
    "ax.grid();"
   ]
  },
  {
   "cell_type": "markdown",
   "metadata": {
    "id": "inubVKJhnAM2"
   },
   "source": [
    "### Bivariate Analysis\n",
    "\n",
    "![](https://www.i2tutorials.com/wp-content/uploads/2019/09/What-do-you-mean-by-Univariate-Bivariate-and-Multivariate-3-i2tutorials.png)\n",
    "\n"
   ]
  },
  {
   "cell_type": "markdown",
   "metadata": {
    "id": "qRZpG5fYuD_5"
   },
   "source": [
    "#### Heatmaps\n",
    "\n",
    "In order to display the correlations among variables in the data, you may also deploy a heatmap.\n",
    "\n",
    "![](https://miro.medium.com/max/3896/1*ALUzKhbL6_NLVHqhSUQDOg.png)"
   ]
  },
  {
   "cell_type": "code",
   "execution_count": 35,
   "metadata": {
    "colab": {
     "base_uri": "https://localhost:8080/",
     "height": 206
    },
    "executionInfo": {
     "elapsed": 483,
     "status": "ok",
     "timestamp": 1680617896970,
     "user": {
      "displayName": "Damla Erden (Student)",
      "userId": "14770221574056571138"
     },
     "user_tz": -180
    },
    "id": "34TU_TL4u7d6",
    "outputId": "33319799-64ed-4bdb-8d87-91198b548f66"
   },
   "outputs": [
    {
     "data": {
      "text/html": [
       "\n",
       "  <div id=\"df-ab751bd5-9e91-41bf-9c7f-df242998b170\">\n",
       "    <div class=\"colab-df-container\">\n",
       "      <div>\n",
       "<style scoped>\n",
       "    .dataframe tbody tr th:only-of-type {\n",
       "        vertical-align: middle;\n",
       "    }\n",
       "\n",
       "    .dataframe tbody tr th {\n",
       "        vertical-align: top;\n",
       "    }\n",
       "\n",
       "    .dataframe thead th {\n",
       "        text-align: right;\n",
       "    }\n",
       "</style>\n",
       "<table border=\"1\" class=\"dataframe\">\n",
       "  <thead>\n",
       "    <tr style=\"text-align: right;\">\n",
       "      <th></th>\n",
       "      <th>﻿Pos</th>\n",
       "      <th>2022</th>\n",
       "      <th>Title</th>\n",
       "      <th>Director</th>\n",
       "      <th>Year</th>\n",
       "      <th>Country</th>\n",
       "      <th>Mins</th>\n",
       "      <th>IMDB Ratings</th>\n",
       "      <th>Rotten Tomatoes Ratings</th>\n",
       "      <th>Duration Category</th>\n",
       "    </tr>\n",
       "  </thead>\n",
       "  <tbody>\n",
       "    <tr>\n",
       "      <th>0</th>\n",
       "      <td>1</td>\n",
       "      <td>1</td>\n",
       "      <td>Citizen Kane</td>\n",
       "      <td>Welles, Orson</td>\n",
       "      <td>1941</td>\n",
       "      <td>USA</td>\n",
       "      <td>119</td>\n",
       "      <td>8.3</td>\n",
       "      <td>99.0</td>\n",
       "      <td>Less than 2 Hours</td>\n",
       "    </tr>\n",
       "    <tr>\n",
       "      <th>1</th>\n",
       "      <td>2</td>\n",
       "      <td>2</td>\n",
       "      <td>Vertigo</td>\n",
       "      <td>Hitchcock, Alfred</td>\n",
       "      <td>1958</td>\n",
       "      <td>USA</td>\n",
       "      <td>128</td>\n",
       "      <td>8.3</td>\n",
       "      <td>92.0</td>\n",
       "      <td>2 - 2.30 Hours</td>\n",
       "    </tr>\n",
       "    <tr>\n",
       "      <th>2</th>\n",
       "      <td>3</td>\n",
       "      <td>3</td>\n",
       "      <td>2001: A Space Odyssey</td>\n",
       "      <td>Kubrick, Stanley</td>\n",
       "      <td>1968</td>\n",
       "      <td>UK</td>\n",
       "      <td>139</td>\n",
       "      <td>8.3</td>\n",
       "      <td>91.0</td>\n",
       "      <td>2 - 2.30 Hours</td>\n",
       "    </tr>\n",
       "    <tr>\n",
       "      <th>3</th>\n",
       "      <td>4</td>\n",
       "      <td>5</td>\n",
       "      <td>Tokyo Story</td>\n",
       "      <td>Ozu, Yasujiro</td>\n",
       "      <td>1953</td>\n",
       "      <td>Japan</td>\n",
       "      <td>134</td>\n",
       "      <td>8.2</td>\n",
       "      <td>100.0</td>\n",
       "      <td>2 - 2.30 Hours</td>\n",
       "    </tr>\n",
       "    <tr>\n",
       "      <th>4</th>\n",
       "      <td>5</td>\n",
       "      <td>4</td>\n",
       "      <td>The Rules of the Game</td>\n",
       "      <td>Renoir, Jean</td>\n",
       "      <td>1939</td>\n",
       "      <td>France</td>\n",
       "      <td>113</td>\n",
       "      <td>7.9</td>\n",
       "      <td>96.0</td>\n",
       "      <td>Less than 2 Hours</td>\n",
       "    </tr>\n",
       "  </tbody>\n",
       "</table>\n",
       "</div>\n",
       "      <button class=\"colab-df-convert\" onclick=\"convertToInteractive('df-ab751bd5-9e91-41bf-9c7f-df242998b170')\"\n",
       "              title=\"Convert this dataframe to an interactive table.\"\n",
       "              style=\"display:none;\">\n",
       "        \n",
       "  <svg xmlns=\"http://www.w3.org/2000/svg\" height=\"24px\"viewBox=\"0 0 24 24\"\n",
       "       width=\"24px\">\n",
       "    <path d=\"M0 0h24v24H0V0z\" fill=\"none\"/>\n",
       "    <path d=\"M18.56 5.44l.94 2.06.94-2.06 2.06-.94-2.06-.94-.94-2.06-.94 2.06-2.06.94zm-11 1L8.5 8.5l.94-2.06 2.06-.94-2.06-.94L8.5 2.5l-.94 2.06-2.06.94zm10 10l.94 2.06.94-2.06 2.06-.94-2.06-.94-.94-2.06-.94 2.06-2.06.94z\"/><path d=\"M17.41 7.96l-1.37-1.37c-.4-.4-.92-.59-1.43-.59-.52 0-1.04.2-1.43.59L10.3 9.45l-7.72 7.72c-.78.78-.78 2.05 0 2.83L4 21.41c.39.39.9.59 1.41.59.51 0 1.02-.2 1.41-.59l7.78-7.78 2.81-2.81c.8-.78.8-2.07 0-2.86zM5.41 20L4 18.59l7.72-7.72 1.47 1.35L5.41 20z\"/>\n",
       "  </svg>\n",
       "      </button>\n",
       "      \n",
       "  <style>\n",
       "    .colab-df-container {\n",
       "      display:flex;\n",
       "      flex-wrap:wrap;\n",
       "      gap: 12px;\n",
       "    }\n",
       "\n",
       "    .colab-df-convert {\n",
       "      background-color: #E8F0FE;\n",
       "      border: none;\n",
       "      border-radius: 50%;\n",
       "      cursor: pointer;\n",
       "      display: none;\n",
       "      fill: #1967D2;\n",
       "      height: 32px;\n",
       "      padding: 0 0 0 0;\n",
       "      width: 32px;\n",
       "    }\n",
       "\n",
       "    .colab-df-convert:hover {\n",
       "      background-color: #E2EBFA;\n",
       "      box-shadow: 0px 1px 2px rgba(60, 64, 67, 0.3), 0px 1px 3px 1px rgba(60, 64, 67, 0.15);\n",
       "      fill: #174EA6;\n",
       "    }\n",
       "\n",
       "    [theme=dark] .colab-df-convert {\n",
       "      background-color: #3B4455;\n",
       "      fill: #D2E3FC;\n",
       "    }\n",
       "\n",
       "    [theme=dark] .colab-df-convert:hover {\n",
       "      background-color: #434B5C;\n",
       "      box-shadow: 0px 1px 3px 1px rgba(0, 0, 0, 0.15);\n",
       "      filter: drop-shadow(0px 1px 2px rgba(0, 0, 0, 0.3));\n",
       "      fill: #FFFFFF;\n",
       "    }\n",
       "  </style>\n",
       "\n",
       "      <script>\n",
       "        const buttonEl =\n",
       "          document.querySelector('#df-ab751bd5-9e91-41bf-9c7f-df242998b170 button.colab-df-convert');\n",
       "        buttonEl.style.display =\n",
       "          google.colab.kernel.accessAllowed ? 'block' : 'none';\n",
       "\n",
       "        async function convertToInteractive(key) {\n",
       "          const element = document.querySelector('#df-ab751bd5-9e91-41bf-9c7f-df242998b170');\n",
       "          const dataTable =\n",
       "            await google.colab.kernel.invokeFunction('convertToInteractive',\n",
       "                                                     [key], {});\n",
       "          if (!dataTable) return;\n",
       "\n",
       "          const docLinkHtml = 'Like what you see? Visit the ' +\n",
       "            '<a target=\"_blank\" href=https://colab.research.google.com/notebooks/data_table.ipynb>data table notebook</a>'\n",
       "            + ' to learn more about interactive tables.';\n",
       "          element.innerHTML = '';\n",
       "          dataTable['output_type'] = 'display_data';\n",
       "          await google.colab.output.renderOutput(dataTable, element);\n",
       "          const docLink = document.createElement('div');\n",
       "          docLink.innerHTML = docLinkHtml;\n",
       "          element.appendChild(docLink);\n",
       "        }\n",
       "      </script>\n",
       "    </div>\n",
       "  </div>\n",
       "  "
      ],
      "text/plain": [
       "  ﻿Pos 2022                  Title           Director  Year Country Mins  \\\n",
       "0    1    1           Citizen Kane      Welles, Orson  1941     USA  119   \n",
       "1    2    2                Vertigo  Hitchcock, Alfred  1958     USA  128   \n",
       "2    3    3  2001: A Space Odyssey   Kubrick, Stanley  1968      UK  139   \n",
       "3    4    5            Tokyo Story      Ozu, Yasujiro  1953   Japan  134   \n",
       "4    5    4  The Rules of the Game       Renoir, Jean  1939  France  113   \n",
       "\n",
       "   IMDB Ratings  Rotten Tomatoes Ratings  Duration Category  \n",
       "0           8.3                     99.0  Less than 2 Hours  \n",
       "1           8.3                     92.0     2 - 2.30 Hours  \n",
       "2           8.3                     91.0     2 - 2.30 Hours  \n",
       "3           8.2                    100.0     2 - 2.30 Hours  \n",
       "4           7.9                     96.0  Less than 2 Hours  "
      ]
     },
     "execution_count": 35,
     "metadata": {},
     "output_type": "execute_result"
    }
   ],
   "source": [
    "df.head()"
   ]
  },
  {
   "cell_type": "markdown",
   "metadata": {
    "id": "lQFwXPftvBKB"
   },
   "source": [
    "In order to compute the correlation among the variables in a dataframe, we can directly call the `corr` method which returns another dataframe that stores the correlation coefficients.\n",
    "\n",
    "However, before calling the method, we can still perform operations that will enrich our correlation study on the movie ratings dataset. By creating a new column that displays movie age, we can add the movie age information to correlation calculations. In addition to that, if we convert `Mins` column to integer values, we can also see whether movie length is correlated with ratings."
   ]
  },
  {
   "cell_type": "code",
   "execution_count": 36,
   "metadata": {
    "colab": {
     "base_uri": "https://localhost:8080/",
     "height": 206
    },
    "executionInfo": {
     "elapsed": 1198,
     "status": "ok",
     "timestamp": 1680617946895,
     "user": {
      "displayName": "Damla Erden (Student)",
      "userId": "14770221574056571138"
     },
     "user_tz": -180
    },
    "id": "nR5q93T6D0OW",
    "outputId": "05fcb584-5b74-4bfe-dbdd-2a5ff2357e29"
   },
   "outputs": [
    {
     "data": {
      "text/html": [
       "\n",
       "  <div id=\"df-3e19f28b-b6f5-46f4-aac9-fa28c998fe29\">\n",
       "    <div class=\"colab-df-container\">\n",
       "      <div>\n",
       "<style scoped>\n",
       "    .dataframe tbody tr th:only-of-type {\n",
       "        vertical-align: middle;\n",
       "    }\n",
       "\n",
       "    .dataframe tbody tr th {\n",
       "        vertical-align: top;\n",
       "    }\n",
       "\n",
       "    .dataframe thead th {\n",
       "        text-align: right;\n",
       "    }\n",
       "</style>\n",
       "<table border=\"1\" class=\"dataframe\">\n",
       "  <thead>\n",
       "    <tr style=\"text-align: right;\">\n",
       "      <th></th>\n",
       "      <th>﻿Pos</th>\n",
       "      <th>2022</th>\n",
       "      <th>Title</th>\n",
       "      <th>Director</th>\n",
       "      <th>Year</th>\n",
       "      <th>Country</th>\n",
       "      <th>Mins</th>\n",
       "      <th>IMDB Ratings</th>\n",
       "      <th>Rotten Tomatoes Ratings</th>\n",
       "      <th>Duration Category</th>\n",
       "      <th>Movie Age</th>\n",
       "    </tr>\n",
       "  </thead>\n",
       "  <tbody>\n",
       "    <tr>\n",
       "      <th>0</th>\n",
       "      <td>1</td>\n",
       "      <td>1</td>\n",
       "      <td>Citizen Kane</td>\n",
       "      <td>Welles, Orson</td>\n",
       "      <td>1941</td>\n",
       "      <td>USA</td>\n",
       "      <td>119</td>\n",
       "      <td>8.3</td>\n",
       "      <td>99.0</td>\n",
       "      <td>Less than 2 Hours</td>\n",
       "      <td>79</td>\n",
       "    </tr>\n",
       "    <tr>\n",
       "      <th>1</th>\n",
       "      <td>2</td>\n",
       "      <td>2</td>\n",
       "      <td>Vertigo</td>\n",
       "      <td>Hitchcock, Alfred</td>\n",
       "      <td>1958</td>\n",
       "      <td>USA</td>\n",
       "      <td>128</td>\n",
       "      <td>8.3</td>\n",
       "      <td>92.0</td>\n",
       "      <td>2 - 2.30 Hours</td>\n",
       "      <td>62</td>\n",
       "    </tr>\n",
       "    <tr>\n",
       "      <th>2</th>\n",
       "      <td>3</td>\n",
       "      <td>3</td>\n",
       "      <td>2001: A Space Odyssey</td>\n",
       "      <td>Kubrick, Stanley</td>\n",
       "      <td>1968</td>\n",
       "      <td>UK</td>\n",
       "      <td>139</td>\n",
       "      <td>8.3</td>\n",
       "      <td>91.0</td>\n",
       "      <td>2 - 2.30 Hours</td>\n",
       "      <td>52</td>\n",
       "    </tr>\n",
       "    <tr>\n",
       "      <th>3</th>\n",
       "      <td>4</td>\n",
       "      <td>5</td>\n",
       "      <td>Tokyo Story</td>\n",
       "      <td>Ozu, Yasujiro</td>\n",
       "      <td>1953</td>\n",
       "      <td>Japan</td>\n",
       "      <td>134</td>\n",
       "      <td>8.2</td>\n",
       "      <td>100.0</td>\n",
       "      <td>2 - 2.30 Hours</td>\n",
       "      <td>67</td>\n",
       "    </tr>\n",
       "    <tr>\n",
       "      <th>4</th>\n",
       "      <td>5</td>\n",
       "      <td>4</td>\n",
       "      <td>The Rules of the Game</td>\n",
       "      <td>Renoir, Jean</td>\n",
       "      <td>1939</td>\n",
       "      <td>France</td>\n",
       "      <td>113</td>\n",
       "      <td>7.9</td>\n",
       "      <td>96.0</td>\n",
       "      <td>Less than 2 Hours</td>\n",
       "      <td>81</td>\n",
       "    </tr>\n",
       "  </tbody>\n",
       "</table>\n",
       "</div>\n",
       "      <button class=\"colab-df-convert\" onclick=\"convertToInteractive('df-3e19f28b-b6f5-46f4-aac9-fa28c998fe29')\"\n",
       "              title=\"Convert this dataframe to an interactive table.\"\n",
       "              style=\"display:none;\">\n",
       "        \n",
       "  <svg xmlns=\"http://www.w3.org/2000/svg\" height=\"24px\"viewBox=\"0 0 24 24\"\n",
       "       width=\"24px\">\n",
       "    <path d=\"M0 0h24v24H0V0z\" fill=\"none\"/>\n",
       "    <path d=\"M18.56 5.44l.94 2.06.94-2.06 2.06-.94-2.06-.94-.94-2.06-.94 2.06-2.06.94zm-11 1L8.5 8.5l.94-2.06 2.06-.94-2.06-.94L8.5 2.5l-.94 2.06-2.06.94zm10 10l.94 2.06.94-2.06 2.06-.94-2.06-.94-.94-2.06-.94 2.06-2.06.94z\"/><path d=\"M17.41 7.96l-1.37-1.37c-.4-.4-.92-.59-1.43-.59-.52 0-1.04.2-1.43.59L10.3 9.45l-7.72 7.72c-.78.78-.78 2.05 0 2.83L4 21.41c.39.39.9.59 1.41.59.51 0 1.02-.2 1.41-.59l7.78-7.78 2.81-2.81c.8-.78.8-2.07 0-2.86zM5.41 20L4 18.59l7.72-7.72 1.47 1.35L5.41 20z\"/>\n",
       "  </svg>\n",
       "      </button>\n",
       "      \n",
       "  <style>\n",
       "    .colab-df-container {\n",
       "      display:flex;\n",
       "      flex-wrap:wrap;\n",
       "      gap: 12px;\n",
       "    }\n",
       "\n",
       "    .colab-df-convert {\n",
       "      background-color: #E8F0FE;\n",
       "      border: none;\n",
       "      border-radius: 50%;\n",
       "      cursor: pointer;\n",
       "      display: none;\n",
       "      fill: #1967D2;\n",
       "      height: 32px;\n",
       "      padding: 0 0 0 0;\n",
       "      width: 32px;\n",
       "    }\n",
       "\n",
       "    .colab-df-convert:hover {\n",
       "      background-color: #E2EBFA;\n",
       "      box-shadow: 0px 1px 2px rgba(60, 64, 67, 0.3), 0px 1px 3px 1px rgba(60, 64, 67, 0.15);\n",
       "      fill: #174EA6;\n",
       "    }\n",
       "\n",
       "    [theme=dark] .colab-df-convert {\n",
       "      background-color: #3B4455;\n",
       "      fill: #D2E3FC;\n",
       "    }\n",
       "\n",
       "    [theme=dark] .colab-df-convert:hover {\n",
       "      background-color: #434B5C;\n",
       "      box-shadow: 0px 1px 3px 1px rgba(0, 0, 0, 0.15);\n",
       "      filter: drop-shadow(0px 1px 2px rgba(0, 0, 0, 0.3));\n",
       "      fill: #FFFFFF;\n",
       "    }\n",
       "  </style>\n",
       "\n",
       "      <script>\n",
       "        const buttonEl =\n",
       "          document.querySelector('#df-3e19f28b-b6f5-46f4-aac9-fa28c998fe29 button.colab-df-convert');\n",
       "        buttonEl.style.display =\n",
       "          google.colab.kernel.accessAllowed ? 'block' : 'none';\n",
       "\n",
       "        async function convertToInteractive(key) {\n",
       "          const element = document.querySelector('#df-3e19f28b-b6f5-46f4-aac9-fa28c998fe29');\n",
       "          const dataTable =\n",
       "            await google.colab.kernel.invokeFunction('convertToInteractive',\n",
       "                                                     [key], {});\n",
       "          if (!dataTable) return;\n",
       "\n",
       "          const docLinkHtml = 'Like what you see? Visit the ' +\n",
       "            '<a target=\"_blank\" href=https://colab.research.google.com/notebooks/data_table.ipynb>data table notebook</a>'\n",
       "            + ' to learn more about interactive tables.';\n",
       "          element.innerHTML = '';\n",
       "          dataTable['output_type'] = 'display_data';\n",
       "          await google.colab.output.renderOutput(dataTable, element);\n",
       "          const docLink = document.createElement('div');\n",
       "          docLink.innerHTML = docLinkHtml;\n",
       "          element.appendChild(docLink);\n",
       "        }\n",
       "      </script>\n",
       "    </div>\n",
       "  </div>\n",
       "  "
      ],
      "text/plain": [
       "  ﻿Pos 2022                  Title           Director  Year Country  Mins  \\\n",
       "0    1    1           Citizen Kane      Welles, Orson  1941     USA   119   \n",
       "1    2    2                Vertigo  Hitchcock, Alfred  1958     USA   128   \n",
       "2    3    3  2001: A Space Odyssey   Kubrick, Stanley  1968      UK   139   \n",
       "3    4    5            Tokyo Story      Ozu, Yasujiro  1953   Japan   134   \n",
       "4    5    4  The Rules of the Game       Renoir, Jean  1939  France   113   \n",
       "\n",
       "   IMDB Ratings  Rotten Tomatoes Ratings  Duration Category  Movie Age  \n",
       "0           8.3                     99.0  Less than 2 Hours         79  \n",
       "1           8.3                     92.0     2 - 2.30 Hours         62  \n",
       "2           8.3                     91.0     2 - 2.30 Hours         52  \n",
       "3           8.2                    100.0     2 - 2.30 Hours         67  \n",
       "4           7.9                     96.0  Less than 2 Hours         81  "
      ]
     },
     "execution_count": 36,
     "metadata": {},
     "output_type": "execute_result"
    }
   ],
   "source": [
    "# creating a new column called Movie Age\n",
    "df['Movie Age'] = df['Year'].apply(lambda x : 2020 - int(x))  \n",
    "\n",
    "# also converting Mins column to integer to add it to correlation calculations\n",
    "df['Mins'] = df['Mins'].astype(int)\n",
    "\n",
    "df.head()"
   ]
  },
  {
   "cell_type": "code",
   "execution_count": 37,
   "metadata": {
    "colab": {
     "base_uri": "https://localhost:8080/",
     "height": 175
    },
    "executionInfo": {
     "elapsed": 325,
     "status": "ok",
     "timestamp": 1680617981824,
     "user": {
      "displayName": "Damla Erden (Student)",
      "userId": "14770221574056571138"
     },
     "user_tz": -180
    },
    "id": "mu1o4WYmDn3j",
    "outputId": "70861f8e-6377-4542-cbae-93db885ddb27"
   },
   "outputs": [
    {
     "data": {
      "text/html": [
       "\n",
       "  <div id=\"df-92e6636d-b06b-4e1b-94b4-993fb21e891a\">\n",
       "    <div class=\"colab-df-container\">\n",
       "      <div>\n",
       "<style scoped>\n",
       "    .dataframe tbody tr th:only-of-type {\n",
       "        vertical-align: middle;\n",
       "    }\n",
       "\n",
       "    .dataframe tbody tr th {\n",
       "        vertical-align: top;\n",
       "    }\n",
       "\n",
       "    .dataframe thead th {\n",
       "        text-align: right;\n",
       "    }\n",
       "</style>\n",
       "<table border=\"1\" class=\"dataframe\">\n",
       "  <thead>\n",
       "    <tr style=\"text-align: right;\">\n",
       "      <th></th>\n",
       "      <th>Mins</th>\n",
       "      <th>IMDB Ratings</th>\n",
       "      <th>Rotten Tomatoes Ratings</th>\n",
       "      <th>Movie Age</th>\n",
       "    </tr>\n",
       "  </thead>\n",
       "  <tbody>\n",
       "    <tr>\n",
       "      <th>Mins</th>\n",
       "      <td>1.000000</td>\n",
       "      <td>0.326442</td>\n",
       "      <td>0.093798</td>\n",
       "      <td>-0.320796</td>\n",
       "    </tr>\n",
       "    <tr>\n",
       "      <th>IMDB Ratings</th>\n",
       "      <td>0.326442</td>\n",
       "      <td>1.000000</td>\n",
       "      <td>0.361575</td>\n",
       "      <td>0.037447</td>\n",
       "    </tr>\n",
       "    <tr>\n",
       "      <th>Rotten Tomatoes Ratings</th>\n",
       "      <td>0.093798</td>\n",
       "      <td>0.361575</td>\n",
       "      <td>1.000000</td>\n",
       "      <td>0.355661</td>\n",
       "    </tr>\n",
       "    <tr>\n",
       "      <th>Movie Age</th>\n",
       "      <td>-0.320796</td>\n",
       "      <td>0.037447</td>\n",
       "      <td>0.355661</td>\n",
       "      <td>1.000000</td>\n",
       "    </tr>\n",
       "  </tbody>\n",
       "</table>\n",
       "</div>\n",
       "      <button class=\"colab-df-convert\" onclick=\"convertToInteractive('df-92e6636d-b06b-4e1b-94b4-993fb21e891a')\"\n",
       "              title=\"Convert this dataframe to an interactive table.\"\n",
       "              style=\"display:none;\">\n",
       "        \n",
       "  <svg xmlns=\"http://www.w3.org/2000/svg\" height=\"24px\"viewBox=\"0 0 24 24\"\n",
       "       width=\"24px\">\n",
       "    <path d=\"M0 0h24v24H0V0z\" fill=\"none\"/>\n",
       "    <path d=\"M18.56 5.44l.94 2.06.94-2.06 2.06-.94-2.06-.94-.94-2.06-.94 2.06-2.06.94zm-11 1L8.5 8.5l.94-2.06 2.06-.94-2.06-.94L8.5 2.5l-.94 2.06-2.06.94zm10 10l.94 2.06.94-2.06 2.06-.94-2.06-.94-.94-2.06-.94 2.06-2.06.94z\"/><path d=\"M17.41 7.96l-1.37-1.37c-.4-.4-.92-.59-1.43-.59-.52 0-1.04.2-1.43.59L10.3 9.45l-7.72 7.72c-.78.78-.78 2.05 0 2.83L4 21.41c.39.39.9.59 1.41.59.51 0 1.02-.2 1.41-.59l7.78-7.78 2.81-2.81c.8-.78.8-2.07 0-2.86zM5.41 20L4 18.59l7.72-7.72 1.47 1.35L5.41 20z\"/>\n",
       "  </svg>\n",
       "      </button>\n",
       "      \n",
       "  <style>\n",
       "    .colab-df-container {\n",
       "      display:flex;\n",
       "      flex-wrap:wrap;\n",
       "      gap: 12px;\n",
       "    }\n",
       "\n",
       "    .colab-df-convert {\n",
       "      background-color: #E8F0FE;\n",
       "      border: none;\n",
       "      border-radius: 50%;\n",
       "      cursor: pointer;\n",
       "      display: none;\n",
       "      fill: #1967D2;\n",
       "      height: 32px;\n",
       "      padding: 0 0 0 0;\n",
       "      width: 32px;\n",
       "    }\n",
       "\n",
       "    .colab-df-convert:hover {\n",
       "      background-color: #E2EBFA;\n",
       "      box-shadow: 0px 1px 2px rgba(60, 64, 67, 0.3), 0px 1px 3px 1px rgba(60, 64, 67, 0.15);\n",
       "      fill: #174EA6;\n",
       "    }\n",
       "\n",
       "    [theme=dark] .colab-df-convert {\n",
       "      background-color: #3B4455;\n",
       "      fill: #D2E3FC;\n",
       "    }\n",
       "\n",
       "    [theme=dark] .colab-df-convert:hover {\n",
       "      background-color: #434B5C;\n",
       "      box-shadow: 0px 1px 3px 1px rgba(0, 0, 0, 0.15);\n",
       "      filter: drop-shadow(0px 1px 2px rgba(0, 0, 0, 0.3));\n",
       "      fill: #FFFFFF;\n",
       "    }\n",
       "  </style>\n",
       "\n",
       "      <script>\n",
       "        const buttonEl =\n",
       "          document.querySelector('#df-92e6636d-b06b-4e1b-94b4-993fb21e891a button.colab-df-convert');\n",
       "        buttonEl.style.display =\n",
       "          google.colab.kernel.accessAllowed ? 'block' : 'none';\n",
       "\n",
       "        async function convertToInteractive(key) {\n",
       "          const element = document.querySelector('#df-92e6636d-b06b-4e1b-94b4-993fb21e891a');\n",
       "          const dataTable =\n",
       "            await google.colab.kernel.invokeFunction('convertToInteractive',\n",
       "                                                     [key], {});\n",
       "          if (!dataTable) return;\n",
       "\n",
       "          const docLinkHtml = 'Like what you see? Visit the ' +\n",
       "            '<a target=\"_blank\" href=https://colab.research.google.com/notebooks/data_table.ipynb>data table notebook</a>'\n",
       "            + ' to learn more about interactive tables.';\n",
       "          element.innerHTML = '';\n",
       "          dataTable['output_type'] = 'display_data';\n",
       "          await google.colab.output.renderOutput(dataTable, element);\n",
       "          const docLink = document.createElement('div');\n",
       "          docLink.innerHTML = docLinkHtml;\n",
       "          element.appendChild(docLink);\n",
       "        }\n",
       "      </script>\n",
       "    </div>\n",
       "  </div>\n",
       "  "
      ],
      "text/plain": [
       "                             Mins  IMDB Ratings  Rotten Tomatoes Ratings  \\\n",
       "Mins                     1.000000      0.326442                 0.093798   \n",
       "IMDB Ratings             0.326442      1.000000                 0.361575   \n",
       "Rotten Tomatoes Ratings  0.093798      0.361575                 1.000000   \n",
       "Movie Age               -0.320796      0.037447                 0.355661   \n",
       "\n",
       "                         Movie Age  \n",
       "Mins                     -0.320796  \n",
       "IMDB Ratings              0.037447  \n",
       "Rotten Tomatoes Ratings   0.355661  \n",
       "Movie Age                 1.000000  "
      ]
     },
     "execution_count": 37,
     "metadata": {},
     "output_type": "execute_result"
    }
   ],
   "source": [
    "corrs = df.corr()\n",
    "corrs"
   ]
  },
  {
   "cell_type": "code",
   "execution_count": 38,
   "metadata": {
    "colab": {
     "base_uri": "https://localhost:8080/",
     "height": 592
    },
    "executionInfo": {
     "elapsed": 696,
     "status": "ok",
     "timestamp": 1680618004975,
     "user": {
      "displayName": "Damla Erden (Student)",
      "userId": "14770221574056571138"
     },
     "user_tz": -180
    },
    "id": "7G2EBimUuF94",
    "outputId": "4b369d87-ee4f-4608-85a5-1abc9033699b"
   },
   "outputs": [
    {
     "data": {
      "image/png": "[encoded data removed]",
      "text/plain": [
       "<Figure size 640x480 with 2 Axes>"
      ]
     },
     "metadata": {},
     "output_type": "display_data"
    }
   ],
   "source": [
    "plt.imshow(corrs, cmap=\"GnBu\", vmin = -1, vmax = 1)\n",
    "plt.colorbar()\n",
    "plt.xticks(range(len(corrs)),corrs.columns, rotation=75)\n",
    "plt.yticks(range(len(corrs)),corrs.index)\n",
    "plt.show()"
   ]
  }
 ],
 "metadata": {
  "colab": {
   "provenance": []
  },
  "kernelspec": {
   "display_name": "Python 3 (ipykernel)",
   "language": "python",
   "name": "python3"
  },
  "language_info": {
   "codemirror_mode": {
    "name": "ipython",
    "version": 3
   },
   "file_extension": ".py",
   "mimetype": "text/x-python",
   "name": "python",
   "nbconvert_exporter": "python",
   "pygments_lexer": "ipython3",
   "version": "3.11.2"
  }
 },
 "nbformat": 4,
 "nbformat_minor": 1
}
