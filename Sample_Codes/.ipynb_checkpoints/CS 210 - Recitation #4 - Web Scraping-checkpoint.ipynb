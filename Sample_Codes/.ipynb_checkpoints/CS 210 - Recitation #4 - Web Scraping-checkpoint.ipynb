{
 "cells": [
  {
   "cell_type": "markdown",
   "id": "fee5b785",
   "metadata": {
    "id": "fee5b785"
   },
   "source": [
    "# Conceptual Background"
   ]
  },
  {
   "cell_type": "markdown",
   "id": "3b6cb9a0",
   "metadata": {
    "id": "3b6cb9a0"
   },
   "source": [
    "## Data Collection\n",
    "\n",
    "In this lecture, we are going to see some of the examples on how to extract data from online resources.  \n",
    "Particularly, web scraping and API use cases will be examined."
   ]
  },
  {
   "cell_type": "markdown",
   "id": "2ea0e038",
   "metadata": {
    "id": "2ea0e038"
   },
   "source": [
    "## A General Pipeline\n",
    "\n",
    "*Data Collection*\n",
    "> The process of gathering and measuring information on variables of interest, in an established systematic fashion that enables one to answer queries, stated research questions, test hypotheses, and evaluate outcomes.\n",
    "\n",
    "<div>\n",
    "<img src=\"https://miro.medium.com/max/1200/1*ZWcBynyugbLpWcU3QWH7Tg.jpeg\" alt=\"project-flow\" width=\"500\" height=\"600\"/>\n",
    "</div>\n"
   ]
  },
  {
   "cell_type": "markdown",
   "id": "6ed72a8a",
   "metadata": {
    "id": "6ed72a8a"
   },
   "source": [
    "## Web Scraping & APIs\n",
    "\n",
    "A data scientist doesn’t always get data handed to them in a CSV or an easily accessible database. In those cases, you need to manually extract the data from various resources. To this end, we have specialized tools. \n",
    "\n",
    "For instance, most of the web sources, such as IMDB, provide a set of protocols/methods for outside connections to interact with their database. These protocols/methods are aggregated as an **API** (Application Programming Interface). An API can be used in numerous contexts, such OS or web-dev like here. The idea is to have an outer interface for those who wish access a set of resources. In our case, this resource is particularly a dataset.\n",
    "\n",
    "However, there might be some cases in which an API does not exist. The desired data is embedded in the raw HTML file and enclosed by various tags. In those cases, we need to parse the document and extract the desired data. To this end, we have **web scraping** concept in which the HTML file is parsed and stored as a tree to preserve the hierarchical relationship between tags.\n",
    "\n"
   ]
  },
  {
   "cell_type": "markdown",
   "id": "46768ddd",
   "metadata": {
    "id": "46768ddd"
   },
   "source": [
    "## Web Scraping\n",
    "\n",
    "Web scraping is a technique to automatically access and extract large amounts of information from a website, which can save a huge amount of time and effort.\n",
    "\n",
    "\n",
    "![](https://pbs.twimg.com/media/EGwqy2OWwAAi6-F?format=jpg&name=small)"
   ]
  },
  {
   "cell_type": "markdown",
   "id": "c10dd131",
   "metadata": {
    "id": "c10dd131"
   },
   "source": [
    "## Working with APIs\n",
    "\n",
    "The term API is an acronym, and it stands for \"**Application Programming Interface**\". Think of an API like a menu in a restaurant. The menu provides a list of dishes you can order, along with a description of each dish. When you specify what menu items you want, the restaurant’s kitchen does the work and provides you with some finished dishes. You don’t know exactly how the restaurant prepares that food, and you don’t really need to.\n",
    "\n",
    "![](https://miro.medium.com/max/1200/1*3h95bN2_xe-eitwHh_Ygvw.png)"
   ]
  },
  {
   "cell_type": "markdown",
   "id": "50031289",
   "metadata": {
    "id": "50031289"
   },
   "source": [
    "# 1. Request library"
   ]
  },
  {
   "cell_type": "markdown",
   "id": "43c448ea",
   "metadata": {
    "id": "43c448ea"
   },
   "source": [
    "## HTTP Requests\n",
    "\n",
    "HTTP stands for Hypertext Transfer Protocol and is used to structure requests and responses over the internet. HTTP requires data to be transferred from one point to another over the network. You may think of it as the command language that the devices on both sides of the connection must follow in order to communicate.\n",
    "\n",
    "\n",
    "|Command (HTTP CODE)|CRUD Operation|Sample Endpoint|Description|\n",
    "|---|---|---|---|\n",
    "|get (GET)|Read (Retrieve)|http://example.com/resources/item17|Retrieve a representation of the addressed member of the collection, expressed in an appropriate Internet media type.|\n",
    "|post (POST)|Create\tCollection|http://example.com/resources/|Create a new entry in the collection. The new entry's URL is assigned automatically and is usually returned by the operation.|\n",
    "|put (PUT)|Update|http://example.com/resources/item17|Replace the addressed member of the collection, or if it doesn't exist, create it|.\n",
    "|delete (DELETE)|Delete (Destroy)|http://example.com/resources/item17|Delete the addressed member of the collection.|\n",
    "||||**Table 1 Methods and sample endpoints.**|\n",
    "\n",
    "Below, you may find a sample request from [Twitter's official API page](https://developer.twitter.com/en/docs/tweets/search/api-reference/get-search-tweets).\n",
    "\n",
    "![](https://pbs.twimg.com/media/EGsWEYwX0AADYm8?format=jpg&name=large)\n",
    "\n",
    "In return, this request is replied with a set of extracted tweets in **json** format. \n",
    "\n",
    "JSON is short for JavaScript Object Notation, and is a way to store information in an organized, easy-to-access manner. In a nutshell, it gives us a human-readable collection of data that we can access in a really logical manner. You may think of them as a generalized dictionary object across various languages.\n",
    "\n"
   ]
  },
  {
   "cell_type": "markdown",
   "id": "27d63ee4",
   "metadata": {
    "id": "27d63ee4"
   },
   "source": [
    "### Requests: Making HTTP Requests!\n",
    "\n",
    "This is the de facto standard library for making HTTP requests in Python. It abstracts the complexities of making requests behind a beautiful, simple API so that you can focus on interacting with services and consuming data in your application.\n",
    "\n",
    "As mentioned before, the `GET` method indicates that you’re trying to get or retrieve data from a specified resource. To make a GET request with `requests` library, just call requests.get(url) with url as the target webpage."
   ]
  },
  {
   "cell_type": "code",
   "execution_count": null,
   "id": "afd97f14",
   "metadata": {
    "id": "afd97f14"
   },
   "outputs": [],
   "source": [
    "# the library comes built-in with colab\n",
    "import requests "
   ]
  },
  {
   "cell_type": "code",
   "execution_count": null,
   "id": "110017bc",
   "metadata": {
    "id": "110017bc"
   },
   "outputs": [],
   "source": [
    "url = \"http://www.google.com\"\n",
    "# making a GET request\n",
    "res = requests.get(url)"
   ]
  },
  {
   "cell_type": "code",
   "execution_count": null,
   "id": "da9e6297",
   "metadata": {
    "colab": {
     "base_uri": "https://localhost:8080/"
    },
    "id": "da9e6297",
    "outputId": "1c6835fe-b3f4-4de6-f683-c46958f91cc1"
   },
   "outputs": [
    {
     "data": {
      "text/plain": [
       "200"
      ]
     },
     "execution_count": 3,
     "metadata": {},
     "output_type": "execute_result"
    }
   ],
   "source": [
    "# success code\n",
    "res.status_code"
   ]
  },
  {
   "cell_type": "code",
   "execution_count": null,
   "id": "8363c9de",
   "metadata": {
    "colab": {
     "base_uri": "https://localhost:8080/"
    },
    "id": "8363c9de",
    "outputId": "d0793d02-4669-477a-fe13-d407870ebdf7"
   },
   "outputs": [
    {
     "data": {
      "text/plain": [
       "b'<!doctype html><html itemscope=\"\" itemtype=\"http://schema.org/WebPage\" lang=\"en\"><head><meta content=\"Search the world\\'s information, including webpages, images, videos and more. Google has many special features to help you find exactly what you\\'re looking for.\" name=\"description\"><meta content=\"noodp\" name=\"robots\"><meta content=\"text/html; charset=UTF-8\" http-equiv=\"Content-Type\"><meta content=\"/images/branding/googleg/1x/googleg_standard_color_128dp.png\" itemprop=\"image\"><title>Google</title><script nonce=\"zNCVoSUImKpOlGVI9hOz8Q\">(function(){window.google={kEI:\\'O4MgZIHTIrWw5NoP8_61qAg\\',kEXPI:\\'0,1303426,55983,6059,206,4804,2316,383,246,5,1129120,1197708,693,380089,16109,28690,22430,1362,12317,17582,4998,13228,3847,36218,2226,2872,2891,561,3365,8434,29843,30847,15324,432,3,346,1244,1,5445,11471,2652,4,1528,2304,11926,17136,13063,13660,2980,1457,9358,7428,5821,2536,4094,7596,1,42154,2,14022,2373,342,23024,5679,1020,31123,4568,6258,23418,1252,5835,14968,4332,7484,445,2,2,1,26632,8155,7381,2,3,15965,872,9626,10008,7,1922,9779,21391,14763,6305,19772,426,15605,2019,2513,14,82,7651,8863,3692,109,364,1149,899,879,3,667,4307,3785,4593,4087,2426,4069,578,3837,988,2265,765,426,5684,1411,890,6637,768,1804,7550,184,495,442,708,1093,490,1158,109,1128,449,7205,696,4125,4653,1855,10,747,536,1361,275,709,736,2163,669,1,2751,1561,196,2365,662,1252,383,283,1,1322,1828,2055,4,2455,223,658,3,5699,59,396,1581,2100,1257,5,2400,354,1,4,67,249,5,58,17,178,94,485,411,480,381,224,220,504,635,2,483,381,89,692,3,335,9,177,560,180,132,128,1297,550,427,700,290,55,2,82,36,172,185,288,67,123,281,21,168,2,1047,177,1137,1261,30,3,585,89,24,153,722,20,25,686,2,197,201,62,111,140,1,349,1787,812,402,777,23,580,5,163,5213373,5926,146,157,50,392,5994028,2804423,3311,141,795,19735,1,1,346,4621,14,6,23945843,397,4041746,1964,16673,2893,6250,12560,1541,1039,551,1415105,154795,50074\\',kBL:\\'VEUU\\',kOPI:89978449};google.sn=\\'webhp\\';google.kHL=\\'en\\';})();(function(){\\nvar f=this||self;var h,k=[];function l(a){for(var b;a&&(!a.getAttribute||!(b=a.getAttribute(\"eid\")));)a=a.parentNode;return b||h}function m(a){for(var b=null;a&&(!a.getAttribute||!(b=a.getAttribute(\"leid\")));)a=a.parentNode;return b}\\nfunction n(a,b,c,d,g){var e=\"\";c||-1!==b.search(\"&ei=\")||(e=\"&ei=\"+l(d),-1===b.search(\"&lei=\")&&(d=m(d))&&(e+=\"&lei=\"+d));d=\"\";!c&&f._cshid&&-1===b.search(\"&cshid=\")&&\"slh\"!==a&&(d=\"&cshid=\"+f._cshid);c=c||\"/\"+(g||\"gen_204\")+\"?atyp=i&ct=\"+a+\"&cad=\"+b+e+\"&zx=\"+Date.now()+d;/^http:/i.test(c)&&\"https:\"===window.location.protocol&&(google.ml&&google.ml(Error(\"a\"),!1,{src:c,glmm:1}),c=\"\");return c};h=google.kEI;google.getEI=l;google.getLEI=m;google.ml=function(){return null};google.log=function(a,b,c,d,g){if(c=n(a,b,c,d,g)){a=new Image;var e=k.length;k[e]=a;a.onerror=a.onload=a.onabort=function(){delete k[e]};a.src=c}};google.logUrl=n;}).call(this);(function(){google.y={};google.sy=[];google.x=function(a,b){if(a)var c=a.id;else{do c=Math.random();while(google.y[c])}google.y[c]=[a,b];return!1};google.sx=function(a){google.sy.push(a)};google.lm=[];google.plm=function(a){google.lm.push.apply(google.lm,a)};google.lq=[];google.load=function(a,b,c){google.lq.push([[a],b,c])};google.loadAll=function(a,b){google.lq.push([a,b])};google.bx=!1;google.lx=function(){};}).call(this);google.f={};(function(){\\ndocument.documentElement.addEventListener(\"submit\",function(b){var a;if(a=b.target){var c=a.getAttribute(\"data-submitfalse\");a=\"1\"===c||\"q\"===c&&!a.elements.q.value?!0:!1}else a=!1;a&&(b.preventDefault(),b.stopPropagation())},!0);document.documentElement.addEventListener(\"click\",function(b){var a;a:{for(a=b.target;a&&a!==document.documentElement;a=a.parentElement)if(\"A\"===a.tagName){a=\"1\"===a.getAttribute(\"data-nohref\");break a}a=!1}a&&b.preventDefault()},!0);}).call(this);</script><style>#gbar,#guser{font-size:13px;padding-top:1px !important;}#gbar{height:22px}#guser{padding-bottom:7px !important;text-align:right}.gbh,.gbd{border-top:1px solid #c9d7f1;font-size:1px}.gbh{height:0;position:absolute;top:24px;width:100%}@media all{.gb1{height:22px;margin-right:.5em;vertical-align:top}#gbar{float:left}}a.gb1,a.gb4{text-decoration:underline !important}a.gb1,a.gb4{color:#00c !important}.gbi .gb4{color:#dd8e27 !important}.gbf .gb4{color:#900 !important}\\n</style><style>body,td,a,p,.h{font-family:arial,sans-serif}body{margin:0;overflow-y:scroll}#gog{padding:3px 8px 0}td{line-height:.8em}.gac_m td{line-height:17px}form{margin-bottom:20px}.h{color:#1558d6}em{font-weight:bold;font-style:normal}.lst{height:25px;width:496px}.gsfi,.lst{font:18px arial,sans-serif}.gsfs{font:17px arial,sans-serif}.ds{display:inline-box;display:inline-block;margin:3px 0 4px;margin-left:4px}input{font-family:inherit}body{background:#fff;color:#000}a{color:#4b11a8;text-decoration:none}a:hover,a:active{text-decoration:underline}.fl a{color:#1558d6}a:visited{color:#4b11a8}.sblc{padding-top:5px}.sblc a{display:block;margin:2px 0;margin-left:13px;font-size:11px}.lsbb{background:#f8f9fa;border:solid 1px;border-color:#dadce0 #70757a #70757a #dadce0;height:30px}.lsbb{display:block}#WqQANb a{display:inline-block;margin:0 12px}.lsb{background:url(/images/nav_logo229.png) 0 -261px repeat-x;border:none;color:#000;cursor:pointer;height:30px;margin:0;outline:0;font:15px arial,sans-serif;vertical-align:top}.lsb:active{background:#dadce0}.lst:focus{outline:none}</style><script nonce=\"zNCVoSUImKpOlGVI9hOz8Q\">(function(){window.google.erd={jsr:1,bv:1765,de:true};\\nvar h=this||self;var k,l=null!=(k=h.mei)?k:1,n,p=null!=(n=h.sdo)?n:!0,q=0,r,t=google.erd,v=t.jsr;google.ml=function(a,b,d,m,e){e=void 0===e?2:e;b&&(r=a&&a.message);if(google.dl)return google.dl(a,e,d),null;if(0>v){window.console&&console.error(a,d);if(-2===v)throw a;b=!1}else b=!a||!a.message||\"Error loading script\"===a.message||q>=l&&!m?!1:!0;if(!b)return null;q++;d=d||{};b=encodeURIComponent;var c=\"/gen_204?atyp=i&ei=\"+b(google.kEI);google.kEXPI&&(c+=\"&jexpid=\"+b(google.kEXPI));c+=\"&srcpg=\"+b(google.sn)+\"&jsr=\"+b(t.jsr)+\"&bver=\"+b(t.bv);var f=a.lineNumber;void 0!==f&&(c+=\"&line=\"+f);var g=\\na.fileName;g&&(0<g.indexOf(\"-extension:/\")&&(e=3),c+=\"&script=\"+b(g),f&&g===window.location.href&&(f=document.documentElement.outerHTML.split(\"\\\\n\")[f],c+=\"&cad=\"+b(f?f.substring(0,300):\"No script found.\")));c+=\"&jsel=\"+e;for(var u in d)c+=\"&\",c+=b(u),c+=\"=\",c+=b(d[u]);c=c+\"&emsg=\"+b(a.name+\": \"+a.message);c=c+\"&jsst=\"+b(a.stack||\"N/A\");12288<=c.length&&(c=c.substr(0,12288));a=c;m||google.log(0,\"\",a);return a};window.onerror=function(a,b,d,m,e){r!==a&&(a=e instanceof Error?e:Error(a),void 0===d||\"lineNumber\"in a||(a.lineNumber=d),void 0===b||\"fileName\"in a||(a.fileName=b),google.ml(a,!1,void 0,!1,\"SyntaxError\"===a.name||\"SyntaxError\"===a.message.substring(0,11)||-1!==a.message.indexOf(\"Script error\")?3:0));r=null;p&&q>=l&&(window.onerror=null)};})();</script></head><body bgcolor=\"#fff\"><script nonce=\"zNCVoSUImKpOlGVI9hOz8Q\">(function(){var src=\\'/images/nav_logo229.png\\';var iesg=false;document.body.onload = function(){window.n && window.n();if (document.images){new Image().src=src;}\\nif (!iesg){document.f&&document.f.q.focus();document.gbqf&&document.gbqf.q.focus();}\\n}\\n})();</script><div id=\"mngb\"><div id=gbar><nobr><b class=gb1>Search</b> <a class=gb1 href=\"http://www.google.com/imghp?hl=en&tab=wi\">Images</a> <a class=gb1 href=\"http://maps.google.com/maps?hl=en&tab=wl\">Maps</a> <a class=gb1 href=\"https://play.google.com/?hl=en&tab=w8\">Play</a> <a class=gb1 href=\"https://www.youtube.com/?tab=w1\">YouTube</a> <a class=gb1 href=\"https://news.google.com/?tab=wn\">News</a> <a class=gb1 href=\"https://mail.google.com/mail/?tab=wm\">Gmail</a> <a class=gb1 href=\"https://drive.google.com/?tab=wo\">Drive</a> <a class=gb1 style=\"text-decoration:none\" href=\"https://www.google.com/intl/en/about/products?tab=wh\"><u>More</u> &raquo;</a></nobr></div><div id=guser width=100%><nobr><span id=gbn class=gbi></span><span id=gbf class=gbf></span><span id=gbe></span><a href=\"http://www.google.com/history/optout?hl=en\" class=gb4>Web History</a> | <a  href=\"/preferences?hl=en\" class=gb4>Settings</a> | <a target=_top id=gb_70 href=\"https://accounts.google.com/ServiceLogin?hl=en&passive=true&continue=http://www.google.com/&ec=GAZAAQ\" class=gb4>Sign in</a></nobr></div><div class=gbh style=left:0></div><div class=gbh style=right:0></div></div><center><br clear=\"all\" id=\"lgpd\"><div id=\"lga\"><img alt=\"Google\" height=\"92\" src=\"/images/branding/googlelogo/1x/googlelogo_white_background_color_272x92dp.png\" style=\"padding:28px 0 14px\" width=\"272\" id=\"hplogo\"><br><br></div><form action=\"/search\" name=\"f\"><table cellpadding=\"0\" cellspacing=\"0\"><tr valign=\"top\"><td width=\"25%\">&nbsp;</td><td align=\"center\" nowrap=\"\"><input name=\"ie\" value=\"ISO-8859-1\" type=\"hidden\"><input value=\"en\" name=\"hl\" type=\"hidden\"><input name=\"source\" type=\"hidden\" value=\"hp\"><input name=\"biw\" type=\"hidden\"><input name=\"bih\" type=\"hidden\"><div class=\"ds\" style=\"height:32px;margin:4px 0\"><input class=\"lst\" style=\"margin:0;padding:5px 8px 0 6px;vertical-align:top;color:#000\" autocomplete=\"off\" value=\"\" title=\"Google Search\" maxlength=\"2048\" name=\"q\" size=\"57\"></div><br style=\"line-height:0\"><span class=\"ds\"><span class=\"lsbb\"><input class=\"lsb\" value=\"Google Search\" name=\"btnG\" type=\"submit\"></span></span><span class=\"ds\"><span class=\"lsbb\"><input class=\"lsb\" id=\"tsuid_1\" value=\"I\\'m Feeling Lucky\" name=\"btnI\" type=\"submit\"><script nonce=\"zNCVoSUImKpOlGVI9hOz8Q\">(function(){var id=\\'tsuid_1\\';document.getElementById(id).onclick = function(){if (this.form.q.value){this.checked = 1;if (this.form.iflsig)this.form.iflsig.disabled = false;}\\nelse top.location=\\'/doodles/\\';};})();</script><input value=\"AOEireoAAAAAZCCRS98Q5U5Yk0Y5w8dRNI07TdXWIbWg\" name=\"iflsig\" type=\"hidden\"></span></span></td><td class=\"fl sblc\" align=\"left\" nowrap=\"\" width=\"25%\"><a href=\"/advanced_search?hl=en&amp;authuser=0\">Advanced search</a></td></tr></table><input id=\"gbv\" name=\"gbv\" type=\"hidden\" value=\"1\"><script nonce=\"zNCVoSUImKpOlGVI9hOz8Q\">(function(){var a,b=\"1\";if(document&&document.getElementById)if(\"undefined\"!=typeof XMLHttpRequest)b=\"2\";else if(\"undefined\"!=typeof ActiveXObject){var c,d,e=[\"MSXML2.XMLHTTP.6.0\",\"MSXML2.XMLHTTP.3.0\",\"MSXML2.XMLHTTP\",\"Microsoft.XMLHTTP\"];for(c=0;d=e[c++];)try{new ActiveXObject(d),b=\"2\"}catch(h){}}a=b;if(\"2\"==a&&-1==location.search.indexOf(\"&gbv=2\")){var f=google.gbvu,g=document.getElementById(\"gbv\");g&&(g.value=a);f&&window.setTimeout(function(){location.href=f},0)};}).call(this);</script></form><div id=\"gac_scont\"></div><div style=\"font-size:83%;min-height:3.5em\"><br></div><span id=\"footer\"><div style=\"font-size:10pt\"><div style=\"margin:19px auto;text-align:center\" id=\"WqQANb\"><a href=\"/intl/en/ads/\">Advertising</a><a href=\"/services/\">Business Solutions</a><a href=\"/intl/en/about.html\">About Google</a></div></div><p style=\"font-size:8pt;color:#70757a\">&copy; 2023 - <a href=\"/intl/en/policies/privacy/\">Privacy</a> - <a href=\"/intl/en/policies/terms/\">Terms</a></p></span></center><script nonce=\"zNCVoSUImKpOlGVI9hOz8Q\">(function(){window.google.cdo={height:757,width:1440};(function(){var a=window.innerWidth,b=window.innerHeight;if(!a||!b){var c=window.document,d=\"CSS1Compat\"==c.compatMode?c.documentElement:c.body;a=d.clientWidth;b=d.clientHeight}a&&b&&(a!=google.cdo.width||b!=google.cdo.height)&&google.log(\"\",\"\",\"/client_204?&atyp=i&biw=\"+a+\"&bih=\"+b+\"&ei=\"+google.kEI);}).call(this);})();</script> <script nonce=\"zNCVoSUImKpOlGVI9hOz8Q\">(function(){google.xjs={ck:\\'xjs.hp.TY6eF88EEio.L.X.O\\',cs:\\'ACT90oG3Ss4i5aZZuUdNsf4YH9FwGn6HsQ\\',excm:[]};})();</script>  <script nonce=\"zNCVoSUImKpOlGVI9hOz8Q\">(function(){var u=\\'/xjs/_/js/k\\\\x3dxjs.hp.en.p3_Gx7UnK-Y.O/am\\\\x3dAACgEwBAAYAF/d\\\\x3d1/ed\\\\x3d1/rs\\\\x3dACT90oG7E2X0AH6kcQ0nfE9MG6LliMdsAw/m\\\\x3dsb_he,d\\';var amd=0;\\nvar d=this||self,e=function(a){return a};var g;var l=function(a,b){this.g=b===h?a:\"\"};l.prototype.toString=function(){return this.g+\"\"};var h={};\\nfunction m(){var a=u;google.lx=function(){p(a);google.lx=function(){}};google.bx||google.lx()}\\nfunction p(a){google.timers&&google.timers.load&&google.tick&&google.tick(\"load\",\"xjsls\");var b=document;var c=\"SCRIPT\";\"application/xhtml+xml\"===b.contentType&&(c=c.toLowerCase());c=b.createElement(c);c.id=\"base-js\";a=null===a?\"null\":void 0===a?\"undefined\":a;if(void 0===g){b=null;var k=d.trustedTypes;if(k&&k.createPolicy){try{b=k.createPolicy(\"goog#html\",{createHTML:e,createScript:e,createScriptURL:e})}catch(q){d.console&&d.console.error(q.message)}g=b}else g=b}a=(b=g)?b.createScriptURL(a):a;a=new l(a,h);c.src=a instanceof l&&a.constructor===l?a.g:\"type_error:TrustedResourceUrl\";var f,n;(f=(a=null==(n=(f=(c.ownerDocument&&c.ownerDocument.defaultView||window).document).querySelector)?void 0:n.call(f,\"script[nonce]\"))?a.nonce||a.getAttribute(\"nonce\")||\"\":\"\")&&c.setAttribute(\"nonce\",f);document.body.appendChild(c);google.psa=!0};google.xjsu=u;setTimeout(function(){0<amd?google.caft(function(){return m()},amd):m()},0);})();window._ = window._ || {};window._DumpException = _._DumpException = function(e){throw e;};window._s = window._s || {};_s._DumpException = _._DumpException;window._qs = window._qs || {};_qs._DumpException = _._DumpException;function _F_installCss(c){}\\n(function(){google.jl={blt:\\'none\\',chnk:0,dw:false,dwu:true,emtn:0,end:0,ico:false,ikb:0,ine:false,injs:\\'none\\',injt:0,injth:0,injv2:false,lls:\\'default\\',pdt:0,rep:0,snet:true,strt:0,ubm:false,uwp:true};})();(function(){var pmc=\\'{\\\\x22d\\\\x22:{},\\\\x22sb_he\\\\x22:{\\\\x22agen\\\\x22:true,\\\\x22cgen\\\\x22:true,\\\\x22client\\\\x22:\\\\x22heirloom-hp\\\\x22,\\\\x22dh\\\\x22:true,\\\\x22ds\\\\x22:\\\\x22\\\\x22,\\\\x22fl\\\\x22:true,\\\\x22host\\\\x22:\\\\x22google.com\\\\x22,\\\\x22jsonp\\\\x22:true,\\\\x22msgs\\\\x22:{\\\\x22cibl\\\\x22:\\\\x22Clear Search\\\\x22,\\\\x22dym\\\\x22:\\\\x22Did you mean:\\\\x22,\\\\x22lcky\\\\x22:\\\\x22I\\\\\\\\u0026#39;m Feeling Lucky\\\\x22,\\\\x22lml\\\\x22:\\\\x22Learn more\\\\x22,\\\\x22psrc\\\\x22:\\\\x22This search was removed from your \\\\\\\\u003Ca href\\\\x3d\\\\\\\\\\\\x22/history\\\\\\\\\\\\x22\\\\\\\\u003EWeb History\\\\\\\\u003C/a\\\\\\\\u003E\\\\x22,\\\\x22psrl\\\\x22:\\\\x22Remove\\\\x22,\\\\x22sbit\\\\x22:\\\\x22Search by image\\\\x22,\\\\x22srch\\\\x22:\\\\x22Google Search\\\\x22},\\\\x22ovr\\\\x22:{},\\\\x22pq\\\\x22:\\\\x22\\\\x22,\\\\x22rfs\\\\x22:[],\\\\x22sbas\\\\x22:\\\\x220 3px 8px 0 rgba(0,0,0,0.2),0 0 0 1px rgba(0,0,0,0.08)\\\\x22,\\\\x22stok\\\\x22:\\\\x224DxbWZmvzfsVyQ_LPE4El7DXuSo\\\\x22}}\\';google.pmc=JSON.parse(pmc);})();</script>       </body></html>'"
      ]
     },
     "execution_count": 4,
     "metadata": {},
     "output_type": "execute_result"
    }
   ],
   "source": [
    "# returns the HTML format of the search page\n",
    "res.content"
   ]
  },
  {
   "cell_type": "markdown",
   "id": "137fc8ab",
   "metadata": {
    "id": "137fc8ab"
   },
   "source": [
    "# 2. Data Retrieval via APIs"
   ]
  },
  {
   "cell_type": "markdown",
   "id": "8f28f614",
   "metadata": {
    "id": "8f28f614"
   },
   "source": [
    "REST APIs, or Representational State Transfer APIs, are a type of web service that uses HTTP requests to access and manipulate data. REST APIs are based on a set of principles that make it easy for different systems to communicate with each other, and they are widely used in modern web development.\n",
    "\n",
    "To use a REST API, we need to send an HTTP request to a specific endpoint, which is a URL that represents a particular resource or action. The response we receive from the server will usually be in a specific format, such as JSON or XML.\n",
    "\n",
    "As an example, let's look at the Wikipedia API, which allows you to retrieve data from Wikipedia, including article content, metadata, and search results. To use the Wikipedia API, you need to send HTTP requests to specific endpoints and provide query parameters to specify the data you want to retrieve.\n",
    "\n",
    "Let's start by importing the necessary libraries and defining the base URL for the Wikipedia API:"
   ]
  },
  {
   "cell_type": "code",
   "execution_count": null,
   "id": "7aae7d00",
   "metadata": {
    "id": "7aae7d00"
   },
   "outputs": [],
   "source": [
    "import requests\n",
    "import json\n",
    "\n",
    "# Define the base URL for the Wikipedia API endpoint\n",
    "WIKIPEDIA_API_URL = \"https://en.wikipedia.org/w/api.php\""
   ]
  },
  {
   "cell_type": "code",
   "execution_count": null,
   "id": "d40d3d53",
   "metadata": {
    "id": "d40d3d53"
   },
   "outputs": [],
   "source": [
    "# Define the parameters for the API request\n",
    "title = \"Python (programming language)\"\n",
    "params = {\n",
    "    \"action\": \"query\",\n",
    "    \"format\": \"json\",\n",
    "    \"prop\": \"extracts\",\n",
    "    \"exintro\": \"\",\n",
    "    \"explaintext\": \"\",\n",
    "    \"titles\": title\n",
    "}"
   ]
  },
  {
   "cell_type": "code",
   "execution_count": null,
   "id": "55a283b9",
   "metadata": {
    "id": "55a283b9"
   },
   "outputs": [],
   "source": [
    "# Send the API request\n",
    "response = requests.get(WIKIPEDIA_API_URL, params=params)"
   ]
  },
  {
   "cell_type": "code",
   "execution_count": null,
   "id": "b5ea4179",
   "metadata": {
    "id": "b5ea4179"
   },
   "outputs": [],
   "source": [
    "# Parse the JSON response\n",
    "data = json.loads(response.text)"
   ]
  },
  {
   "cell_type": "code",
   "execution_count": null,
   "id": "ac294a47",
   "metadata": {
    "id": "ac294a47",
    "outputId": "f0a73216-9c04-49e5-df1f-2310c32ac005"
   },
   "outputs": [
    {
     "data": {
      "text/plain": [
       "{'batchcomplete': '',\n",
       " 'query': {'pages': {'23862': {'pageid': 23862,\n",
       "    'ns': 0,\n",
       "    'title': 'Python (programming language)',\n",
       "    'extract': 'Python is a high-level, general-purpose programming language. Its design philosophy emphasizes code readability with the use of significant indentation.Python is dynamically typed and garbage-collected. It supports multiple programming paradigms, including structured (particularly procedural), object-oriented and functional programming. It is often described as a \"batteries included\" language due to its comprehensive standard library.Guido van Rossum began working on Python in the late 1980s as a successor to the ABC programming language and first released it in 1991 as Python 0.9.0. Python 2.0 was released in 2000. Python 3.0, released in 2008, was a major revision not completely backward-compatible with earlier versions. Python 2.7.18, released in 2020, was the last release of Python 2.Python consistently ranks as one of the most popular programming languages.\\n\\n'}}}}"
      ]
     },
     "execution_count": 33,
     "metadata": {},
     "output_type": "execute_result"
    }
   ],
   "source": [
    "data"
   ]
  },
  {
   "cell_type": "code",
   "execution_count": null,
   "id": "e18a1b38",
   "metadata": {
    "id": "e18a1b38"
   },
   "outputs": [],
   "source": [
    "# Extract the article summary from the response\n",
    "summary = \"\"\n",
    "for page in data[\"query\"][\"pages\"].values():\n",
    "    summary = page[\"extract\"]\n"
   ]
  },
  {
   "cell_type": "code",
   "execution_count": null,
   "id": "cfd8fef4",
   "metadata": {
    "id": "cfd8fef4",
    "outputId": "be10435e-5c32-4b1e-bf97-27f0027ecf93"
   },
   "outputs": [
    {
     "data": {
      "text/plain": [
       "'Python is a high-level, general-purpose programming language. Its design philosophy emphasizes code readability with the use of significant indentation.Python is dynamically typed and garbage-collected. It supports multiple programming paradigms, including structured (particularly procedural), object-oriented and functional programming. It is often described as a \"batteries included\" language due to its comprehensive standard library.Guido van Rossum began working on Python in the late 1980s as a successor to the ABC programming language and first released it in 1991 as Python 0.9.0. Python 2.0 was released in 2000. Python 3.0, released in 2008, was a major revision not completely backward-compatible with earlier versions. Python 2.7.18, released in 2020, was the last release of Python 2.Python consistently ranks as one of the most popular programming languages.\\n\\n'"
      ]
     },
     "execution_count": 35,
     "metadata": {},
     "output_type": "execute_result"
    }
   ],
   "source": [
    "summary"
   ]
  },
  {
   "cell_type": "markdown",
   "id": "388413ca",
   "metadata": {
    "id": "388413ca"
   },
   "source": [
    "# 3. Standard Web Scraping using BeautifulSoup"
   ]
  },
  {
   "cell_type": "markdown",
   "id": "b9475cef",
   "metadata": {
    "id": "b9475cef"
   },
   "source": [
    "### Beautiful Soup: Parsing Structured Documents!\n",
    "\n",
    "[Beautiful Soup](https://www.crummy.com/software/BeautifulSoup/bs4/doc/) is a Python library for parsing HTML and XML documents and it is used for web scraping mainly. It creates a parse tree for parsed pages that can be used to extract data from HTML, which is useful for web scraping.\n",
    "\n",
    "\n",
    "Given a HTML file, our goal is to parse the content and store it in an easily accessible data structure. So, we'll store it as a document tree object. Whenever we provide an HTML content to Beautiful Soap parser as the input, it returns the root of the resulting domcument tree. \n",
    "\n",
    "![](https://dab1nmslvvntp.cloudfront.net/wp-content/uploads/2014/10/1413373269crp-1.png)\n",
    "\n"
   ]
  },
  {
   "cell_type": "markdown",
   "id": "11cb239c",
   "metadata": {
    "id": "11cb239c"
   },
   "source": [
    "To demonstrate web scraping with BeautifulSoup, let's extract the descriptions of the first 3 books in goodreads.com\n"
   ]
  },
  {
   "cell_type": "code",
   "execution_count": 76,
   "id": "rOxxgJ8JZ323",
   "metadata": {
    "executionInfo": {
     "elapsed": 5594,
     "status": "ok",
     "timestamp": 1679865077080,
     "user": {
      "displayName": "Ahmet Yasin Aytar (Student)",
      "userId": "02566347236103127901"
     },
     "user_tz": -180
    },
    "id": "rOxxgJ8JZ323"
   },
   "outputs": [],
   "source": [
    "import requests\n",
    "from bs4 import BeautifulSoup as bs\n",
    "import re\n",
    "\n",
    "# Step 1: Download page content and extract links\n",
    "allLinks = []\n",
    "url = \"https://www.goodreads.com/list/show/264.Books_That_Everyone_Should_Read_At_Least_Once?page=1\"\n",
    "resp = requests.get(url)  # send a GET request to the specified URL and store the server's response in resp variable\n",
    "soup = bs(resp.content)  # parse the HTML content of the server's response using BeautifulSoup and store the result in soup variable\n",
    "for book in soup.find_all('a', href=True, class_=('bookTitle')):\n",
    "    link = book['href']  # get the 'href' attribute of the <a> tag\n",
    "    allLinks.append(\"https://www.goodreads.com\" + link)  # append the link to allLinks list\n"
   ]
  },
  {
   "cell_type": "code",
   "execution_count": 81,
   "id": "-epLTbJDaLtw",
   "metadata": {
    "executionInfo": {
     "elapsed": 6153,
     "status": "ok",
     "timestamp": 1679865103229,
     "user": {
      "displayName": "Ahmet Yasin Aytar (Student)",
      "userId": "02566347236103127901"
     },
     "user_tz": -180
    },
    "id": "-epLTbJDaLtw"
   },
   "outputs": [],
   "source": [
    "# Step 2: Download HTML content from links and save to file\n",
    "for link in allLinks[0:5]:\n",
    "    resp = requests.get(link)\n",
    "    book_id = re.findall('\\d+', link)[0]  # extract the book ID from the link\n",
    "    with open(f\"{book_id}.html\", \"w\", encoding=\"utf-8\") as f:\n",
    "        f.write(resp.text)"
   ]
  },
  {
   "cell_type": "code",
   "execution_count": 78,
   "id": "YWcvI9GGmDNp",
   "metadata": {
    "colab": {
     "base_uri": "https://localhost:8080/"
    },
    "executionInfo": {
     "elapsed": 229,
     "status": "ok",
     "timestamp": 1679865087029,
     "user": {
      "displayName": "Ahmet Yasin Aytar (Student)",
      "userId": "02566347236103127901"
     },
     "user_tz": -180
    },
    "id": "YWcvI9GGmDNp",
    "outputId": "71ea5805-6413-4b0b-ef18-ac0a7687f085"
   },
   "outputs": [
    {
     "data": {
      "text/plain": [
       "['https://www.goodreads.com/book/show/2657.To_Kill_a_Mockingbird',\n",
       " 'https://www.goodreads.com/book/show/72193.Harry_Potter_and_the_Philosopher_s_Stone',\n",
       " 'https://www.goodreads.com/book/show/1885.Pride_and_Prejudice',\n",
       " 'https://www.goodreads.com/book/show/48855.The_Diary_of_a_Young_Girl',\n",
       " 'https://www.goodreads.com/book/show/170448.Animal_Farm']"
      ]
     },
     "execution_count": 78,
     "metadata": {},
     "output_type": "execute_result"
    }
   ],
   "source": [
    "allLinks[0:5]"
   ]
  },
  {
   "cell_type": "code",
   "execution_count": 82,
   "id": "ouZG2B_CqIsp",
   "metadata": {
    "colab": {
     "base_uri": "https://localhost:8080/"
    },
    "executionInfo": {
     "elapsed": 633,
     "status": "ok",
     "timestamp": 1679865107877,
     "user": {
      "displayName": "Ahmet Yasin Aytar (Student)",
      "userId": "02566347236103127901"
     },
     "user_tz": -180
    },
    "id": "ouZG2B_CqIsp",
    "outputId": "c66954ee-e588-4f01-d558-d80f8d483fba"
   },
   "outputs": [
    {
     "name": "stdout",
     "output_type": "stream",
     "text": [
      "2657: The unforgettable novel of a childhood in a sleepy Southern town and the crisis of conscience that rocked it. \"To Kill A Mockingbird\" became both an instant bestseller and a critical success when it was first published in 1960. It went on to win the Pulitzer Prize in 1961 and was later made into an Academy Award-winning film, also a classic.Compassionate, dramatic, and deeply moving, \"To Kill A Mockingbird\" takes readers to the roots of human behavior - to innocence and experience, kindness and cruelty, love and hatred, humor and pathos. Now with over 18 million copies in print and translated into forty languages, this regional story by a young Alabama woman claims universal appeal. Harper Lee always considered her book to be a simple love story. Today it is regarded as a masterpiece of American literature.\n",
      "\n",
      "72193: Harry Potter thinks he is an ordinary boy - until he is rescued by an owl, taken to Hogwarts School of Witchcraft and Wizardry, learns to play Quidditch and does battle in a deadly duel. The Reason ... HARRY POTTER IS A WIZARD!\n",
      "\n",
      "1885: Since its immediate success in 1813, Pride and Prejudice has remained one of the most popular novels in the English language. Jane Austen called this brilliant work \"her own darling child\" and its vivacious heroine, Elizabeth Bennet, \"as delightful a creature as ever appeared in print.\" The romantic clash between the opinionated Elizabeth and her proud beau, Mr. Darcy, is a splendid performance of civilized sparring. And Jane Austen's radiant wit sparkles as her characters dance a delicate quadrille of flirtation and intrigue, making this book the most superb comedy of manners of Regency England.Alternate cover edition of ISBN 9780679783268\n",
      "\n"
     ]
    }
   ],
   "source": [
    "# Step 3: Parse HTML content to extract book description\n",
    "for link in allLinks[0:3]:\n",
    "    book_id = re.findall('\\d+', link)[0]\n",
    "    with open(f\"{book_id}.html\", \"r\", encoding=\"utf-8\") as f:\n",
    "        soup = bs(f.read(), \"html.parser\")\n",
    "        try:\n",
    "          description = soup.find(\"div\", {\"data-testid\": \"description\"}).find_all(\"span\")[0].text.strip()\n",
    "        except:\n",
    "          continue\n",
    "        print(f\"{book_id}: {description}\\n\")"
   ]
  },
  {
   "cell_type": "markdown",
   "id": "669ba672",
   "metadata": {
    "id": "669ba672"
   },
   "source": [
    "# 4. Automation using Selenium"
   ]
  },
  {
   "cell_type": "markdown",
   "id": "fd55a74e",
   "metadata": {
    "id": "fd55a74e"
   },
   "source": [
    "Sometimes, we need to interact with websites in ways that are not possible with simple HTTP requests or web scraping. In such cases, we can use browser automation tools like Selenium.\n",
    "\n",
    "To demonstrate automation with Selenium, let's automate the process of searching for a keyword on Google and extracting the URLs of the top 3 search results.\n",
    "\n",
    "To be able to run automation code below, it needs to be installed chromedriver from the link here: https://chromedriver.chromium.org/downloads. You should download the version compatible with your chrome version. You can display your chrome version from the settings of Chrome and clicking on 'About Chrome'. After that you need to write the path of the downloaded chromedriver below. \n",
    "\n",
    "The code related this part will be demonstrated on local environment instead of google colab."
   ]
  },
  {
   "cell_type": "code",
   "execution_count": null,
   "id": "Cr9_OEwTJIZD",
   "metadata": {
    "id": "Cr9_OEwTJIZD"
   },
   "outputs": [],
   "source": []
  }
 ],
 "metadata": {
  "colab": {
   "provenance": []
  },
  "kernelspec": {
   "display_name": "Python 3 (ipykernel)",
   "language": "python",
   "name": "python3"
  },
  "language_info": {
   "codemirror_mode": {
    "name": "ipython",
    "version": 3
   },
   "file_extension": ".py",
   "mimetype": "text/x-python",
   "name": "python",
   "nbconvert_exporter": "python",
   "pygments_lexer": "ipython3",
   "version": "3.11.2"
  }
 },
 "nbformat": 4,
 "nbformat_minor": 5
}
