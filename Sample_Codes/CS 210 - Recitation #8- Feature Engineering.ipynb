{
  "nbformat": 4,
  "nbformat_minor": 0,
  "metadata": {
    "colab": {
      "provenance": []
    },
    "kernelspec": {
      "display_name": "Python 3",
      "language": "python",
      "name": "python3"
    },
    "language_info": {
      "codemirror_mode": {
        "name": "ipython",
        "version": 3
      },
      "file_extension": ".py",
      "mimetype": "text/x-python",
      "name": "python",
      "nbconvert_exporter": "python",
      "pygments_lexer": "ipython3",
      "version": "3.7.9"
    }
  },
  "cells": [
    {
      "cell_type": "markdown",
      "metadata": {
        "id": "fsh4yU3dzLWA"
      },
      "source": [
        "# Text Classification with Naive Bayes & Logistic Regression\n",
        "\n",
        "We are going to classify whether the sms messages are spam or ham using publicly available sms dataset.\n",
        "\n",
        "The dataset can be accessible from [Kaggle SMS Spam Collection Dataset](https://www.kaggle.com/uciml/sms-spam-collection-dataset).\n",
        "\n",
        "To resolve this problem, the following steps will be followed:\n",
        "\n",
        "\n",
        "1.   Processing text into numerical format\n",
        "2.   Bag of words approach\n",
        "3.   Different pre-processing steps\n",
        "4.   Model evaluation on imbalanced datasets\n",
        "\n"
      ]
    },
    {
      "cell_type": "code",
      "metadata": {
        "_cell_guid": "b1076dfc-b9ad-4769-8c92-a6c4dae69d19",
        "_uuid": "8f2839f25d086af736a60e9eeb907d3b93b6e0e5",
        "id": "P6fWhqFyWHzp"
      },
      "source": [
        "#@title Imports\n",
        "# for Data\n",
        "import numpy as np\n",
        "import pandas as pd\n",
        "from sklearn.model_selection import train_test_split\n",
        "\n",
        "# for models\n",
        "from sklearn.linear_model import LogisticRegression\n",
        "from sklearn.naive_bayes import MultinomialNB\n",
        "\n",
        "# for evaluation\n",
        "from sklearn.metrics import (precision_score, recall_score, f1_score,\n",
        "                             confusion_matrix, accuracy_score)\n",
        "\n",
        "## for Plotting\n",
        "import matplotlib.pyplot as plt\n",
        "import seaborn as sns\n",
        "%matplotlib inline\n",
        "import wordcloud\n",
        "\n",
        "# for preprocessing\n",
        "import string\n",
        "\n",
        "# for vectorizing\n",
        "from collections import Counter\n",
        "from sklearn.feature_extraction.text import CountVectorizer\n",
        "\n",
        "# others\n",
        "import pprint"
      ],
      "execution_count": 12,
      "outputs": []
    },
    {
      "cell_type": "markdown",
      "metadata": {
        "_cell_guid": "79c7e3d0-c299-4dcb-8224-4455121ee9b0",
        "_uuid": "d629ff2d2480ee46fbb7e2d37f6b5fab8052498a",
        "collapsed": true,
        "id": "oBx4HyhSWHz4"
      },
      "source": [
        "## Get the Data"
      ]
    },
    {
      "cell_type": "code",
      "metadata": {
        "_uuid": "13b04daa7fae6cab24f5e2c953e5fa255a5d42e6",
        "colab": {
          "base_uri": "https://localhost:8080/",
          "height": 206
        },
        "id": "hHju1PEVWHz5",
        "outputId": "69a7f967-25b0-49dd-bcf5-e56aad7f7294"
      },
      "source": [
        "df_sms = pd.read_csv('/content/spam.csv',encoding='latin-1')\n",
        "df_sms.head()"
      ],
      "execution_count": 5,
      "outputs": [
        {
          "output_type": "execute_result",
          "data": {
            "text/plain": [
              "     v1                                                 v2 Unnamed: 2  \\\n",
              "0   ham  Go until jurong point, crazy.. Available only ...        NaN   \n",
              "1   ham                      Ok lar... Joking wif u oni...        NaN   \n",
              "2  spam  Free entry in 2 a wkly comp to win FA Cup fina...        NaN   \n",
              "3   ham  U dun say so early hor... U c already then say...        NaN   \n",
              "4   ham  Nah I don't think he goes to usf, he lives aro...        NaN   \n",
              "\n",
              "  Unnamed: 3 Unnamed: 4  \n",
              "0        NaN        NaN  \n",
              "1        NaN        NaN  \n",
              "2        NaN        NaN  \n",
              "3        NaN        NaN  \n",
              "4        NaN        NaN  "
            ],
            "text/html": [
              "\n",
              "  <div id=\"df-ae743656-9893-43b5-9b5c-f9d62a3643aa\">\n",
              "    <div class=\"colab-df-container\">\n",
              "      <div>\n",
              "<style scoped>\n",
              "    .dataframe tbody tr th:only-of-type {\n",
              "        vertical-align: middle;\n",
              "    }\n",
              "\n",
              "    .dataframe tbody tr th {\n",
              "        vertical-align: top;\n",
              "    }\n",
              "\n",
              "    .dataframe thead th {\n",
              "        text-align: right;\n",
              "    }\n",
              "</style>\n",
              "<table border=\"1\" class=\"dataframe\">\n",
              "  <thead>\n",
              "    <tr style=\"text-align: right;\">\n",
              "      <th></th>\n",
              "      <th>v1</th>\n",
              "      <th>v2</th>\n",
              "      <th>Unnamed: 2</th>\n",
              "      <th>Unnamed: 3</th>\n",
              "      <th>Unnamed: 4</th>\n",
              "    </tr>\n",
              "  </thead>\n",
              "  <tbody>\n",
              "    <tr>\n",
              "      <th>0</th>\n",
              "      <td>ham</td>\n",
              "      <td>Go until jurong point, crazy.. Available only ...</td>\n",
              "      <td>NaN</td>\n",
              "      <td>NaN</td>\n",
              "      <td>NaN</td>\n",
              "    </tr>\n",
              "    <tr>\n",
              "      <th>1</th>\n",
              "      <td>ham</td>\n",
              "      <td>Ok lar... Joking wif u oni...</td>\n",
              "      <td>NaN</td>\n",
              "      <td>NaN</td>\n",
              "      <td>NaN</td>\n",
              "    </tr>\n",
              "    <tr>\n",
              "      <th>2</th>\n",
              "      <td>spam</td>\n",
              "      <td>Free entry in 2 a wkly comp to win FA Cup fina...</td>\n",
              "      <td>NaN</td>\n",
              "      <td>NaN</td>\n",
              "      <td>NaN</td>\n",
              "    </tr>\n",
              "    <tr>\n",
              "      <th>3</th>\n",
              "      <td>ham</td>\n",
              "      <td>U dun say so early hor... U c already then say...</td>\n",
              "      <td>NaN</td>\n",
              "      <td>NaN</td>\n",
              "      <td>NaN</td>\n",
              "    </tr>\n",
              "    <tr>\n",
              "      <th>4</th>\n",
              "      <td>ham</td>\n",
              "      <td>Nah I don't think he goes to usf, he lives aro...</td>\n",
              "      <td>NaN</td>\n",
              "      <td>NaN</td>\n",
              "      <td>NaN</td>\n",
              "    </tr>\n",
              "  </tbody>\n",
              "</table>\n",
              "</div>\n",
              "      <button class=\"colab-df-convert\" onclick=\"convertToInteractive('df-ae743656-9893-43b5-9b5c-f9d62a3643aa')\"\n",
              "              title=\"Convert this dataframe to an interactive table.\"\n",
              "              style=\"display:none;\">\n",
              "        \n",
              "  <svg xmlns=\"http://www.w3.org/2000/svg\" height=\"24px\"viewBox=\"0 0 24 24\"\n",
              "       width=\"24px\">\n",
              "    <path d=\"M0 0h24v24H0V0z\" fill=\"none\"/>\n",
              "    <path d=\"M18.56 5.44l.94 2.06.94-2.06 2.06-.94-2.06-.94-.94-2.06-.94 2.06-2.06.94zm-11 1L8.5 8.5l.94-2.06 2.06-.94-2.06-.94L8.5 2.5l-.94 2.06-2.06.94zm10 10l.94 2.06.94-2.06 2.06-.94-2.06-.94-.94-2.06-.94 2.06-2.06.94z\"/><path d=\"M17.41 7.96l-1.37-1.37c-.4-.4-.92-.59-1.43-.59-.52 0-1.04.2-1.43.59L10.3 9.45l-7.72 7.72c-.78.78-.78 2.05 0 2.83L4 21.41c.39.39.9.59 1.41.59.51 0 1.02-.2 1.41-.59l7.78-7.78 2.81-2.81c.8-.78.8-2.07 0-2.86zM5.41 20L4 18.59l7.72-7.72 1.47 1.35L5.41 20z\"/>\n",
              "  </svg>\n",
              "      </button>\n",
              "      \n",
              "  <style>\n",
              "    .colab-df-container {\n",
              "      display:flex;\n",
              "      flex-wrap:wrap;\n",
              "      gap: 12px;\n",
              "    }\n",
              "\n",
              "    .colab-df-convert {\n",
              "      background-color: #E8F0FE;\n",
              "      border: none;\n",
              "      border-radius: 50%;\n",
              "      cursor: pointer;\n",
              "      display: none;\n",
              "      fill: #1967D2;\n",
              "      height: 32px;\n",
              "      padding: 0 0 0 0;\n",
              "      width: 32px;\n",
              "    }\n",
              "\n",
              "    .colab-df-convert:hover {\n",
              "      background-color: #E2EBFA;\n",
              "      box-shadow: 0px 1px 2px rgba(60, 64, 67, 0.3), 0px 1px 3px 1px rgba(60, 64, 67, 0.15);\n",
              "      fill: #174EA6;\n",
              "    }\n",
              "\n",
              "    [theme=dark] .colab-df-convert {\n",
              "      background-color: #3B4455;\n",
              "      fill: #D2E3FC;\n",
              "    }\n",
              "\n",
              "    [theme=dark] .colab-df-convert:hover {\n",
              "      background-color: #434B5C;\n",
              "      box-shadow: 0px 1px 3px 1px rgba(0, 0, 0, 0.15);\n",
              "      filter: drop-shadow(0px 1px 2px rgba(0, 0, 0, 0.3));\n",
              "      fill: #FFFFFF;\n",
              "    }\n",
              "  </style>\n",
              "\n",
              "      <script>\n",
              "        const buttonEl =\n",
              "          document.querySelector('#df-ae743656-9893-43b5-9b5c-f9d62a3643aa button.colab-df-convert');\n",
              "        buttonEl.style.display =\n",
              "          google.colab.kernel.accessAllowed ? 'block' : 'none';\n",
              "\n",
              "        async function convertToInteractive(key) {\n",
              "          const element = document.querySelector('#df-ae743656-9893-43b5-9b5c-f9d62a3643aa');\n",
              "          const dataTable =\n",
              "            await google.colab.kernel.invokeFunction('convertToInteractive',\n",
              "                                                     [key], {});\n",
              "          if (!dataTable) return;\n",
              "\n",
              "          const docLinkHtml = 'Like what you see? Visit the ' +\n",
              "            '<a target=\"_blank\" href=https://colab.research.google.com/notebooks/data_table.ipynb>data table notebook</a>'\n",
              "            + ' to learn more about interactive tables.';\n",
              "          element.innerHTML = '';\n",
              "          dataTable['output_type'] = 'display_data';\n",
              "          await google.colab.output.renderOutput(dataTable, element);\n",
              "          const docLink = document.createElement('div');\n",
              "          docLink.innerHTML = docLinkHtml;\n",
              "          element.appendChild(docLink);\n",
              "        }\n",
              "      </script>\n",
              "    </div>\n",
              "  </div>\n",
              "  "
            ]
          },
          "metadata": {},
          "execution_count": 5
        }
      ]
    },
    {
      "cell_type": "code",
      "source": [
        "df_sms.columns"
      ],
      "metadata": {
        "id": "7YcIglHVtx1l"
      },
      "execution_count": null,
      "outputs": []
    },
    {
      "cell_type": "code",
      "metadata": {
        "id": "PN4dQ9NKJMA4"
      },
      "source": [
        "df_sms.v2[8]"
      ],
      "execution_count": null,
      "outputs": []
    },
    {
      "cell_type": "code",
      "metadata": {
        "id": "Y2X_3LJ9Jk3s"
      },
      "source": [
        "df_sms.v1[8]"
      ],
      "execution_count": null,
      "outputs": []
    },
    {
      "cell_type": "code",
      "metadata": {
        "colab": {
          "base_uri": "https://localhost:8080/",
          "height": 206
        },
        "id": "tkUn07UjapIA",
        "outputId": "6c3df245-f329-4f6f-abe7-8826ac32a212"
      },
      "source": [
        "df_sms = df_sms.drop([\"Unnamed: 2\", \"Unnamed: 3\", \"Unnamed: 4\"], axis=1)\n",
        "df_sms = df_sms.rename(columns={\"v1\":\"label\", \"v2\":\"df_sms\"})\n",
        "df_sms.head()"
      ],
      "execution_count": 6,
      "outputs": [
        {
          "output_type": "execute_result",
          "data": {
            "text/plain": [
              "  label                                             df_sms\n",
              "0   ham  Go until jurong point, crazy.. Available only ...\n",
              "1   ham                      Ok lar... Joking wif u oni...\n",
              "2  spam  Free entry in 2 a wkly comp to win FA Cup fina...\n",
              "3   ham  U dun say so early hor... U c already then say...\n",
              "4   ham  Nah I don't think he goes to usf, he lives aro..."
            ],
            "text/html": [
              "\n",
              "  <div id=\"df-0b17d0ab-51c4-4271-8899-aeeb6d983c35\">\n",
              "    <div class=\"colab-df-container\">\n",
              "      <div>\n",
              "<style scoped>\n",
              "    .dataframe tbody tr th:only-of-type {\n",
              "        vertical-align: middle;\n",
              "    }\n",
              "\n",
              "    .dataframe tbody tr th {\n",
              "        vertical-align: top;\n",
              "    }\n",
              "\n",
              "    .dataframe thead th {\n",
              "        text-align: right;\n",
              "    }\n",
              "</style>\n",
              "<table border=\"1\" class=\"dataframe\">\n",
              "  <thead>\n",
              "    <tr style=\"text-align: right;\">\n",
              "      <th></th>\n",
              "      <th>label</th>\n",
              "      <th>df_sms</th>\n",
              "    </tr>\n",
              "  </thead>\n",
              "  <tbody>\n",
              "    <tr>\n",
              "      <th>0</th>\n",
              "      <td>ham</td>\n",
              "      <td>Go until jurong point, crazy.. Available only ...</td>\n",
              "    </tr>\n",
              "    <tr>\n",
              "      <th>1</th>\n",
              "      <td>ham</td>\n",
              "      <td>Ok lar... Joking wif u oni...</td>\n",
              "    </tr>\n",
              "    <tr>\n",
              "      <th>2</th>\n",
              "      <td>spam</td>\n",
              "      <td>Free entry in 2 a wkly comp to win FA Cup fina...</td>\n",
              "    </tr>\n",
              "    <tr>\n",
              "      <th>3</th>\n",
              "      <td>ham</td>\n",
              "      <td>U dun say so early hor... U c already then say...</td>\n",
              "    </tr>\n",
              "    <tr>\n",
              "      <th>4</th>\n",
              "      <td>ham</td>\n",
              "      <td>Nah I don't think he goes to usf, he lives aro...</td>\n",
              "    </tr>\n",
              "  </tbody>\n",
              "</table>\n",
              "</div>\n",
              "      <button class=\"colab-df-convert\" onclick=\"convertToInteractive('df-0b17d0ab-51c4-4271-8899-aeeb6d983c35')\"\n",
              "              title=\"Convert this dataframe to an interactive table.\"\n",
              "              style=\"display:none;\">\n",
              "        \n",
              "  <svg xmlns=\"http://www.w3.org/2000/svg\" height=\"24px\"viewBox=\"0 0 24 24\"\n",
              "       width=\"24px\">\n",
              "    <path d=\"M0 0h24v24H0V0z\" fill=\"none\"/>\n",
              "    <path d=\"M18.56 5.44l.94 2.06.94-2.06 2.06-.94-2.06-.94-.94-2.06-.94 2.06-2.06.94zm-11 1L8.5 8.5l.94-2.06 2.06-.94-2.06-.94L8.5 2.5l-.94 2.06-2.06.94zm10 10l.94 2.06.94-2.06 2.06-.94-2.06-.94-.94-2.06-.94 2.06-2.06.94z\"/><path d=\"M17.41 7.96l-1.37-1.37c-.4-.4-.92-.59-1.43-.59-.52 0-1.04.2-1.43.59L10.3 9.45l-7.72 7.72c-.78.78-.78 2.05 0 2.83L4 21.41c.39.39.9.59 1.41.59.51 0 1.02-.2 1.41-.59l7.78-7.78 2.81-2.81c.8-.78.8-2.07 0-2.86zM5.41 20L4 18.59l7.72-7.72 1.47 1.35L5.41 20z\"/>\n",
              "  </svg>\n",
              "      </button>\n",
              "      \n",
              "  <style>\n",
              "    .colab-df-container {\n",
              "      display:flex;\n",
              "      flex-wrap:wrap;\n",
              "      gap: 12px;\n",
              "    }\n",
              "\n",
              "    .colab-df-convert {\n",
              "      background-color: #E8F0FE;\n",
              "      border: none;\n",
              "      border-radius: 50%;\n",
              "      cursor: pointer;\n",
              "      display: none;\n",
              "      fill: #1967D2;\n",
              "      height: 32px;\n",
              "      padding: 0 0 0 0;\n",
              "      width: 32px;\n",
              "    }\n",
              "\n",
              "    .colab-df-convert:hover {\n",
              "      background-color: #E2EBFA;\n",
              "      box-shadow: 0px 1px 2px rgba(60, 64, 67, 0.3), 0px 1px 3px 1px rgba(60, 64, 67, 0.15);\n",
              "      fill: #174EA6;\n",
              "    }\n",
              "\n",
              "    [theme=dark] .colab-df-convert {\n",
              "      background-color: #3B4455;\n",
              "      fill: #D2E3FC;\n",
              "    }\n",
              "\n",
              "    [theme=dark] .colab-df-convert:hover {\n",
              "      background-color: #434B5C;\n",
              "      box-shadow: 0px 1px 3px 1px rgba(0, 0, 0, 0.15);\n",
              "      filter: drop-shadow(0px 1px 2px rgba(0, 0, 0, 0.3));\n",
              "      fill: #FFFFFF;\n",
              "    }\n",
              "  </style>\n",
              "\n",
              "      <script>\n",
              "        const buttonEl =\n",
              "          document.querySelector('#df-0b17d0ab-51c4-4271-8899-aeeb6d983c35 button.colab-df-convert');\n",
              "        buttonEl.style.display =\n",
              "          google.colab.kernel.accessAllowed ? 'block' : 'none';\n",
              "\n",
              "        async function convertToInteractive(key) {\n",
              "          const element = document.querySelector('#df-0b17d0ab-51c4-4271-8899-aeeb6d983c35');\n",
              "          const dataTable =\n",
              "            await google.colab.kernel.invokeFunction('convertToInteractive',\n",
              "                                                     [key], {});\n",
              "          if (!dataTable) return;\n",
              "\n",
              "          const docLinkHtml = 'Like what you see? Visit the ' +\n",
              "            '<a target=\"_blank\" href=https://colab.research.google.com/notebooks/data_table.ipynb>data table notebook</a>'\n",
              "            + ' to learn more about interactive tables.';\n",
              "          element.innerHTML = '';\n",
              "          dataTable['output_type'] = 'display_data';\n",
              "          await google.colab.output.renderOutput(dataTable, element);\n",
              "          const docLink = document.createElement('div');\n",
              "          docLink.innerHTML = docLinkHtml;\n",
              "          element.appendChild(docLink);\n",
              "        }\n",
              "      </script>\n",
              "    </div>\n",
              "  </div>\n",
              "  "
            ]
          },
          "metadata": {},
          "execution_count": 6
        }
      ]
    },
    {
      "cell_type": "code",
      "metadata": {
        "_uuid": "9729bb06b2b6dd3e6f303360ce5d2862d680931d",
        "id": "SLJx322AWHz_"
      },
      "source": [
        "print(len(df_sms))"
      ],
      "execution_count": null,
      "outputs": []
    },
    {
      "cell_type": "markdown",
      "metadata": {
        "_uuid": "67ee5d48e9f8ac6d1e646c799dd45ec37af5e825",
        "id": "bLCze36aWH0K"
      },
      "source": [
        "## Exploratory Data Analysis"
      ]
    },
    {
      "cell_type": "code",
      "metadata": {
        "_uuid": "6c7450eda9733db033403e4ae536876b4e9bb151",
        "id": "j2Q4DHNYWH0K"
      },
      "source": [
        "df_sms.describe()"
      ],
      "execution_count": null,
      "outputs": []
    },
    {
      "cell_type": "code",
      "metadata": {
        "_uuid": "dc7dccd0999c9a3efb2de51017be117f5e104b5b",
        "id": "QM0DyRJ_WH0M"
      },
      "source": [
        "df_sms.groupby('label').describe()"
      ],
      "execution_count": null,
      "outputs": []
    },
    {
      "cell_type": "code",
      "metadata": {
        "_uuid": "4ea80a382f1f748b6f0c61c37bac58c3bb4aa1bb",
        "id": "tXV7WvuWWH0P"
      },
      "source": [
        "df_sms['length'] = df_sms['sms'].apply(len)\n",
        "df_sms.head()"
      ],
      "execution_count": null,
      "outputs": []
    },
    {
      "cell_type": "markdown",
      "metadata": {
        "_uuid": "f5a51c4b8fc0eeafc40dd1bd401aa366800dca8d",
        "id": "2Hby8qQPWH0R"
      },
      "source": [
        "### Data Visualization"
      ]
    },
    {
      "cell_type": "code",
      "metadata": {
        "_uuid": "275ea822b0c6bef20b23f2724138da1faa46fd5d",
        "id": "JGihHU_ZWH0T"
      },
      "source": [
        "df_sms['length'].plot(bins=50,kind='hist')"
      ],
      "execution_count": null,
      "outputs": []
    },
    {
      "cell_type": "code",
      "metadata": {
        "id": "MOVMoEVZfBGI"
      },
      "source": [
        "df_sms.hist(column='length', by='label', bins=50,figsize=(10,4))"
      ],
      "execution_count": null,
      "outputs": []
    },
    {
      "cell_type": "code",
      "metadata": {
        "id": "2rpPS8nBKrHi"
      },
      "source": [
        "df_sms.pivot_table(index='label',values='length',aggfunc='mean')"
      ],
      "execution_count": null,
      "outputs": []
    },
    {
      "cell_type": "markdown",
      "metadata": {
        "id": "kB-2oikREiKZ"
      },
      "source": [
        "Eventhough the length will not be used as an input to our model in this notebook, we can clearly receive insights that can be useful from exploratory analysis."
      ]
    },
    {
      "cell_type": "code",
      "metadata": {
        "_uuid": "4d7658a542ab863a2d9f96726e4cfa2d901f2763",
        "id": "Gt3FvQnzWH0U"
      },
      "source": [
        "#@title Encode labels\n",
        "df_sms.loc[:,'label'] = df_sms['label'].map({'ham':0, 'spam':1})\n",
        "df_sms.head()"
      ],
      "execution_count": null,
      "outputs": []
    },
    {
      "cell_type": "code",
      "source": [
        "#@title Word Cloud\n",
        "wc = wordcloud.WordCloud(background_color='white', max_words=100, \n",
        "                         max_font_size=35)\n",
        "wc = wc.generate(\" \".join(df_sms[\"df_sms\"].tolist()))\n",
        "fig = plt.figure(num=1,figsize=(8,8))\n",
        "plt.axis('off')\n",
        "plt.imshow(wc, cmap=None)\n",
        "plt.show()"
      ],
      "metadata": {
        "id": "caW702oSVVH9"
      },
      "execution_count": null,
      "outputs": []
    },
    {
      "cell_type": "markdown",
      "metadata": {
        "id": "6uSwCNbf6p8H"
      },
      "source": [
        "## Dataset split to extract test set"
      ]
    },
    {
      "cell_type": "code",
      "metadata": {
        "id": "uRLgZE8k61EO"
      },
      "source": [
        "y = df_sms['label']\n",
        "X = df_sms['sms']\n",
        "\n",
        "X.head()"
      ],
      "execution_count": null,
      "outputs": []
    },
    {
      "cell_type": "code",
      "metadata": {
        "id": "1Fc2uHa17ymO"
      },
      "source": [
        "X_train_valid, X_test, y_train_valid, y_test = train_test_split(X, y, test_size=0.1, random_state=42)\n",
        "\n",
        "print(\"Train + validation set size: %d\\nTest set size: %d\" % (len(y_train_valid), len(y_test)))"
      ],
      "execution_count": null,
      "outputs": []
    },
    {
      "cell_type": "markdown",
      "metadata": {
        "id": "RPLOZVXjEM8H"
      },
      "source": [
        "### Splitting the train and validation data "
      ]
    },
    {
      "cell_type": "code",
      "metadata": {
        "id": "l3SE4_Ui_kb5"
      },
      "source": [
        "X_train, X_valid, y_train, y_valid = train_test_split(X_train_valid, y_train_valid, test_size=1/9, random_state=42)\n",
        "\n",
        "print(\"Train set size: %d\\nValid set size: %d\" % (len(y_train), len(y_valid)))"
      ],
      "execution_count": null,
      "outputs": []
    },
    {
      "cell_type": "markdown",
      "metadata": {
        "_uuid": "1992213dcf47852ec603874ddaa4c820b94dae65",
        "id": "ulFKWhGsWH0Y"
      },
      "source": [
        "## Text Pre-processing"
      ]
    },
    {
      "cell_type": "markdown",
      "metadata": {
        "_uuid": "69b6b489cd005118861e2806a623d68863b5a2ac",
        "id": "aO4C2KHrWH0Y"
      },
      "source": [
        "Our main issue with our data is that it is all in text format (strings). The classification algorithms that we've learned about so far will need some sort of numerical feature vector in order to perform the classification task. There are actually many methods to convert a corpus to a vector format. The simplest is the the [bag-of-words](http://en.wikipedia.org/wiki/Bag-of-words_model)(bag-of-unigrams) approach, where each unique word in a text will be represented by one number.\n",
        "\n",
        "\n",
        "In this section we'll convert the raw messages (sequence of characters) into vectors (sequences of numbers).\n",
        "\n",
        "\n",
        "Let's create a function that will process the string in the message column, then we can just use **apply()** in pandas do process all the text in the DataFrame."
      ]
    },
    {
      "cell_type": "markdown",
      "metadata": {
        "id": "F1vE-Gx75Xhe"
      },
      "source": [
        "### The steps to follow for a sample data"
      ]
    },
    {
      "cell_type": "code",
      "metadata": {
        "id": "RJMYqpcG5cf4"
      },
      "source": [
        "documents = ['Hello, how are you!',\n",
        "             'Win money, win from home.',\n",
        "             'Call me now.',\n",
        "             'Hello, Call hello you tomorrow?']"
      ],
      "execution_count": null,
      "outputs": []
    },
    {
      "cell_type": "markdown",
      "metadata": {
        "id": "2YdPPdxz5Hve"
      },
      "source": [
        "Step 1: Convert all strings to their lower case form.\n",
        "\n",
        "\n",
        "> We don't want two hello features exist \"Hello\" and \"hello\"\n",
        "\n",
        "> There are some exceptions though, \"US\" and \"us\"\n"
      ]
    },
    {
      "cell_type": "code",
      "metadata": {
        "id": "Gh0WN2iP489Y"
      },
      "source": [
        "lower_case_documents = [d.lower() for d in documents]\n",
        "print(lower_case_documents)"
      ],
      "execution_count": null,
      "outputs": []
    },
    {
      "cell_type": "markdown",
      "metadata": {
        "id": "0JNz5paS5g8K"
      },
      "source": [
        "Step 2: Removing all punctuations\n",
        "\n",
        "> Does not provide information in general\n",
        "\n",
        "\n",
        "\n",
        "\n"
      ]
    },
    {
      "cell_type": "code",
      "metadata": {
        "id": "S4oP9Pf4MdV-"
      },
      "source": [
        "string.punctuation"
      ],
      "execution_count": null,
      "outputs": []
    },
    {
      "cell_type": "code",
      "metadata": {
        "id": "4p_yBRPQ5jma"
      },
      "source": [
        "punctuation_documents = []\n",
        "\n",
        "for sent in lower_case_documents:\n",
        "    #Translate applies the map\n",
        "    #Maketrans provides the map, if three arguments are passed, each character in the third argument is mapped to None.\n",
        "    punctuation_documents.append(sent.translate(str.maketrans(\"\", \"\", string.punctuation)))\n",
        "    \n",
        "punctuation_documents"
      ],
      "execution_count": null,
      "outputs": []
    },
    {
      "cell_type": "markdown",
      "metadata": {
        "id": "f9p9GZ2B5nBq"
      },
      "source": [
        "Step 3: Tokenization"
      ]
    },
    {
      "cell_type": "code",
      "metadata": {
        "id": "awaWXZxl5o2V"
      },
      "source": [
        "preprocessed_documents = [[w for w in d.split()] for d in punctuation_documents]\n",
        "preprocessed_documents"
      ],
      "execution_count": null,
      "outputs": []
    },
    {
      "cell_type": "markdown",
      "metadata": {
        "id": "TseHDT3H5vdl"
      },
      "source": [
        "Step 4: Count frequencies"
      ]
    },
    {
      "cell_type": "code",
      "metadata": {
        "id": "_5f-cZ6x5wqs"
      },
      "source": [
        "frequency_list = []\n",
        "\n",
        "frequency_list = [Counter(d) for d in preprocessed_documents]\n",
        "pprint.pprint(frequency_list)"
      ],
      "execution_count": null,
      "outputs": []
    },
    {
      "cell_type": "markdown",
      "metadata": {
        "id": "pdkfh1EO562P"
      },
      "source": [
        "### Implementing Bag of Words in scikit-learn\n",
        "\n",
        "![810af58f-b899-4033-a446-fb38e755dc1b.png](data:image/png;base64,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)"
      ]
    },
    {
      "cell_type": "code",
      "metadata": {
        "_uuid": "5430151da61ebb4d752d299820d7178497419773",
        "id": "v9L0mbpTWH0j"
      },
      "source": [
        "count_vector = CountVectorizer()"
      ],
      "execution_count": null,
      "outputs": []
    },
    {
      "cell_type": "markdown",
      "metadata": {
        "id": "EZCNGKwG6ZF7"
      },
      "source": [
        "CountVectorizer() has certain parameters which take care of these steps for us. They are:\n",
        "\n",
        "\n",
        "\n",
        "```\n",
        "lowercase = True\n",
        "```\n",
        "\n",
        "\n",
        "\n",
        "\n",
        "The lowercase parameter has a default value of True which converts all of our text to its lower case form.\n",
        "\n",
        "\n",
        "\n",
        "```\n",
        "token_pattern = (?u)\\b\\w\\w+\\b\n",
        "```\n",
        "\n",
        "\n",
        "The token_pattern parameter has a default regular expression value of (?u)\\b\\w\\w+\\b which ignores all punctuation marks and treats them as delimiters, while accepting alphanumeric strings of length greater than or equal to 2, as individual tokens or words.\n",
        "\n",
        "```\n",
        "stop_words\n",
        "```\n",
        "\n",
        "The stop_words parameter, if set to english will remove all words from our document set that match a list of English stop words which is defined in scikit-learn. Such as 'the', 'a', 'an', etc.\n",
        "\n",
        "\n",
        "\n",
        "\n",
        "We will be experimenting the effects of these preprocessing steps during model selection\n"
      ]
    },
    {
      "cell_type": "code",
      "metadata": {
        "id": "2-M-4oDN-1WE"
      },
      "source": [
        "count_vector.fit(documents)\n",
        "count_vector.get_feature_names()"
      ],
      "execution_count": null,
      "outputs": []
    },
    {
      "cell_type": "code",
      "metadata": {
        "id": "WNT94iLTN7oo"
      },
      "source": [
        "len(count_vector.get_feature_names())"
      ],
      "execution_count": null,
      "outputs": []
    },
    {
      "cell_type": "code",
      "metadata": {
        "id": "57BO6y-q-8oX"
      },
      "source": [
        "doc_array = count_vector.transform(documents).toarray()\n",
        "doc_array"
      ],
      "execution_count": null,
      "outputs": []
    },
    {
      "cell_type": "markdown",
      "metadata": {
        "id": "dLV8Wh4X_BNV"
      },
      "source": [
        "To interpret this array better"
      ]
    },
    {
      "cell_type": "code",
      "metadata": {
        "id": "dhnWMbw5_FN5"
      },
      "source": [
        "pd.DataFrame(doc_array, columns=count_vector.get_feature_names())"
      ],
      "execution_count": null,
      "outputs": []
    },
    {
      "cell_type": "markdown",
      "metadata": {
        "id": "Ma-7dkyCHvi0"
      },
      "source": [
        "# Now we will apply this vectorization to our data with different pre-processing steps"
      ]
    },
    {
      "cell_type": "markdown",
      "metadata": {
        "id": "peIOpCw1JTK5"
      },
      "source": [
        "## Model 1 - No lowercase and stopword removal"
      ]
    },
    {
      "cell_type": "code",
      "metadata": {
        "_uuid": "1f75d8f2fd2b5b1ad19f98fc0d4298198b37dcd3",
        "id": "UKYc3xbNWH0k"
      },
      "source": [
        "X_train.head()"
      ],
      "execution_count": null,
      "outputs": []
    },
    {
      "cell_type": "code",
      "metadata": {
        "id": "S7CArbHT_lBm"
      },
      "source": [
        "# Instantiate the CountVectorizer method\n",
        "count_vector = CountVectorizer(lowercase=False)\n",
        "\n",
        "# Fit the training data and then get the vectors\n",
        "X_bow_train = count_vector.fit_transform(X_train)\n",
        "\n",
        "# Transform validation and testing data without learning the statistics and get the matrix. \n",
        "X_bow_valid = count_vector.transform(X_valid)"
      ],
      "execution_count": null,
      "outputs": []
    },
    {
      "cell_type": "code",
      "metadata": {
        "id": "k67LbA82_k4t"
      },
      "source": [
        "X_bow_train.toarray()[:5]"
      ],
      "execution_count": null,
      "outputs": []
    },
    {
      "cell_type": "code",
      "metadata": {
        "id": "FCJTQicu_kxE"
      },
      "source": [
        "X_bow_train.shape"
      ],
      "execution_count": null,
      "outputs": []
    },
    {
      "cell_type": "markdown",
      "metadata": {
        "id": "6UnW1EkvAv3E"
      },
      "source": [
        "Vocabulary"
      ]
    },
    {
      "cell_type": "code",
      "metadata": {
        "id": "OjC1MgcxAz2q"
      },
      "source": [
        "print(\"The vocabulary size of our data is %d\" % (X_bow_train.shape[1]))"
      ],
      "execution_count": null,
      "outputs": []
    },
    {
      "cell_type": "markdown",
      "metadata": {
        "id": "eIj1q14bAWsB"
      },
      "source": [
        "We except many of the features are zeros but, how many of our matrix filled with non-zero?"
      ]
    },
    {
      "cell_type": "code",
      "metadata": {
        "id": "8fXkTTKV_kpp"
      },
      "source": [
        "nonzero_feature_count = X_bow_train.nnz\n",
        "total_feature_count = X_bow_train.shape[0]*X_bow_train.shape[1]\n",
        "\n",
        "print(\"Non-zero features\", nonzero_feature_count)\n",
        "print(\"Total number of features (matrix size)\", total_feature_count)\n",
        "print(\"The percentage %%%.2f\" % (100*nonzero_feature_count/total_feature_count))"
      ],
      "execution_count": null,
      "outputs": []
    },
    {
      "cell_type": "markdown",
      "metadata": {
        "id": "gCJnQ3uCCGq4"
      },
      "source": [
        "The matrix that has very small portion of the values are non-zero called [Sparse Matrix](https://en.wikipedia.org/wiki/Sparse_matrix). The data uses massive amount of memory filled with 0 values to represent small number of features. Besides the memory problem, the machine learning model performance suffers to correlate the features because of this sparsity issue.\n",
        "\n",
        "There are various ways to decrease sparsity by cleaning, normalizing the data without loosing information."
      ]
    },
    {
      "cell_type": "code",
      "metadata": {
        "id": "yKZa8uU_0TLE"
      },
      "source": [
        "type(X_bow_train)"
      ],
      "execution_count": null,
      "outputs": []
    },
    {
      "cell_type": "markdown",
      "metadata": {
        "_uuid": "b830e24a445ee72dd3fb62104f1b41cc0c3b1fb8",
        "id": "_gNEKbCdWH00"
      },
      "source": [
        "## Training a model"
      ]
    },
    {
      "cell_type": "markdown",
      "metadata": {
        "_uuid": "e2c83a25b80617a905e8c15938de7347b0b7c5e5",
        "id": "v7la7TpOWH00"
      },
      "source": [
        "With messages represented as vectors, we can finally train our spam/ham classifier. Now we can actually use almost any sort of classification algorithms. For a [variety of reasons](http://www.inf.ed.ac.uk/teaching/courses/inf2b/learnnotes/inf2b-learn-note07-2up.pdf), the Naive Bayes classifier algorithm is a good choice.\n",
        "\n",
        "We are using Multinomial Naive Bayes, since the occurence of one feature does not affect the probability of occurrence of the other feature in our task.\n",
        "\n",
        "In parallel, we are going to train a Logistic Regression model to compare its performance with the Naive Bayes Model."
      ]
    },
    {
      "cell_type": "code",
      "metadata": {
        "id": "BrN5tVUK_kji"
      },
      "source": [
        "naive_bayes = MultinomialNB()\n",
        "naive_bayes.fit(X_bow_train, y_train)"
      ],
      "execution_count": null,
      "outputs": []
    },
    {
      "cell_type": "code",
      "metadata": {
        "id": "LjcrUK_P_X63"
      },
      "source": [
        "\n",
        "lr = LogisticRegression()\n",
        "lr.fit(X_bow_train, y_train)"
      ],
      "execution_count": null,
      "outputs": []
    },
    {
      "cell_type": "markdown",
      "metadata": {
        "_uuid": "5defe5dcce62c4d9fa8484577c03a0e1e8d0f31f",
        "id": "jLdIYUbQWH03"
      },
      "source": [
        "### Model Evaluation"
      ]
    },
    {
      "cell_type": "code",
      "metadata": {
        "_uuid": "826b17d398f15736babd339a818b5ca106b0bf5d",
        "id": "sf2JCUt1WH01"
      },
      "source": [
        "y_pred_valid = naive_bayes.predict(X_bow_valid)\n",
        "\n",
        "y_pred_valid_lr = lr.predict(X_bow_valid)"
      ],
      "execution_count": null,
      "outputs": []
    },
    {
      "cell_type": "markdown",
      "metadata": {
        "id": "UTzsUCyyF6G4"
      },
      "source": [
        "### Why not use accuracy?"
      ]
    },
    {
      "cell_type": "code",
      "metadata": {
        "id": "qFfqv6HQF8pU"
      },
      "source": [
        "### Majority class voting\n",
        "y_valid_majority = np.full(y_valid.shape, 0)\n",
        "\n",
        "y_valid_majority"
      ],
      "execution_count": null,
      "outputs": []
    },
    {
      "cell_type": "code",
      "metadata": {
        "id": "ZLRvtmLTGT34"
      },
      "source": [
        "accuracy_score(y_valid, y_valid_majority)"
      ],
      "execution_count": null,
      "outputs": []
    },
    {
      "cell_type": "markdown",
      "metadata": {
        "id": "waGbKxt6F_i0"
      },
      "source": [
        "### Precision, Recall, F1-Score"
      ]
    },
    {
      "cell_type": "markdown",
      "metadata": {
        "_uuid": "132b52f3912f267fee8719b011967e354bb883b1",
        "id": "5qzw8DoQWH04"
      },
      "source": [
        "We can use SciKit Learn's built-in classification report, which returns [precision, recall,](https://en.wikipedia.org/wiki/Precision_and_recall) [f1-score](https://en.wikipedia.org/wiki/F1_score), and a column for support (meaning how many cases supported that classification). Check out the links for more detailed info on each of these metrics and the figure below:"
      ]
    },
    {
      "cell_type": "markdown",
      "metadata": {
        "_uuid": "4a795a2c3932edc688612ac1b65b9855b80f3e31",
        "id": "VK9JCYzTWH04"
      },
      "source": [
        "<img src='https://upload.wikimedia.org/wikipedia/commons/thumb/2/26/Precisionrecall.svg/700px-Precisionrecall.svg.png' width=400 />\n",
        "\n",
        "The formulation:\n",
        "\n",
        "## $ Accuracy = \\frac{TP + TN}{Total}$\n",
        "## $ Precision = \\frac{TP}{TP + FP}$\n",
        "## $ Recall = \\frac{TP}{TP + FN}$\n",
        "## $ F1 = 2\\times\\frac{1}{\\frac{1}{Precision}+\\frac{1}{Recall}}$"
      ]
    },
    {
      "cell_type": "code",
      "metadata": {
        "id": "rCdB_lMM9CaH"
      },
      "source": [
        "print(\"Multinomial Naive Bayes Results:\")\n",
        "print(\"Precision:\", precision_score(y_valid,y_pred_valid))\n",
        "print(\"Recall:\", recall_score(y_valid,y_pred_valid))\n",
        "print(\"F1 Score:\", f1_score(y_valid,y_pred_valid))\n",
        "print(\"Confusion matrix:\\n\",confusion_matrix(y_valid,y_pred_valid))"
      ],
      "execution_count": null,
      "outputs": []
    },
    {
      "cell_type": "code",
      "metadata": {
        "id": "MstYCfsBAF2-"
      },
      "source": [
        "print(\"Logistic Regression Results:\")\n",
        "print(\"Precision:\", precision_score(y_valid,y_pred_valid_lr))\n",
        "print(\"Recall:\", recall_score(y_valid,y_pred_valid_lr))\n",
        "print(\"F1 Score:\", f1_score(y_valid,y_pred_valid_lr))\n",
        "print(\"Confusion matrix:\\n\",confusion_matrix(y_valid,y_pred_valid_lr))"
      ],
      "execution_count": null,
      "outputs": []
    },
    {
      "cell_type": "markdown",
      "metadata": {
        "_uuid": "33aec3feb1cd1af096ed3d63bf2c9a0801097da8",
        "id": "uZ6ckr5GWH05"
      },
      "source": [
        "There are quite a few possible metrics for evaluating model performance. Which one is the most important depends on the task and the business effects of decisions based off of the model. For example, the cost of mis-predicting \"spam\" as \"ham\" is probably much lower than mis-predicting \"ham\" as \"spam\".\n",
        "\n",
        "Thus, our goal is to increase the f1-score and therefore the macro-average."
      ]
    },
    {
      "cell_type": "markdown",
      "metadata": {
        "id": "dynKUBYzKiY0"
      },
      "source": [
        "## Model 2 - Do lowercase and no stopword removal"
      ]
    },
    {
      "cell_type": "code",
      "metadata": {
        "id": "Gu9ETDcRKh2C"
      },
      "source": [
        "# Instantiate the CountVectorizer method, with default lowercase=True\n",
        "count_vector = CountVectorizer()\n",
        "\n",
        "# Fit the training data and then get the vectors\n",
        "X_bow_train = count_vector.fit_transform(X_train)\n",
        "\n",
        "# Transform validation and testing data without learning the statistics and get the matrix. \n",
        "X_bow_valid = count_vector.transform(X_valid)"
      ],
      "execution_count": null,
      "outputs": []
    },
    {
      "cell_type": "code",
      "metadata": {
        "id": "n8TnUcmRK6AZ"
      },
      "source": [
        "X_bow_train.shape"
      ],
      "execution_count": null,
      "outputs": []
    },
    {
      "cell_type": "markdown",
      "metadata": {
        "id": "Iyu3HEHKLAjD"
      },
      "source": [
        "Our vocabulary size decreased from 9564 to 7699\n",
        "\n",
        "How about the non-zero ratio?"
      ]
    },
    {
      "cell_type": "code",
      "metadata": {
        "colab": {
          "base_uri": "https://localhost:8080/"
        },
        "id": "5GPTVDmmK_hO",
        "outputId": "86301691-1a4a-4998-f940-c4a613e3b7a0"
      },
      "source": [
        "nonzero_feature_count = X_bow_train.nnz\n",
        "total_feature_count = X_bow_train.shape[0]*X_bow_train.shape[1]\n",
        "\n",
        "print(\"Non-zero features\", nonzero_feature_count)\n",
        "print(\"Total number of features (matrix size)\", total_feature_count)\n",
        "print(\"The percentage %%%.2f\" % (100*nonzero_feature_count/total_feature_count))"
      ],
      "execution_count": null,
      "outputs": [
        {
          "output_type": "stream",
          "text": [
            "Non-zero features 58770\n",
            "Total number of features (matrix size) 34306744\n",
            "The percentage %0.17\n"
          ],
          "name": "stdout"
        }
      ]
    },
    {
      "cell_type": "markdown",
      "metadata": {
        "id": "p-IjTsUYLNwg"
      },
      "source": [
        "Our non-zero percentage increased from \n",
        "\n",
        "\n",
        "```\n",
        "%0.14 -> %0.17\n",
        "```\n",
        "\n",
        "This can be interpreted as our data is less sparse\n"
      ]
    },
    {
      "cell_type": "code",
      "metadata": {
        "id": "2ahX-QtyLMbT"
      },
      "source": [
        "naive_bayes = MultinomialNB()\n",
        "naive_bayes.fit(X_bow_train, y_train)"
      ],
      "execution_count": null,
      "outputs": []
    },
    {
      "cell_type": "code",
      "metadata": {
        "id": "tW7MsZ2WARG3"
      },
      "source": [
        "lr = LogisticRegression()\n",
        "lr.fit(X_bow_train, y_train)"
      ],
      "execution_count": null,
      "outputs": []
    },
    {
      "cell_type": "code",
      "metadata": {
        "id": "InBPAvl4Lh7b"
      },
      "source": [
        "y_pred_valid = naive_bayes.predict(X_bow_valid)"
      ],
      "execution_count": null,
      "outputs": []
    },
    {
      "cell_type": "code",
      "metadata": {
        "id": "b7cIqCuDAWKU"
      },
      "source": [
        "y_pred_valid_lr = lr.predict(X_bow_valid)"
      ],
      "execution_count": null,
      "outputs": []
    },
    {
      "cell_type": "code",
      "metadata": {
        "id": "JtC2MhxcLkZY"
      },
      "source": [
        "print(\"Naive Bayes Results:\")\n",
        "print(\"Precision:\", precision_score(y_valid,y_pred_valid))\n",
        "print(\"Recall:\", recall_score(y_valid,y_pred_valid))\n",
        "print(\"F1 Score:\", f1_score(y_valid,y_pred_valid))\n",
        "print(\"Confusion matrix:\\n\",confusion_matrix(y_valid,y_pred_valid))"
      ],
      "execution_count": null,
      "outputs": []
    },
    {
      "cell_type": "code",
      "metadata": {
        "id": "VJ8DNp9VAd-a"
      },
      "source": [
        "print(\"Logistic Regression Results:\")\n",
        "print(\"Precision:\", precision_score(y_valid,y_pred_valid_lr))\n",
        "print(\"Recall:\", recall_score(y_valid,y_pred_valid_lr))\n",
        "print(\"F1 Score:\", f1_score(y_valid,y_pred_valid_lr))\n",
        "print(\"Confusion matrix:\\n\",confusion_matrix(y_valid,y_pred_valid_lr))"
      ],
      "execution_count": null,
      "outputs": []
    },
    {
      "cell_type": "markdown",
      "metadata": {
        "id": "e1-gpfQ-Lr9o"
      },
      "source": [
        "So, our f1-score decreased\n",
        "\n",
        "\n",
        "```\n",
        "0.96 to 0.94\n",
        "```\n"
      ]
    },
    {
      "cell_type": "markdown",
      "metadata": {
        "id": "FyorfEo5MEVs"
      },
      "source": [
        "## Model 3 - Do lowercase and stopword removal"
      ]
    },
    {
      "cell_type": "code",
      "metadata": {
        "id": "tAb-DOhNLmQR"
      },
      "source": [
        "# Instantiate the CountVectorizer method, with default lowercase=True\n",
        "count_vector = CountVectorizer(stop_words='english')\n",
        "\n",
        "# Fit the training data and then get the vectors\n",
        "X_bow_train = count_vector.fit_transform(X_train)\n",
        "\n",
        "# Transform validation and testing data without learning the statistics and get the matrix. \n",
        "X_bow_valid = count_vector.transform(X_valid)"
      ],
      "execution_count": null,
      "outputs": []
    },
    {
      "cell_type": "code",
      "metadata": {
        "id": "aJN0Do5gMWMw"
      },
      "source": [
        "X_bow_train.shape"
      ],
      "execution_count": null,
      "outputs": []
    },
    {
      "cell_type": "code",
      "metadata": {
        "id": "i1gl_59EMZCi"
      },
      "source": [
        "nonzero_feature_count = X_bow_train.nnz\n",
        "total_feature_count = X_bow_train.shape[0]*X_bow_train.shape[1]\n",
        "\n",
        "print(\"Non-zero features\", nonzero_feature_count)\n",
        "print(\"Total number of features (matrix size)\", total_feature_count)\n",
        "print(\"The percentage %%%.2f\" % (100*nonzero_feature_count/total_feature_count))"
      ],
      "execution_count": null,
      "outputs": []
    },
    {
      "cell_type": "code",
      "metadata": {
        "id": "LVHPtxJNMbLh"
      },
      "source": [
        "naive_bayes = MultinomialNB()\n",
        "naive_bayes.fit(X_bow_train, y_train)\n",
        "\n",
        "y_pred_valid = naive_bayes.predict(X_bow_valid)"
      ],
      "execution_count": null,
      "outputs": []
    },
    {
      "cell_type": "code",
      "metadata": {
        "id": "94edH9N4AsLg"
      },
      "source": [
        "lr = LogisticRegression()\n",
        "lr.fit(X_bow_train, y_train)"
      ],
      "execution_count": null,
      "outputs": []
    },
    {
      "cell_type": "code",
      "metadata": {
        "id": "G98VQb8tMpog"
      },
      "source": [
        "print(\"Naive Bayes Results:\")\n",
        "print(\"Precision:\", precision_score(y_valid,y_pred_valid))\n",
        "print(\"Recall:\", recall_score(y_valid,y_pred_valid))\n",
        "print(\"F1 Score:\", f1_score(y_valid,y_pred_valid))\n",
        "print(\"Confusion matrix:\\n\",confusion_matrix(y_valid,y_pred_valid))"
      ],
      "execution_count": null,
      "outputs": []
    },
    {
      "cell_type": "code",
      "metadata": {
        "id": "HYIwA9AKBDPR"
      },
      "source": [
        "print(\"Logistic Regression Results:\")\n",
        "print(\"Precision:\", precision_score(y_valid,y_pred_valid_lr))\n",
        "print(\"Recall:\", recall_score(y_valid,y_pred_valid_lr))\n",
        "print(\"F1 Score:\", f1_score(y_valid,y_pred_valid_lr))\n",
        "print(\"Confusion matrix:\\n\",confusion_matrix(y_valid,y_pred_valid_lr))"
      ],
      "execution_count": null,
      "outputs": []
    },
    {
      "cell_type": "markdown",
      "metadata": {
        "id": "AM51CCcrM0Rc"
      },
      "source": [
        "#### So, the stop_word removal not improved our results and we will provide the results of our model that uses lowercase application but not stopword removal"
      ]
    },
    {
      "cell_type": "markdown",
      "metadata": {
        "id": "rb4lSQtESuW3"
      },
      "source": [
        "# The final model training and test results\n",
        "\n",
        "Naive bayes method does not derive on learning the model parameters through optimization based on the data. Eventhough this not apply to whole machine learning models, we can decide not to use the model that provided the best results and train with train+validation set with the same approach. This provide us to learn from more data."
      ]
    },
    {
      "cell_type": "code",
      "metadata": {
        "id": "C0f6mJCJMuYt"
      },
      "source": [
        "# Instantiate the CountVectorizer method, with default lowercase=True\n",
        "count_vector = CountVectorizer()\n",
        "\n",
        "# Fit the training data and then get the vectors\n",
        "X_bow_train_valid = count_vector.fit_transform(X_train_valid)\n",
        "\n",
        "# Transform testing data without learning the statistics and get the matrix. \n",
        "X_bow_test = count_vector.transform(X_test)"
      ],
      "execution_count": null,
      "outputs": []
    },
    {
      "cell_type": "code",
      "metadata": {
        "id": "N4Wqs7jzOVSz"
      },
      "source": [
        "X_bow_train_valid.shape"
      ],
      "execution_count": null,
      "outputs": []
    },
    {
      "cell_type": "code",
      "metadata": {
        "id": "TqtzufKkOXmC"
      },
      "source": [
        "naive_bayes = MultinomialNB()\n",
        "naive_bayes.fit(X_bow_train_valid, y_train_valid)\n",
        "\n",
        "y_pred_test = naive_bayes.predict(X_bow_test)"
      ],
      "execution_count": null,
      "outputs": []
    },
    {
      "cell_type": "code",
      "metadata": {
        "id": "hIe0m7V6OdEr"
      },
      "source": [
        "print(\"Precision:\", precision_score(y_test,y_pred_test))\n",
        "print(\"Recall:\", recall_score(y_test,y_pred_test))\n",
        "print(\"F1 Score:\", f1_score(y_test,y_pred_test))\n",
        "print(\"Confusion matrix:\\n\",confusion_matrix(y_test,y_pred_test))"
      ],
      "execution_count": null,
      "outputs": []
    },
    {
      "cell_type": "markdown",
      "metadata": {
        "id": "755-mNA1O9Xc"
      },
      "source": [
        "## Further Experiments\n",
        "\n",
        "\n",
        "1.   Bag of Bi-gram, Tri-gram, N-gram features\n",
        "2.   Further normalization approaches such as stemming, lemmatization\n",
        "3.   TF-IDF, term frequency - inverse document frequency statistics from bag-of-words\n",
        "4.   Dataset balancing, upsampling/downsampling\n",
        "5.   More complex natural language models\n",
        "\n"
      ]
    },
    {
      "cell_type": "code",
      "source": [],
      "metadata": {
        "id": "9urYdTZYM8Q3"
      },
      "execution_count": null,
      "outputs": []
    }
  ]
}