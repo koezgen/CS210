{
 "cells": [
  {
   "cell_type": "markdown",
   "metadata": {
    "id": "JAFKYgrpL9eY"
   },
   "source": [
    "##Basics of Python"
   ]
  },
  {
   "cell_type": "markdown",
   "metadata": {
    "id": "RbFS6tdgL9ea"
   },
   "source": [
    "Python is a high-level, dynamically typed multiparadigm programming language. Python code is often said to be almost like pseudocode, since it allows you to express very powerful ideas in very few lines of code while being very readable. "
   ]
  },
  {
   "cell_type": "markdown",
   "metadata": {
    "id": "_-FE77wxSMvO"
   },
   "source": [
    "# Getting Started!"
   ]
  },
  {
   "cell_type": "markdown",
   "metadata": {
    "id": "v0dMCOADSMvQ"
   },
   "source": [
    "#### Variables "
   ]
  },
  {
   "cell_type": "code",
   "execution_count": 1,
   "metadata": {
    "ExecuteTime": {
     "end_time": "2019-02-22T11:37:55.916460Z",
     "start_time": "2019-02-22T11:37:55.907093Z"
    },
    "colab": {
     "base_uri": "https://localhost:8080/"
    },
    "executionInfo": {
     "elapsed": 18,
     "status": "ok",
     "timestamp": 1678199724449,
     "user": {
      "displayName": "Vahid Khalili Param",
      "userId": "06314421878379931304"
     },
     "user_tz": -180
    },
    "id": "d9jC-f0PSMvR",
    "outputId": "dd9a5845-51a0-47ae-c2be-9bdd3f575bdd"
   },
   "outputs": [
    {
     "data": {
      "text/plain": [
       "str"
      ]
     },
     "execution_count": 1,
     "metadata": {},
     "output_type": "execute_result"
    }
   ],
   "source": [
    "s = \"Python for data science\"\n",
    "s\n",
    "type(s)   # prints the last value returned in the cell, no need to call print()"
   ]
  },
  {
   "cell_type": "code",
   "execution_count": null,
   "metadata": {
    "ExecuteTime": {
     "end_time": "2019-02-22T11:37:56.504194Z",
     "start_time": "2019-02-22T11:37:56.496267Z"
    },
    "colab": {
     "base_uri": "https://localhost:8080/"
    },
    "executionInfo": {
     "elapsed": 789,
     "status": "ok",
     "timestamp": 1678185247691,
     "user": {
      "displayName": "Vahid Khalili Param",
      "userId": "06314421878379931304"
     },
     "user_tz": -180
    },
    "id": "-JPRgBCKSMvW",
    "outputId": "baad2145-941e-4920-caad-8a86305a9a1e"
   },
   "outputs": [
    {
     "name": "stdout",
     "output_type": "stream",
     "text": [
      "<class 'str'>\n"
     ]
    }
   ],
   "source": [
    "print(type(s))   # print formats the same output"
   ]
  },
  {
   "cell_type": "code",
   "execution_count": 2,
   "metadata": {
    "ExecuteTime": {
     "end_time": "2019-02-22T11:37:57.040208Z",
     "start_time": "2019-02-22T11:37:57.031164Z"
    },
    "colab": {
     "base_uri": "https://localhost:8080/"
    },
    "executionInfo": {
     "elapsed": 1152,
     "status": "ok",
     "timestamp": 1678199794532,
     "user": {
      "displayName": "Vahid Khalili Param",
      "userId": "06314421878379931304"
     },
     "user_tz": -180
    },
    "id": "OLzzd8I2SMvZ",
    "outputId": "c7396bd7-9ca2-4c71-8fa5-0755e38df8f3"
   },
   "outputs": [
    {
     "data": {
      "text/plain": [
       "int"
      ]
     },
     "execution_count": 2,
     "metadata": {},
     "output_type": "execute_result"
    }
   ],
   "source": [
    "s = 10  # a variable can be assigned to another data type\n",
    "type(s)"
   ]
  },
  {
   "cell_type": "code",
   "execution_count": 4,
   "metadata": {
    "ExecuteTime": {
     "end_time": "2019-02-22T11:37:57.558821Z",
     "start_time": "2019-02-22T11:37:57.553496Z"
    },
    "executionInfo": {
     "elapsed": 305,
     "status": "ok",
     "timestamp": 1678199830432,
     "user": {
      "displayName": "Vahid Khalili Param",
      "userId": "06314421878379931304"
     },
     "user_tz": -180
    },
    "id": "F-t37GL7SMvc"
   },
   "outputs": [],
   "source": [
    "x = 2\n",
    "y = 5\n",
    "xy = 'Hey'"
   ]
  },
  {
   "cell_type": "code",
   "execution_count": 5,
   "metadata": {
    "ExecuteTime": {
     "end_time": "2019-02-22T11:37:58.057639Z",
     "start_time": "2019-02-22T11:37:58.051124Z"
    },
    "colab": {
     "base_uri": "https://localhost:8080/"
    },
    "executionInfo": {
     "elapsed": 4,
     "status": "ok",
     "timestamp": 1678199832782,
     "user": {
      "displayName": "Vahid Khalili Param",
      "userId": "06314421878379931304"
     },
     "user_tz": -180
    },
    "id": "IahShWFgSMvh",
    "outputId": "66b84eee-fba5-4bd5-d0a4-a2530436f8bc"
   },
   "outputs": [
    {
     "name": "stdout",
     "output_type": "stream",
     "text": [
      "2 5 Hey\n"
     ]
    }
   ],
   "source": [
    "print(x, y, xy)  # printing multiple variables"
   ]
  },
  {
   "cell_type": "markdown",
   "metadata": {
    "id": "UWUTPB_bSMvk"
   },
   "source": [
    "#### Aritmetic Operators"
   ]
  },
  {
   "cell_type": "markdown",
   "metadata": {
    "id": "qMTrfCFxSMvl"
   },
   "source": [
    "| Symbol | Task |\n",
    "|---|---|\n",
    "| `+` | addition |\n",
    "| `-` | subtraction |\n",
    "| `*` | multiplication |\n",
    "| `/` | division |\n",
    "| `%` | modulo |\n",
    "| `//` | integer division |\n",
    "| `**` | power |"
   ]
  },
  {
   "cell_type": "code",
   "execution_count": null,
   "metadata": {
    "ExecuteTime": {
     "end_time": "2019-02-22T11:37:59.606745Z",
     "start_time": "2019-02-22T11:37:59.604386Z"
    },
    "colab": {
     "base_uri": "https://localhost:8080/"
    },
    "executionInfo": {
     "elapsed": 846,
     "status": "ok",
     "timestamp": 1678185375133,
     "user": {
      "displayName": "Vahid Khalili Param",
      "userId": "06314421878379931304"
     },
     "user_tz": -180
    },
    "id": "QsMXY6OASMvm",
    "outputId": "f622d0c1-2e12-4480-cf53-00e4f1e75dc8"
   },
   "outputs": [
    {
     "name": "stdout",
     "output_type": "stream",
     "text": [
      "2.5\n"
     ]
    }
   ],
   "source": [
    "print(5/2)"
   ]
  },
  {
   "cell_type": "code",
   "execution_count": null,
   "metadata": {
    "ExecuteTime": {
     "end_time": "2019-02-22T11:38:00.119250Z",
     "start_time": "2019-02-22T11:38:00.114811Z"
    },
    "colab": {
     "base_uri": "https://localhost:8080/"
    },
    "executionInfo": {
     "elapsed": 349,
     "status": "ok",
     "timestamp": 1678185389047,
     "user": {
      "displayName": "Vahid Khalili Param",
      "userId": "06314421878379931304"
     },
     "user_tz": -180
    },
    "id": "RGzjxCxsSMvp",
    "outputId": "5c341403-8fa3-408d-bf56-485bf228281b"
   },
   "outputs": [
    {
     "name": "stdout",
     "output_type": "stream",
     "text": [
      "2\n"
     ]
    }
   ],
   "source": [
    "print(5//2)"
   ]
  },
  {
   "cell_type": "code",
   "execution_count": 6,
   "metadata": {
    "ExecuteTime": {
     "end_time": "2019-02-22T11:38:00.801477Z",
     "start_time": "2019-02-22T11:38:00.795541Z"
    },
    "colab": {
     "base_uri": "https://localhost:8080/"
    },
    "executionInfo": {
     "elapsed": 272,
     "status": "ok",
     "timestamp": 1678199893014,
     "user": {
      "displayName": "Vahid Khalili Param",
      "userId": "06314421878379931304"
     },
     "user_tz": -180
    },
    "id": "drPg7fq5SMvr",
    "outputId": "b41cc892-8f5a-433e-d21e-f88af7d1de50"
   },
   "outputs": [
    {
     "name": "stdout",
     "output_type": "stream",
     "text": [
      "25\n"
     ]
    }
   ],
   "source": [
    "print(5**2)"
   ]
  },
  {
   "cell_type": "markdown",
   "metadata": {
    "id": "7MpYihIySMv-"
   },
   "source": [
    "#### Some of the built-in functions"
   ]
  },
  {
   "cell_type": "code",
   "execution_count": 8,
   "metadata": {
    "ExecuteTime": {
     "end_time": "2019-02-22T11:38:01.772633Z",
     "start_time": "2019-02-22T11:38:01.769756Z"
    },
    "colab": {
     "base_uri": "https://localhost:8080/"
    },
    "executionInfo": {
     "elapsed": 7,
     "status": "ok",
     "timestamp": 1678199977746,
     "user": {
      "displayName": "Vahid Khalili Param",
      "userId": "06314421878379931304"
     },
     "user_tz": -180
    },
    "id": "3ZFMcSC9SMwB",
    "outputId": "40f23058-e411-444a-e656-03f917f5206c"
   },
   "outputs": [
    {
     "name": "stdout",
     "output_type": "stream",
     "text": [
      "10\n",
      "22\n",
      "10\n"
     ]
    }
   ],
   "source": [
    "print(int(\"10\"))\n",
    "print(int(\"10110\", 2))  # second parameter is the base\n",
    "print(int(10.1))"
   ]
  },
  {
   "cell_type": "code",
   "execution_count": null,
   "metadata": {
    "ExecuteTime": {
     "end_time": "2019-02-22T11:38:03.651013Z",
     "start_time": "2019-02-22T11:38:03.648371Z"
    },
    "colab": {
     "base_uri": "https://localhost:8080/"
    },
    "executionInfo": {
     "elapsed": 292,
     "status": "ok",
     "timestamp": 1678106427252,
     "user": {
      "displayName": "Vahid Khalili Param",
      "userId": "06314421878379931304"
     },
     "user_tz": -180
    },
    "id": "fjLE8qI9SMwG",
    "outputId": "8f944d9c-87d8-4abb-d5d5-5dd87ee93deb"
   },
   "outputs": [
    {
     "name": "stdout",
     "output_type": "stream",
     "text": [
      "25.6\n",
      "11.0\n"
     ]
    }
   ],
   "source": [
    "print(float(\"25.6\"))\n",
    "print(float(11))"
   ]
  },
  {
   "cell_type": "code",
   "execution_count": 9,
   "metadata": {
    "ExecuteTime": {
     "end_time": "2019-02-22T11:38:04.216978Z",
     "start_time": "2019-02-22T11:38:04.208239Z"
    },
    "colab": {
     "base_uri": "https://localhost:8080/"
    },
    "executionInfo": {
     "elapsed": 306,
     "status": "ok",
     "timestamp": 1678200044128,
     "user": {
      "displayName": "Vahid Khalili Param",
      "userId": "06314421878379931304"
     },
     "user_tz": -180
    },
    "id": "KyxFB_JgSMwK",
    "outputId": "322e6df9-226f-4cc4-c8a0-b99f7da63ad3"
   },
   "outputs": [
    {
     "name": "stdout",
     "output_type": "stream",
     "text": [
      "A\n",
      "65\n"
     ]
    }
   ],
   "source": [
    "print(chr(65))  # converting ASCII to its alphabet equivalent\n",
    "print(ord(\"A\"))"
   ]
  },
  {
   "cell_type": "code",
   "execution_count": 10,
   "metadata": {
    "ExecuteTime": {
     "end_time": "2019-02-22T11:38:04.819929Z",
     "start_time": "2019-02-22T11:38:04.809366Z"
    },
    "colab": {
     "base_uri": "https://localhost:8080/"
    },
    "executionInfo": {
     "elapsed": 6,
     "status": "ok",
     "timestamp": 1678200085639,
     "user": {
      "displayName": "Vahid Khalili Param",
      "userId": "06314421878379931304"
     },
     "user_tz": -180
    },
    "id": "QBA6f4XMSMwM",
    "outputId": "6eb5c442-11c7-4ac8-9549-37608a501636"
   },
   "outputs": [
    {
     "name": "stdout",
     "output_type": "stream",
     "text": [
      "6\n",
      "5.623\n"
     ]
    }
   ],
   "source": [
    "print(round(5.6231))  # to the nearest integer\n",
    "print(round(5.6231, 3))  # specified precision"
   ]
  },
  {
   "cell_type": "code",
   "execution_count": 11,
   "metadata": {
    "ExecuteTime": {
     "end_time": "2019-02-22T11:38:05.390660Z",
     "start_time": "2019-02-22T11:38:05.381277Z"
    },
    "colab": {
     "base_uri": "https://localhost:8080/"
    },
    "executionInfo": {
     "elapsed": 398,
     "status": "ok",
     "timestamp": 1678200131121,
     "user": {
      "displayName": "Vahid Khalili Param",
      "userId": "06314421878379931304"
     },
     "user_tz": -180
    },
    "id": "Trry-VcZSMwa",
    "outputId": "4e748ad1-d635-4fe7-8fc7-fe8d215366f3"
   },
   "outputs": [
    {
     "name": "stdout",
     "output_type": "stream",
     "text": [
      "8\n",
      "1\n"
     ]
    }
   ],
   "source": [
    "print(pow(2,3))  # base, power\n",
    "print(pow(3,2,2))  # base, power, modulo"
   ]
  },
  {
   "cell_type": "code",
   "execution_count": 12,
   "metadata": {
    "ExecuteTime": {
     "end_time": "2019-02-22T11:38:11.050184Z",
     "start_time": "2019-02-22T11:38:05.974158Z"
    },
    "colab": {
     "base_uri": "https://localhost:8080/",
     "height": 52
    },
    "executionInfo": {
     "elapsed": 4772,
     "status": "ok",
     "timestamp": 1678200169988,
     "user": {
      "displayName": "Vahid Khalili Param",
      "userId": "06314421878379931304"
     },
     "user_tz": -180
    },
    "id": "fgWiO2PVSMwg",
    "outputId": "119cf9b6-b5a2-4745-9723-d4e6e69e9201"
   },
   "outputs": [
    {
     "name": "stdout",
     "output_type": "stream",
     "text": [
      "6\n"
     ]
    },
    {
     "data": {
      "application/vnd.google.colaboratory.intrinsic+json": {
       "type": "string"
      },
      "text/plain": [
       "'6'"
      ]
     },
     "execution_count": 12,
     "metadata": {},
     "output_type": "execute_result"
    }
   ],
   "source": [
    "input()  # waits till input is provided, then returns the input as a string"
   ]
  },
  {
   "cell_type": "code",
   "execution_count": 13,
   "metadata": {
    "ExecuteTime": {
     "end_time": "2019-02-22T11:38:16.563146Z",
     "start_time": "2019-02-22T11:38:14.988873Z"
    },
    "colab": {
     "base_uri": "https://localhost:8080/"
    },
    "executionInfo": {
     "elapsed": 6710,
     "status": "ok",
     "timestamp": 1678200209790,
     "user": {
      "displayName": "Vahid Khalili Param",
      "userId": "06314421878379931304"
     },
     "user_tz": -180
    },
    "id": "144NiahzSMwj",
    "outputId": "d1f14a19-a1e5-4ee4-b936-7e35d32c9bfb"
   },
   "outputs": [
    {
     "name": "stdout",
     "output_type": "stream",
     "text": [
      "please enter an integer: 16\n",
      "<class 'str'>\n",
      "after casting\n",
      "<class 'int'>\n"
     ]
    }
   ],
   "source": [
    "num = input(\"please enter an integer: \")\n",
    "print(type(num))  # always a str\n",
    "\n",
    "num = int(num)\n",
    "print(\"after casting\")\n",
    "print(type(num))"
   ]
  },
  {
   "cell_type": "markdown",
   "metadata": {
    "id": "uEuMYHq5SMwm"
   },
   "source": [
    "#### Precision\n"
   ]
  },
  {
   "cell_type": "code",
   "execution_count": 14,
   "metadata": {
    "ExecuteTime": {
     "end_time": "2019-02-22T11:38:20.862804Z",
     "start_time": "2019-02-22T11:38:20.860803Z"
    },
    "executionInfo": {
     "elapsed": 4,
     "status": "ok",
     "timestamp": 1678200262930,
     "user": {
      "displayName": "Vahid Khalili Param",
      "userId": "06314421878379931304"
     },
     "user_tz": -180
    },
    "id": "abmvO_DgSMwm"
   },
   "outputs": [],
   "source": [
    "val = 3.121312312312"
   ]
  },
  {
   "cell_type": "code",
   "execution_count": 16,
   "metadata": {
    "ExecuteTime": {
     "end_time": "2019-02-22T11:38:23.678498Z",
     "start_time": "2019-02-22T11:38:23.676153Z"
    },
    "colab": {
     "base_uri": "https://localhost:8080/"
    },
    "executionInfo": {
     "elapsed": 266,
     "status": "ok",
     "timestamp": 1678200299037,
     "user": {
      "displayName": "Vahid Khalili Param",
      "userId": "06314421878379931304"
     },
     "user_tz": -180
    },
    "id": "tfTZpKLrSMwp",
    "outputId": "c77a53c2-8e65-4407-dfce-d09136a2e5ba"
   },
   "outputs": [
    {
     "name": "stdout",
     "output_type": "stream",
     "text": [
      "3.1213\n"
     ]
    }
   ],
   "source": [
    "print(\"%.4f\" % val)"
   ]
  },
  {
   "cell_type": "code",
   "execution_count": null,
   "metadata": {
    "ExecuteTime": {
     "end_time": "2019-02-22T11:38:24.222707Z",
     "start_time": "2019-02-22T11:38:24.215325Z"
    },
    "colab": {
     "base_uri": "https://localhost:8080/"
    },
    "executionInfo": {
     "elapsed": 6,
     "status": "ok",
     "timestamp": 1678185832766,
     "user": {
      "displayName": "Vahid Khalili Param",
      "userId": "06314421878379931304"
     },
     "user_tz": -180
    },
    "id": "xdKnhum1SMws",
    "outputId": "38592a41-0cf7-4877-8ec3-362d0370aba0"
   },
   "outputs": [
    {
     "name": "stdout",
     "output_type": "stream",
     "text": [
      "3.1213\n"
     ]
    }
   ],
   "source": [
    "print(\"{:.4f}\".format(val))"
   ]
  },
  {
   "cell_type": "code",
   "execution_count": null,
   "metadata": {
    "ExecuteTime": {
     "end_time": "2019-02-22T11:38:24.860902Z",
     "start_time": "2019-02-22T11:38:24.852804Z"
    },
    "colab": {
     "base_uri": "https://localhost:8080/"
    },
    "executionInfo": {
     "elapsed": 289,
     "status": "ok",
     "timestamp": 1678106855920,
     "user": {
      "displayName": "Vahid Khalili Param",
      "userId": "06314421878379931304"
     },
     "user_tz": -180
    },
    "id": "DxIvWyiASMwv",
    "outputId": "e2d44864-4479-4822-f820-0f9b312f48d3"
   },
   "outputs": [
    {
     "name": "stdout",
     "output_type": "stream",
     "text": [
      "3.121, 10.000000, 23.2\n"
     ]
    }
   ],
   "source": [
    "print(\"{:.3f}, {:f}, {:.1f}\".format(val, 10, 23.2425))"
   ]
  },
  {
   "cell_type": "code",
   "execution_count": 19,
   "metadata": {
    "ExecuteTime": {
     "end_time": "2019-02-22T11:38:25.280493Z",
     "start_time": "2019-02-22T11:38:25.268627Z"
    },
    "colab": {
     "base_uri": "https://localhost:8080/"
    },
    "executionInfo": {
     "elapsed": 472,
     "status": "ok",
     "timestamp": 1678200458622,
     "user": {
      "displayName": "Vahid Khalili Param",
      "userId": "06314421878379931304"
     },
     "user_tz": -180
    },
    "id": "ZBAA_Dy3SMwz",
    "outputId": "7d95cca1-4425-4d33-cf48-cfd8bd6d5e7b"
   },
   "outputs": [
    {
     "name": "stdout",
     "output_type": "stream",
     "text": [
      "10.000, 3.121312, 23.2\n"
     ]
    }
   ],
   "source": [
    "print(\"{1:.3f}, {0:f}, {2:.1f}\".format(val, 10, 23.2425))"
   ]
  },
  {
   "cell_type": "markdown",
   "metadata": {
    "id": "BTM0tjbaSMw5"
   },
   "source": [
    "#### Data Structures"
   ]
  },
  {
   "cell_type": "markdown",
   "metadata": {
    "id": "i3zjTEdnSMw6"
   },
   "source": [
    "**Lists**"
   ]
  },
  {
   "cell_type": "code",
   "execution_count": 21,
   "metadata": {
    "ExecuteTime": {
     "end_time": "2019-02-22T11:38:26.514328Z",
     "start_time": "2019-02-22T11:38:26.511165Z"
    },
    "executionInfo": {
     "elapsed": 351,
     "status": "ok",
     "timestamp": 1678200575251,
     "user": {
      "displayName": "Vahid Khalili Param",
      "userId": "06314421878379931304"
     },
     "user_tz": -180
    },
    "id": "cc_svDs6SMw7"
   },
   "outputs": [],
   "source": [
    "lst = [1,2,3,4]  # empty list"
   ]
  },
  {
   "cell_type": "code",
   "execution_count": 22,
   "metadata": {
    "ExecuteTime": {
     "end_time": "2019-02-22T11:38:27.470682Z",
     "start_time": "2019-02-22T11:38:27.468488Z"
    },
    "colab": {
     "base_uri": "https://localhost:8080/"
    },
    "executionInfo": {
     "elapsed": 5,
     "status": "ok",
     "timestamp": 1678200579035,
     "user": {
      "displayName": "Vahid Khalili Param",
      "userId": "06314421878379931304"
     },
     "user_tz": -180
    },
    "id": "T4sZQX8ISMw-",
    "outputId": "dddcfa44-a2cd-454f-d921-15b7ecc2138b"
   },
   "outputs": [
    {
     "name": "stdout",
     "output_type": "stream",
     "text": [
      "<class 'list'>\n"
     ]
    }
   ],
   "source": [
    "print(type(lst))"
   ]
  },
  {
   "cell_type": "code",
   "execution_count": null,
   "metadata": {
    "ExecuteTime": {
     "end_time": "2019-02-22T11:38:27.931361Z",
     "start_time": "2019-02-22T11:38:27.927424Z"
    },
    "id": "zIf_ZgF3SMxA"
   },
   "outputs": [],
   "source": [
    "lst_str = [\"cs\", \"210\"]\n",
    "lst_mixed = [\"cs\", 210]  # can store different data types"
   ]
  },
  {
   "cell_type": "markdown",
   "metadata": {
    "id": "_0qHrO_USMxD"
   },
   "source": [
    "**List indexing**"
   ]
  },
  {
   "cell_type": "code",
   "execution_count": 27,
   "metadata": {
    "ExecuteTime": {
     "end_time": "2019-02-22T11:38:28.711418Z",
     "start_time": "2019-02-22T11:38:28.707449Z"
    },
    "colab": {
     "base_uri": "https://localhost:8080/"
    },
    "executionInfo": {
     "elapsed": 301,
     "status": "ok",
     "timestamp": 1678200800398,
     "user": {
      "displayName": "Vahid Khalili Param",
      "userId": "06314421878379931304"
     },
     "user_tz": -180
    },
    "id": "URSgWVgGSMxE",
    "outputId": "f7a09c1f-f409-4b7d-87e5-e5b19cb271e8"
   },
   "outputs": [
    {
     "name": "stdout",
     "output_type": "stream",
     "text": [
      "5\n",
      "1\n",
      "5\n"
     ]
    }
   ],
   "source": [
    "lst = [1, 2, 3, 4, 5]  # index range starts from 0 to length - 1 \n",
    "\n",
    "print(len(lst))  # length of the list\n",
    "print(lst[0])  # first element\n",
    "print(lst[len(lst)-1])  # without -1 we would get an error"
   ]
  },
  {
   "cell_type": "code",
   "execution_count": 24,
   "metadata": {
    "colab": {
     "base_uri": "https://localhost:8080/"
    },
    "executionInfo": {
     "elapsed": 3,
     "status": "ok",
     "timestamp": 1678200721781,
     "user": {
      "displayName": "Vahid Khalili Param",
      "userId": "06314421878379931304"
     },
     "user_tz": -180
    },
    "id": "oCS4RwEOjpBG",
    "outputId": "b87daa3f-79fd-4849-bd36-401ea83dc912"
   },
   "outputs": [
    {
     "data": {
      "text/plain": [
       "5"
      ]
     },
     "execution_count": 24,
     "metadata": {},
     "output_type": "execute_result"
    }
   ],
   "source": [
    "len(lst)"
   ]
  },
  {
   "cell_type": "code",
   "execution_count": null,
   "metadata": {
    "colab": {
     "base_uri": "https://localhost:8080/"
    },
    "executionInfo": {
     "elapsed": 609,
     "status": "ok",
     "timestamp": 1678113735637,
     "user": {
      "displayName": "Vahid Khalili Param",
      "userId": "06314421878379931304"
     },
     "user_tz": -180
    },
    "id": "If1OPW8N_Ehf",
    "outputId": "be714b59-6045-4adc-f218-d6436c1c77a0"
   },
   "outputs": [
    {
     "data": {
      "text/plain": [
       "5"
      ]
     },
     "execution_count": 94,
     "metadata": {},
     "output_type": "execute_result"
    }
   ],
   "source": [
    "lst[-1]"
   ]
  },
  {
   "cell_type": "markdown",
   "metadata": {
    "id": "AsqZ_zc7SMxG"
   },
   "source": [
    "For list indexing, Python also has negative indices.\n",
    "\n",
    "![alt](https://qph.fs.quoracdn.net/main-qimg-a380b1bc159589df5e0b9842e5b56b6d)"
   ]
  },
  {
   "cell_type": "markdown",
   "metadata": {
    "id": "9eZOZXGaSMxJ"
   },
   "source": [
    "**Nested Lists**"
   ]
  },
  {
   "cell_type": "code",
   "execution_count": 28,
   "metadata": {
    "ExecuteTime": {
     "end_time": "2019-02-22T11:38:31.577911Z",
     "start_time": "2019-02-22T11:38:31.575364Z"
    },
    "colab": {
     "base_uri": "https://localhost:8080/"
    },
    "executionInfo": {
     "elapsed": 7,
     "status": "ok",
     "timestamp": 1678200934195,
     "user": {
      "displayName": "Vahid Khalili Param",
      "userId": "06314421878379931304"
     },
     "user_tz": -180
    },
    "id": "E6xSyhbzSMxK",
    "outputId": "16e4eb17-5bac-4ccb-b1f6-8a6cb5179053"
   },
   "outputs": [
    {
     "name": "stdout",
     "output_type": "stream",
     "text": [
      "3\n"
     ]
    }
   ],
   "source": [
    "lst = [ [1, 2, 3], [4, 5, 6] ]\n",
    "print(lst[0][2])  # lst[first row][third column]"
   ]
  },
  {
   "cell_type": "markdown",
   "metadata": {
    "id": "gNt2fI_qSMxN"
   },
   "source": [
    "**List Slicing**"
   ]
  },
  {
   "cell_type": "code",
   "execution_count": 30,
   "metadata": {
    "ExecuteTime": {
     "end_time": "2019-02-22T11:38:32.393419Z",
     "start_time": "2019-02-22T11:38:32.372485Z"
    },
    "colab": {
     "base_uri": "https://localhost:8080/"
    },
    "executionInfo": {
     "elapsed": 273,
     "status": "ok",
     "timestamp": 1678201081119,
     "user": {
      "displayName": "Vahid Khalili Param",
      "userId": "06314421878379931304"
     },
     "user_tz": -180
    },
    "id": "ims_PHgqSMxO",
    "outputId": "ae5d2eb0-124d-4843-8b21-46dbe3d91e9f"
   },
   "outputs": [
    {
     "name": "stdout",
     "output_type": "stream",
     "text": [
      "[2, 3, 4, 5]\n",
      "[2, 4, 6, 8]\n",
      "[10, 9, 8, 7, 6, 5, 4, 3, 2, 1]\n"
     ]
    }
   ],
   "source": [
    "lst = [1, 2, 3, 4, 5, 6, 7, 8, 9, 10]\n",
    "\n",
    "print(lst[1:5])  # lst[start_index:end_index], end_index is not inclusive\n",
    "print(lst[1:8:2])  # lst[start_index:end_index:stride]\n",
    "\n",
    "print(lst[::-1])  # reversing a list"
   ]
  },
  {
   "cell_type": "markdown",
   "metadata": {
    "id": "UK5PRe6dSMxS"
   },
   "source": [
    "**List Methods**"
   ]
  },
  {
   "cell_type": "code",
   "execution_count": 31,
   "metadata": {
    "ExecuteTime": {
     "end_time": "2019-02-22T11:38:33.246466Z",
     "start_time": "2019-02-22T11:38:33.240741Z"
    },
    "colab": {
     "base_uri": "https://localhost:8080/"
    },
    "executionInfo": {
     "elapsed": 276,
     "status": "ok",
     "timestamp": 1678201142647,
     "user": {
      "displayName": "Vahid Khalili Param",
      "userId": "06314421878379931304"
     },
     "user_tz": -180
    },
    "id": "dMEqNFmsSMxT",
    "outputId": "6d6610b3-11b7-4452-8e67-87750098c07f"
   },
   "outputs": [
    {
     "name": "stdout",
     "output_type": "stream",
     "text": [
      "[1]\n",
      "[1, [1, 4]]\n",
      "[1, [1, 4], 'two']\n"
     ]
    }
   ],
   "source": [
    "lst = []\n",
    "\n",
    "lst.append(1)  # appends a new element to the end of the list\n",
    "print(lst)\n",
    "\n",
    "lst.append([1,4])\n",
    "print(lst)\n",
    "\n",
    "lst.append('two')\n",
    "print(lst)"
   ]
  },
  {
   "cell_type": "code",
   "execution_count": 32,
   "metadata": {
    "ExecuteTime": {
     "end_time": "2019-02-22T11:38:33.715525Z",
     "start_time": "2019-02-22T11:38:33.693343Z"
    },
    "colab": {
     "base_uri": "https://localhost:8080/"
    },
    "executionInfo": {
     "elapsed": 834,
     "status": "ok",
     "timestamp": 1678201208045,
     "user": {
      "displayName": "Vahid Khalili Param",
      "userId": "06314421878379931304"
     },
     "user_tz": -180
    },
    "id": "w5k1Da0vSMxX",
    "outputId": "8abfc94f-ed3d-47ce-9655-4213e02b45d6"
   },
   "outputs": [
    {
     "name": "stdout",
     "output_type": "stream",
     "text": [
      "[1, 2, 3, 5]\n",
      "[1, 2, 3]\n",
      "[2, 3]\n"
     ]
    }
   ],
   "source": [
    "lst = [1, 2, 3, 4, 5]\n",
    "\n",
    "lst.remove(4)  # removes the element from the list\n",
    "print(lst)\n",
    "\n",
    "lst.pop()  # removes the last element\n",
    "print(lst)\n",
    "\n",
    "lst.pop(0)  # removes the element at the given index\n",
    "print(lst)"
   ]
  },
  {
   "cell_type": "code",
   "execution_count": 33,
   "metadata": {
    "ExecuteTime": {
     "end_time": "2019-02-22T11:38:35.032028Z",
     "start_time": "2019-02-22T11:38:35.026067Z"
    },
    "colab": {
     "base_uri": "https://localhost:8080/"
    },
    "executionInfo": {
     "elapsed": 421,
     "status": "ok",
     "timestamp": 1678201268861,
     "user": {
      "displayName": "Vahid Khalili Param",
      "userId": "06314421878379931304"
     },
     "user_tz": -180
    },
    "id": "LrOAbBNTSMxb",
    "outputId": "2c9c061e-609f-4d32-da3b-cabf305110bf"
   },
   "outputs": [
    {
     "name": "stdout",
     "output_type": "stream",
     "text": [
      "1\n",
      "5\n",
      "15\n",
      "3\n"
     ]
    }
   ],
   "source": [
    "lst = [1, 2, 3, 4, 5]\n",
    "\n",
    "print(min(lst))  # min of list\n",
    "print(max(lst))  # max of list\n",
    "print(sum(lst))  # sum of list\n",
    "\n",
    "print(lst.index(4))  # returns the index of the given element"
   ]
  },
  {
   "cell_type": "code",
   "execution_count": 34,
   "metadata": {
    "ExecuteTime": {
     "end_time": "2019-02-22T11:38:35.691999Z",
     "start_time": "2019-02-22T11:38:35.683383Z"
    },
    "colab": {
     "base_uri": "https://localhost:8080/"
    },
    "executionInfo": {
     "elapsed": 2,
     "status": "ok",
     "timestamp": 1678201327327,
     "user": {
      "displayName": "Vahid Khalili Param",
      "userId": "06314421878379931304"
     },
     "user_tz": -180
    },
    "id": "v0-C1wXJSMxd",
    "outputId": "f6354ab6-84fb-46d0-edaf-921de90e3eeb"
   },
   "outputs": [
    {
     "name": "stdout",
     "output_type": "stream",
     "text": [
      "False\n",
      "True\n"
     ]
    }
   ],
   "source": [
    "lst = [1, 2, 3, 4, 5]\n",
    "\n",
    "print(8 in lst)  # in operator checks if the elements is in the list\n",
    "print(10 not in lst)"
   ]
  },
  {
   "cell_type": "code",
   "execution_count": 35,
   "metadata": {
    "ExecuteTime": {
     "end_time": "2019-02-22T11:38:36.175508Z",
     "start_time": "2019-02-22T11:38:36.164903Z"
    },
    "colab": {
     "base_uri": "https://localhost:8080/"
    },
    "executionInfo": {
     "elapsed": 277,
     "status": "ok",
     "timestamp": 1678201392104,
     "user": {
      "displayName": "Vahid Khalili Param",
      "userId": "06314421878379931304"
     },
     "user_tz": -180
    },
    "id": "0RZEuEsISMxf",
    "outputId": "b80b04ba-73d6-4b92-fb34-2a732a077c63"
   },
   "outputs": [
    {
     "name": "stdout",
     "output_type": "stream",
     "text": [
      "[1, 2, 3, 4, 5]\n",
      "[5, 4, 3, 2, 1]\n"
     ]
    }
   ],
   "source": [
    "lst = [4, 5, 1, 2, 3]\n",
    "\n",
    "lst.sort()\n",
    "print(lst)\n",
    "\n",
    "lst.sort(reverse=True)\n",
    "print(lst)"
   ]
  },
  {
   "cell_type": "code",
   "execution_count": null,
   "metadata": {
    "ExecuteTime": {
     "end_time": "2019-02-22T11:38:36.739887Z",
     "start_time": "2019-02-22T11:38:36.713604Z"
    },
    "colab": {
     "base_uri": "https://localhost:8080/"
    },
    "executionInfo": {
     "elapsed": 371,
     "status": "ok",
     "timestamp": 1678187078055,
     "user": {
      "displayName": "Vahid Khalili Param",
      "userId": "06314421878379931304"
     },
     "user_tz": -180
    },
    "id": "yxwMbUjrSMxh",
    "outputId": "7eb30281-1027-4baa-f4a9-bc1bcf11f1eb"
   },
   "outputs": [
    {
     "name": "stdout",
     "output_type": "stream",
     "text": [
      "[1, 2, 3, 10]\n",
      "[1, 2, 3]\n"
     ]
    }
   ],
   "source": [
    "# must be careful when assigning lists\n",
    "a = [1, 2, 3]\n",
    "\n",
    "b = a  # at this point, a and b are pointing the same address in the memory\n",
    "\n",
    "b.append(10)  # the effects of this operation will also be visible on a\n",
    "\n",
    "print(a)\n",
    "\n",
    "c = [1, 2, 3]\n",
    "\n",
    "b = c.copy()  # copy function only returns the values, not the address\n",
    "\n",
    "b.append(10)\n",
    "\n",
    "print(c)"
   ]
  },
  {
   "cell_type": "markdown",
   "metadata": {
    "id": "DFO3Rx8_SMxj"
   },
   "source": [
    "**Tuples**"
   ]
  },
  {
   "cell_type": "code",
   "execution_count": 36,
   "metadata": {
    "ExecuteTime": {
     "end_time": "2019-02-22T11:38:37.924216Z",
     "start_time": "2019-02-22T11:38:37.917376Z"
    },
    "colab": {
     "base_uri": "https://localhost:8080/",
     "height": 201
    },
    "executionInfo": {
     "elapsed": 31,
     "status": "error",
     "timestamp": 1678201549916,
     "user": {
      "displayName": "Vahid Khalili Param",
      "userId": "06314421878379931304"
     },
     "user_tz": -180
    },
    "id": "6YGptgqnSMxk",
    "outputId": "6b7e3cb0-cabf-4f8d-d99a-64d392cf50c4"
   },
   "outputs": [
    {
     "ename": "TypeError",
     "evalue": "ignored",
     "output_type": "error",
     "traceback": [
      "\u001b[0;31m---------------------------------------------------------------------------\u001b[0m",
      "\u001b[0;31mTypeError\u001b[0m                                 Traceback (most recent call last)",
      "\u001b[0;32m<ipython-input-36-e14e7739b22c>\u001b[0m in \u001b[0;36m<module>\u001b[0;34m\u001b[0m\n\u001b[1;32m      2\u001b[0m \u001b[0mtpl\u001b[0m \u001b[0;34m=\u001b[0m \u001b[0mtuple\u001b[0m\u001b[0;34m(\u001b[0m\u001b[0;34m[\u001b[0m\u001b[0;36m1\u001b[0m\u001b[0;34m,\u001b[0m \u001b[0;34m\"a\"\u001b[0m\u001b[0;34m,\u001b[0m \u001b[0;36m23.56\u001b[0m\u001b[0;34m]\u001b[0m\u001b[0;34m)\u001b[0m\u001b[0;34m\u001b[0m\u001b[0;34m\u001b[0m\u001b[0m\n\u001b[1;32m      3\u001b[0m \u001b[0;34m\u001b[0m\u001b[0m\n\u001b[0;32m----> 4\u001b[0;31m \u001b[0mtpl\u001b[0m\u001b[0;34m[\u001b[0m\u001b[0;36m0\u001b[0m\u001b[0;34m]\u001b[0m \u001b[0;34m=\u001b[0m \u001b[0;36m10\u001b[0m  \u001b[0;31m# gives an error\u001b[0m\u001b[0;34m\u001b[0m\u001b[0;34m\u001b[0m\u001b[0m\n\u001b[0m",
      "\u001b[0;31mTypeError\u001b[0m: 'tuple' object does not support item assignment"
     ]
    }
   ],
   "source": [
    "# very similar to list, but elements in a tuple can't be modified (immutable)\n",
    "tpl = tuple([1, \"a\", 23.56])\n",
    "\n",
    "tpl[0] = 10  # gives an error"
   ]
  },
  {
   "cell_type": "code",
   "execution_count": null,
   "metadata": {
    "ExecuteTime": {
     "end_time": "2019-02-22T11:38:40.035843Z",
     "start_time": "2019-02-22T11:38:40.030520Z"
    },
    "colab": {
     "base_uri": "https://localhost:8080/"
    },
    "executionInfo": {
     "elapsed": 337,
     "status": "ok",
     "timestamp": 1678187180307,
     "user": {
      "displayName": "Vahid Khalili Param",
      "userId": "06314421878379931304"
     },
     "user_tz": -180
    },
    "id": "kM1dkfc2SMxm",
    "outputId": "96f417a9-3165-4cc9-dc32-a7cfa34d17bd"
   },
   "outputs": [
    {
     "name": "stdout",
     "output_type": "stream",
     "text": [
      "23.56\n",
      "(1, 'a')\n"
     ]
    }
   ],
   "source": [
    "tpl = tuple([1, \"a\", 23.56])\n",
    "\n",
    "print(tpl[2])  # again, we have indices\n",
    "print(tpl[0:2])  # slicing\n",
    "\n",
    "# most of the time, tuples are used to group computation results"
   ]
  },
  {
   "cell_type": "markdown",
   "metadata": {
    "id": "gYKF9Y65SMxo"
   },
   "source": [
    "**Sets**"
   ]
  },
  {
   "cell_type": "code",
   "execution_count": null,
   "metadata": {
    "ExecuteTime": {
     "end_time": "2019-02-22T11:38:40.942507Z",
     "start_time": "2019-02-22T11:38:40.931882Z"
    },
    "colab": {
     "base_uri": "https://localhost:8080/"
    },
    "executionInfo": {
     "elapsed": 675,
     "status": "ok",
     "timestamp": 1678187220925,
     "user": {
      "displayName": "Vahid Khalili Param",
      "userId": "06314421878379931304"
     },
     "user_tz": -180
    },
    "id": "-uSsCykxSMxo",
    "outputId": "e33d2011-101b-41cc-fdc6-db2710067aa4"
   },
   "outputs": [
    {
     "name": "stdout",
     "output_type": "stream",
     "text": [
      "<class 'set'>\n"
     ]
    }
   ],
   "source": [
    "# can only contain unique values\n",
    "set1 = set()\n",
    "print(type(set1))"
   ]
  },
  {
   "cell_type": "code",
   "execution_count": null,
   "metadata": {
    "ExecuteTime": {
     "end_time": "2019-02-22T11:38:41.346889Z",
     "start_time": "2019-02-22T11:38:41.341592Z"
    },
    "colab": {
     "base_uri": "https://localhost:8080/"
    },
    "executionInfo": {
     "elapsed": 968,
     "status": "ok",
     "timestamp": 1678187245775,
     "user": {
      "displayName": "Vahid Khalili Param",
      "userId": "06314421878379931304"
     },
     "user_tz": -180
    },
    "id": "oMA09juISMxr",
    "outputId": "de57e630-633c-47be-c032-906b294ef821"
   },
   "outputs": [
    {
     "name": "stdout",
     "output_type": "stream",
     "text": [
      "{1, 2, 3, 5}\n"
     ]
    }
   ],
   "source": [
    "set1 = set([1, 1, 2, 3, 5, 5])\n",
    "print(set1)"
   ]
  },
  {
   "cell_type": "code",
   "execution_count": 37,
   "metadata": {
    "ExecuteTime": {
     "end_time": "2019-02-22T11:38:41.778837Z",
     "start_time": "2019-02-22T11:38:41.772142Z"
    },
    "colab": {
     "base_uri": "https://localhost:8080/"
    },
    "executionInfo": {
     "elapsed": 4,
     "status": "ok",
     "timestamp": 1678201635818,
     "user": {
      "displayName": "Vahid Khalili Param",
      "userId": "06314421878379931304"
     },
     "user_tz": -180
    },
    "id": "BR4wDVvGSMxt",
    "outputId": "fa97347d-064b-424a-a44e-1737bae8edb0"
   },
   "outputs": [
    {
     "name": "stdout",
     "output_type": "stream",
     "text": [
      "{1, 2, 3, 5, 9}\n"
     ]
    }
   ],
   "source": [
    "set1 = set([1, 1, 2, 3, 5, 5])\n",
    "set1.add(9)\n",
    "\n",
    "print(set1)"
   ]
  },
  {
   "cell_type": "code",
   "execution_count": null,
   "metadata": {
    "ExecuteTime": {
     "end_time": "2019-02-22T11:38:42.144162Z",
     "start_time": "2019-02-22T11:38:42.136358Z"
    },
    "colab": {
     "base_uri": "https://localhost:8080/"
    },
    "executionInfo": {
     "elapsed": 283,
     "status": "ok",
     "timestamp": 1665580406988,
     "user": {
      "displayName": "Vahid Khalili Param",
      "userId": "06314421878379931304"
     },
     "user_tz": -180
    },
    "id": "u4YqjE10SMxv",
    "outputId": "27184e6d-df5b-4ab0-f6ff-5a6f46519334"
   },
   "outputs": [
    {
     "name": "stdout",
     "output_type": "stream",
     "text": [
      "{1, 2, 3, 5}\n"
     ]
    }
   ],
   "source": [
    "# useful for getting unique values from a list\n",
    "lst = [1, 1, 2, 3, 5, 5]\n",
    "\n",
    "print(set(lst))"
   ]
  },
  {
   "cell_type": "code",
   "execution_count": null,
   "metadata": {
    "ExecuteTime": {
     "end_time": "2019-02-22T11:38:43.555721Z",
     "start_time": "2019-02-22T11:38:43.550099Z"
    },
    "colab": {
     "base_uri": "https://localhost:8080/"
    },
    "executionInfo": {
     "elapsed": 786,
     "status": "ok",
     "timestamp": 1678187381449,
     "user": {
      "displayName": "Vahid Khalili Param",
      "userId": "06314421878379931304"
     },
     "user_tz": -180
    },
    "id": "6D3B3RYRSMxx",
    "outputId": "ceb1fa4d-113e-47e6-9c65-3b06f0e4454d"
   },
   "outputs": [
    {
     "name": "stdout",
     "output_type": "stream",
     "text": [
      "{1, 2, 3, 4, 5}\n",
      "{2, 3}\n",
      "{4, 5}\n",
      "set()\n"
     ]
    }
   ],
   "source": [
    "set1 = set([1,2,3])\n",
    "set2 = set([2,3,4,5])\n",
    "\n",
    "print(set1.union(set2))\n",
    "print(set1.intersection(set2))\n",
    "print(set2.difference(set1))\n",
    "\n",
    "set1.clear()\n",
    "print(set1)"
   ]
  },
  {
   "cell_type": "markdown",
   "metadata": {
    "id": "X_LP5iZ7SMx2"
   },
   "source": [
    "**Dictionaries**"
   ]
  },
  {
   "cell_type": "code",
   "execution_count": null,
   "metadata": {
    "ExecuteTime": {
     "end_time": "2019-02-22T11:38:45.080058Z",
     "start_time": "2019-02-22T11:38:45.065460Z"
    },
    "colab": {
     "base_uri": "https://localhost:8080/"
    },
    "executionInfo": {
     "elapsed": 480,
     "status": "ok",
     "timestamp": 1678187515238,
     "user": {
      "displayName": "Vahid Khalili Param",
      "userId": "06314421878379931304"
     },
     "user_tz": -180
    },
    "id": "D3aAoWRPSMx2",
    "outputId": "0a21228e-3264-4143-cd67-a94777bd7d74",
    "scrolled": true
   },
   "outputs": [
    {
     "name": "stdout",
     "output_type": "stream",
     "text": [
      "0\n",
      "2\n",
      "200\n",
      "dict_keys(['cs210', 'cs201'])\n",
      "dict_values([200, 300])\n",
      "dict_items([('cs210', 200), ('cs201', 300)])\n"
     ]
    }
   ],
   "source": [
    "# each entry consists of a key, value pair\n",
    "# to reach a particular value in the dictionary\n",
    "# we need to call its associated key\n",
    "courses = {}  # empty dictionary\n",
    "\n",
    "print(len(courses))\n",
    "\n",
    "courses[\"cs210\"] = 200\n",
    "courses[\"cs201\"] = 300\n",
    "\n",
    "print(len(courses))\n",
    "\n",
    "print(courses[\"cs210\"])\n",
    "\n",
    "print(courses.keys())\n",
    "print(courses.values())\n",
    "print(courses.items())  # returns keys and values as tuples"
   ]
  },
  {
   "cell_type": "markdown",
   "metadata": {
    "id": "lFjmSVP5SMx4"
   },
   "source": [
    " **String Methods**"
   ]
  },
  {
   "cell_type": "code",
   "execution_count": 38,
   "metadata": {
    "ExecuteTime": {
     "end_time": "2019-02-22T11:39:02.792169Z",
     "start_time": "2019-02-22T11:39:02.781629Z"
    },
    "colab": {
     "base_uri": "https://localhost:8080/"
    },
    "executionInfo": {
     "elapsed": 11,
     "status": "ok",
     "timestamp": 1678202063666,
     "user": {
      "displayName": "Vahid Khalili Param",
      "userId": "06314421878379931304"
     },
     "user_tz": -180
    },
    "id": "Bdh5tPBPSMx5",
    "outputId": "ded4009f-ce25-4fe7-e259-eeb45f5c7174"
   },
   "outputs": [
    {
     "name": "stdout",
     "output_type": "stream",
     "text": [
      "C\n",
      "210 \n",
      "25\n",
      "['CS210', '-', 'Introduction', 'to', 'Data', 'Science']\n",
      "CS210 - INTRODUCTION TO DATA SCIENCE\n",
      "CS210 - Introduction to Dete Science\n",
      "CS210 - Introduction to Data Science\n",
      "  \t \n",
      " CS210 - Introduction to Data Science \n",
      "CS210 - Introduction to Data Science\n"
     ]
    }
   ],
   "source": [
    "word = \"CS210 - Introduction to Data Science\"\n",
    "\n",
    "# indexing and slicing\n",
    "print(word[0])\n",
    "print(word[2:6])\n",
    "\n",
    "\n",
    "# word[2] = \"a\"  # yields an error, strings are immutable\n",
    "\n",
    "print(word.find(\"a\"))  # returns the first index of occurrence\n",
    "print(word.split(\" \"))  # returns a list in which separated substrings exist\n",
    "print(word.upper())\n",
    "print(word.replace(\"a\", \"e\"))\n",
    "\n",
    "word = \"  \\t \\n CS210 - Introduction to Data Science \\n\\n\"\n",
    "\n",
    "print(word.strip())  # removes preceding and trailing whitespaces\n",
    "print(word.strip(\"\\n\"))  # removes preceding and trailing new line characters\n",
    "print(word.strip(\" \\t\\n\")) # removes preceding and trailing whitespace, tab and new line characters"
   ]
  },
  {
   "cell_type": "markdown",
   "metadata": {
    "id": "OVYq3SlCSMx8"
   },
   "source": [
    "### Control Flows Statements"
   ]
  },
  {
   "cell_type": "markdown",
   "metadata": {
    "id": "XByMBKXcSMx9"
   },
   "source": [
    "**If statements**"
   ]
  },
  {
   "cell_type": "code",
   "execution_count": 39,
   "metadata": {
    "ExecuteTime": {
     "end_time": "2019-02-22T11:39:05.737646Z",
     "start_time": "2019-02-22T11:39:05.735468Z"
    },
    "colab": {
     "base_uri": "https://localhost:8080/"
    },
    "executionInfo": {
     "elapsed": 36,
     "status": "ok",
     "timestamp": 1678202124702,
     "user": {
      "displayName": "Vahid Khalili Param",
      "userId": "06314421878379931304"
     },
     "user_tz": -180
    },
    "id": "ycWVk2D6SMx9",
    "outputId": "07d8ac5b-3971-4302-87e9-bd5fbb914421"
   },
   "outputs": [
    {
     "name": "stdout",
     "output_type": "stream",
     "text": [
      "ok\n"
     ]
    }
   ],
   "source": [
    "if True:\n",
    "    print(\"ok\")"
   ]
  },
  {
   "cell_type": "code",
   "execution_count": null,
   "metadata": {
    "ExecuteTime": {
     "end_time": "2019-02-22T11:39:06.198689Z",
     "start_time": "2019-02-22T11:39:06.190532Z"
    },
    "colab": {
     "base_uri": "https://localhost:8080/"
    },
    "executionInfo": {
     "elapsed": 347,
     "status": "ok",
     "timestamp": 1678187840995,
     "user": {
      "displayName": "Vahid Khalili Param",
      "userId": "06314421878379931304"
     },
     "user_tz": -180
    },
    "id": "V8ktEfpBSMyB",
    "outputId": "13456789-7158-4fd1-d531-4c059bd4d77d"
   },
   "outputs": [
    {
     "name": "stdout",
     "output_type": "stream",
     "text": [
      "not ok\n"
     ]
    }
   ],
   "source": [
    "if not 10 > 3:\n",
    "    print(\"ok\")\n",
    "else:\n",
    "    print(\"not ok\")"
   ]
  },
  {
   "cell_type": "code",
   "execution_count": null,
   "metadata": {
    "ExecuteTime": {
     "end_time": "2019-02-22T11:39:06.732403Z",
     "start_time": "2019-02-22T11:39:06.721352Z"
    },
    "colab": {
     "base_uri": "https://localhost:8080/"
    },
    "executionInfo": {
     "elapsed": 312,
     "status": "ok",
     "timestamp": 1665580942955,
     "user": {
      "displayName": "Vahid Khalili Param",
      "userId": "06314421878379931304"
     },
     "user_tz": -180
    },
    "id": "4V1Gg_JwSMyD",
    "outputId": "be8e6fd7-40bf-4dc4-af54-86773f6790c2"
   },
   "outputs": [
    {
     "name": "stdout",
     "output_type": "stream",
     "text": [
      "10\n"
     ]
    }
   ],
   "source": [
    "if 0:  # same with most of the languages\n",
    "    print(\"0\")\n",
    "elif 10:\n",
    "    print(\"10\")\n",
    "else:\n",
    "    print(\"...\")"
   ]
  },
  {
   "cell_type": "markdown",
   "metadata": {
    "id": "HF8LYzpUSMyF"
   },
   "source": [
    "**Loops**"
   ]
  },
  {
   "cell_type": "code",
   "execution_count": null,
   "metadata": {
    "ExecuteTime": {
     "end_time": "2019-02-22T11:39:07.742528Z",
     "start_time": "2019-02-22T11:39:07.736034Z"
    },
    "colab": {
     "base_uri": "https://localhost:8080/"
    },
    "executionInfo": {
     "elapsed": 347,
     "status": "ok",
     "timestamp": 1678187920066,
     "user": {
      "displayName": "Vahid Khalili Param",
      "userId": "06314421878379931304"
     },
     "user_tz": -180
    },
    "id": "m6024fXuSMyF",
    "outputId": "44252171-4ce0-401f-a47a-7f8c42046b5f"
   },
   "outputs": [
    {
     "name": "stdout",
     "output_type": "stream",
     "text": [
      "0\n",
      "1\n",
      "2\n",
      "3\n",
      "4\n"
     ]
    }
   ],
   "source": [
    "n = 5\n",
    "for i in range(n):  # generates a sequence from 0 to n-1\n",
    "    print(i)"
   ]
  },
  {
   "cell_type": "code",
   "execution_count": null,
   "metadata": {
    "ExecuteTime": {
     "end_time": "2019-02-22T11:39:08.423057Z",
     "start_time": "2019-02-22T11:39:08.415271Z"
    },
    "colab": {
     "base_uri": "https://localhost:8080/"
    },
    "executionInfo": {
     "elapsed": 20,
     "status": "ok",
     "timestamp": 1678187949472,
     "user": {
      "displayName": "Vahid Khalili Param",
      "userId": "06314421878379931304"
     },
     "user_tz": -180
    },
    "id": "q7nUbASPSMyH",
    "outputId": "ec02065f-a2b6-4c11-dc88-ee537d05253e"
   },
   "outputs": [
    {
     "name": "stdout",
     "output_type": "stream",
     "text": [
      "2\n",
      "5\n",
      "8\n"
     ]
    }
   ],
   "source": [
    "n = 10\n",
    "for i in range(2, n, 3):  # start value, end value, stride\n",
    "    print(i)"
   ]
  },
  {
   "cell_type": "code",
   "execution_count": null,
   "metadata": {
    "ExecuteTime": {
     "end_time": "2019-02-22T11:39:08.944323Z",
     "start_time": "2019-02-22T11:39:08.939176Z"
    },
    "colab": {
     "base_uri": "https://localhost:8080/"
    },
    "executionInfo": {
     "elapsed": 281,
     "status": "ok",
     "timestamp": 1678108574947,
     "user": {
      "displayName": "Vahid Khalili Param",
      "userId": "06314421878379931304"
     },
     "user_tz": -180
    },
    "id": "IedVI_BTSMyJ",
    "outputId": "72a3c811-b067-4efb-bb23-59d96df3ba5b"
   },
   "outputs": [
    {
     "name": "stdout",
     "output_type": "stream",
     "text": [
      "1\n",
      "2\n",
      "3\n"
     ]
    }
   ],
   "source": [
    "lst = [1, 2, 3]\n",
    "for i in lst:  # list traversing\n",
    "    print(i)"
   ]
  },
  {
   "cell_type": "code",
   "execution_count": null,
   "metadata": {
    "ExecuteTime": {
     "end_time": "2019-02-22T11:39:09.487814Z",
     "start_time": "2019-02-22T11:39:09.475446Z"
    },
    "colab": {
     "base_uri": "https://localhost:8080/"
    },
    "executionInfo": {
     "elapsed": 296,
     "status": "ok",
     "timestamp": 1678108589465,
     "user": {
      "displayName": "Vahid Khalili Param",
      "userId": "06314421878379931304"
     },
     "user_tz": -180
    },
    "id": "VIXi8X-eSMyK",
    "outputId": "6fe87010-cb9e-4660-8c4b-ab4fb7941f79"
   },
   "outputs": [
    {
     "name": "stdout",
     "output_type": "stream",
     "text": [
      "[1, 2, 3]\n",
      "[4, 5, 6]\n",
      "[7, 8, 9]\n"
     ]
    }
   ],
   "source": [
    "lst = [[1, 2, 3], [4, 5, 6], [7, 8, 9]]\n",
    "for i in lst:\n",
    "    print(i)"
   ]
  },
  {
   "cell_type": "code",
   "execution_count": 40,
   "metadata": {
    "ExecuteTime": {
     "end_time": "2019-02-22T11:39:10.076213Z",
     "start_time": "2019-02-22T11:39:10.067596Z"
    },
    "colab": {
     "base_uri": "https://localhost:8080/"
    },
    "executionInfo": {
     "elapsed": 634,
     "status": "ok",
     "timestamp": 1678202290051,
     "user": {
      "displayName": "Vahid Khalili Param",
      "userId": "06314421878379931304"
     },
     "user_tz": -180
    },
    "id": "jvZWdXPYSMyM",
    "outputId": "b744ad05-a28f-4af9-ea2c-e6c272b65749"
   },
   "outputs": [
    {
     "name": "stdout",
     "output_type": "stream",
     "text": [
      "0\n",
      "1\n",
      "2\n"
     ]
    }
   ],
   "source": [
    "i = 0\n",
    "while i < 3:\n",
    "    print(i)\n",
    "    i += 1"
   ]
  },
  {
   "cell_type": "markdown",
   "metadata": {
    "id": "Kc5MgEwXSMyO"
   },
   "source": [
    "**List Comprehension**"
   ]
  },
  {
   "cell_type": "code",
   "execution_count": 41,
   "metadata": {
    "ExecuteTime": {
     "end_time": "2019-02-22T11:39:11.308450Z",
     "start_time": "2019-02-22T11:39:11.304636Z"
    },
    "colab": {
     "base_uri": "https://localhost:8080/"
    },
    "executionInfo": {
     "elapsed": 627,
     "status": "ok",
     "timestamp": 1678202329506,
     "user": {
      "displayName": "Vahid Khalili Param",
      "userId": "06314421878379931304"
     },
     "user_tz": -180
    },
    "id": "wlrEewa_SMyO",
    "outputId": "4ab81dab-d9f7-4433-98c2-7b13c2de8af7"
   },
   "outputs": [
    {
     "name": "stdout",
     "output_type": "stream",
     "text": [
      "[0, 1, 2, 3, 4]\n"
     ]
    }
   ],
   "source": [
    "lst = [i for i in range(5)]\n",
    "\n",
    "print(lst)"
   ]
  },
  {
   "cell_type": "code",
   "execution_count": 42,
   "metadata": {
    "ExecuteTime": {
     "end_time": "2019-02-22T11:39:11.758454Z",
     "start_time": "2019-02-22T11:39:11.751356Z"
    },
    "colab": {
     "base_uri": "https://localhost:8080/"
    },
    "executionInfo": {
     "elapsed": 291,
     "status": "ok",
     "timestamp": 1678202354792,
     "user": {
      "displayName": "Vahid Khalili Param",
      "userId": "06314421878379931304"
     },
     "user_tz": -180
    },
    "id": "jXLMjtE9SMyR",
    "outputId": "0cc47f20-15e4-4abc-cc8c-6b345339a163"
   },
   "outputs": [
    {
     "name": "stdout",
     "output_type": "stream",
     "text": [
      "[0, 2, 4, 6, 8]\n"
     ]
    }
   ],
   "source": [
    "lst = [i for i in range(10) if i % 2 == 0]\n",
    "\n",
    "print(lst)"
   ]
  },
  {
   "cell_type": "markdown",
   "metadata": {
    "id": "dZ1ufplCSMyU"
   },
   "source": [
    "### File Operations"
   ]
  },
  {
   "cell_type": "markdown",
   "metadata": {
    "id": "n7wWDZ8ncFlF"
   },
   "source": [
    "Please add the shared files to your drive, so that the code below can be executed."
   ]
  },
  {
   "cell_type": "code",
   "execution_count": null,
   "metadata": {
    "colab": {
     "base_uri": "https://localhost:8080/"
    },
    "executionInfo": {
     "elapsed": 17196,
     "status": "ok",
     "timestamp": 1678005878582,
     "user": {
      "displayName": "Vahid Khalili Param",
      "userId": "06314421878379931304"
     },
     "user_tz": -180
    },
    "id": "nh6f9knETzj7",
    "outputId": "ee688ef3-4ac4-4298-a901-e3c2feb3dfa5"
   },
   "outputs": [
    {
     "name": "stdout",
     "output_type": "stream",
     "text": [
      "Mounted at ./drive\n"
     ]
    }
   ],
   "source": [
    "# first, you need to permit colab \n",
    "# to access your drive folder\n",
    "from google.colab import drive\n",
    "drive.mount(\"./drive\", force_remount=True)"
   ]
  },
  {
   "cell_type": "code",
   "execution_count": null,
   "metadata": {
    "ExecuteTime": {
     "end_time": "2019-02-22T11:39:12.633109Z",
     "start_time": "2019-02-22T11:39:12.622735Z"
    },
    "colab": {
     "base_uri": "https://localhost:8080/"
    },
    "executionInfo": {
     "elapsed": 296,
     "status": "ok",
     "timestamp": 1678006045902,
     "user": {
      "displayName": "Vahid Khalili Param",
      "userId": "06314421878379931304"
     },
     "user_tz": -180
    },
    "id": "GEwelW2ZSMyU",
    "outputId": "67325db4-bd59-4e90-fef2-d8e7735d4f0c"
   },
   "outputs": [
    {
     "name": "stdout",
     "output_type": "stream",
     "text": [
      "cs210 200\n",
      "cs201 300\n",
      "cs300 80\n",
      "cs301 60\n",
      "cs404 50\n"
     ]
    }
   ],
   "source": [
    "# this is the path to your drive\n",
    "path = \"/content/\"\n",
    "filename = \"courses.txt\"\n",
    "\n",
    "file_obj = open(path + filename, \"r\")  # r -> reading, w -> writing, a -> appending\n",
    "\n",
    "contents = file_obj.read()\n",
    "print(contents)\n",
    "\n",
    "file_obj.close()"
   ]
  },
  {
   "cell_type": "code",
   "execution_count": null,
   "metadata": {
    "colab": {
     "base_uri": "https://localhost:8080/"
    },
    "executionInfo": {
     "elapsed": 302,
     "status": "ok",
     "timestamp": 1678006021727,
     "user": {
      "displayName": "Vahid Khalili Param",
      "userId": "06314421878379931304"
     },
     "user_tz": -180
    },
    "id": "QNGN3EnWlzOZ",
    "outputId": "7096bcfb-0384-4d9f-af36-5bbf11bde364"
   },
   "outputs": [
    {
     "name": "stdout",
     "output_type": "stream",
     "text": [
      "['cs210 200\\n', 'cs201 300\\n', 'cs300 80\\n', 'cs301 60\\n', 'cs404 50']\n"
     ]
    }
   ],
   "source": [
    "with open('/content/courses.txt') as f:\n",
    "  print(f.readlines())"
   ]
  },
  {
   "cell_type": "code",
   "execution_count": null,
   "metadata": {
    "ExecuteTime": {
     "end_time": "2019-02-22T11:39:13.263564Z",
     "start_time": "2019-02-22T11:39:13.248250Z"
    },
    "colab": {
     "base_uri": "https://localhost:8080/"
    },
    "executionInfo": {
     "elapsed": 259,
     "status": "ok",
     "timestamp": 1678006111781,
     "user": {
      "displayName": "Vahid Khalili Param",
      "userId": "06314421878379931304"
     },
     "user_tz": -180
    },
    "id": "MaCgYtRMSMyX",
    "outputId": "46384738-ba6a-437a-ca45-13301c31cca4"
   },
   "outputs": [
    {
     "name": "stdout",
     "output_type": "stream",
     "text": [
      "cs210 200\n",
      "cs201 300\n",
      "cs300 80\n",
      "cs301 60\n",
      "cs404 50\n"
     ]
    }
   ],
   "source": [
    "# instead of explicitly closing files, we can use with statement\n",
    "path = \"/content/\"\n",
    "filename = \"courses.txt\"\n",
    "\n",
    "with open(path + filename, \"r\") as f:\n",
    "    contents = f.read()\n",
    "    print(contents)\n",
    "    \n",
    "# when the scope of with ends, the file is closed"
   ]
  },
  {
   "cell_type": "code",
   "execution_count": null,
   "metadata": {
    "ExecuteTime": {
     "end_time": "2019-02-22T11:39:13.983028Z",
     "start_time": "2019-02-22T11:39:13.931794Z"
    },
    "colab": {
     "base_uri": "https://localhost:8080/"
    },
    "executionInfo": {
     "elapsed": 275,
     "status": "ok",
     "timestamp": 1678006134835,
     "user": {
      "displayName": "Vahid Khalili Param",
      "userId": "06314421878379931304"
     },
     "user_tz": -180
    },
    "id": "ZO6INHD-SMyZ",
    "outputId": "4e743891-b179-4532-93e6-97d07d2d11a9"
   },
   "outputs": [
    {
     "name": "stdout",
     "output_type": "stream",
     "text": [
      "{'cs210': '200', 'cs201': '300', 'cs300': '80', 'cs301': '60', 'cs404': '50'}\n"
     ]
    },
    {
     "data": {
      "text/plain": [
       "[('cs201', '300'),\n",
       " ('cs210', '200'),\n",
       " ('cs300', '80'),\n",
       " ('cs301', '60'),\n",
       " ('cs404', '50')]"
      ]
     },
     "execution_count": 45,
     "metadata": {},
     "output_type": "execute_result"
    }
   ],
   "source": [
    "path = \"/content/\"\n",
    "filename = \"courses.txt\"\n",
    "course_dict = {}  # at the end, it will store courses as keys and num of students as their values\n",
    "\n",
    "with open(path + filename, \"r\") as f:\n",
    "    lines = f.readlines()  # returns a list of lines from the file\n",
    "    for line in lines:\n",
    "        line = line.strip(\"\\n\")  # remove the new line character\n",
    "        info = line.split()\n",
    "        \n",
    "        course_name = info[0]\n",
    "        num_students = info[1]\n",
    "        \n",
    "        course_dict[course_name] = num_students\n",
    "        \n",
    "print(course_dict)\n",
    "sorted(course_dict.items())"
   ]
  },
  {
   "cell_type": "code",
   "execution_count": null,
   "metadata": {
    "ExecuteTime": {
     "end_time": "2019-02-22T11:39:15.224793Z",
     "start_time": "2019-02-22T11:39:15.211796Z"
    },
    "colab": {
     "base_uri": "https://localhost:8080/"
    },
    "executionInfo": {
     "elapsed": 294,
     "status": "ok",
     "timestamp": 1678006178922,
     "user": {
      "displayName": "Vahid Khalili Param",
      "userId": "06314421878379931304"
     },
     "user_tz": -180
    },
    "id": "1dk2AdP_SMyb",
    "outputId": "a8426866-3557-4fa8-828c-ffa5cb686438"
   },
   "outputs": [
    {
     "name": "stdout",
     "output_type": "stream",
     "text": [
      "{'quiz': {'maths': {'q1': {'answer': '12',\n",
      "                           'options': ['10', '11', '12', '13'],\n",
      "                           'question': '5 + 7 = ?'},\n",
      "                    'q2': {'answer': '4',\n",
      "                           'options': ['1', '2', '3', '4'],\n",
      "                           'question': '12 - 8 = ?'}},\n",
      "          'sport': {'q1': {'answer': 'Huston Rocket',\n",
      "                           'options': ['New York Bulls',\n",
      "                                       'Los Angeles Kings',\n",
      "                                       'Golden State Warriros',\n",
      "                                       'Huston Rocket'],\n",
      "                           'question': 'Which one is correct team name in '\n",
      "                                       'NBA?'}}}}\n"
     ]
    }
   ],
   "source": [
    "import json  # whenever we want use a function from the library, we need json. as a prefix\n",
    "#from json import *  # no need for prefixes, but overrides are possible\n",
    "#from json import load  # only load function is imported\n",
    "\n",
    "from pprint import pprint\n",
    "\n",
    "path = \"/content/\"\n",
    "filename = \"quiz.json\"\n",
    "\n",
    "with open(path + filename, \"r\") as f:\n",
    "    # we opened the file, but not yet read the file itself\n",
    "    data = json.load(f)\n",
    "\n",
    "pprint(data)"
   ]
  },
  {
   "cell_type": "markdown",
   "metadata": {
    "id": "vzf-fDtNSMyf"
   },
   "source": [
    "### Functions\n",
    "\n",
    "Functions help break our program into smaller and modular chunks.  \n",
    "As our program grows larger and larger, functions make it more organized and manageable.\n",
    "\n",
    "You may declare functions with the following sytanx.\n",
    "\n",
    "``` py\n",
    ">>> def func_name(parameters)\n",
    "    body\n",
    "```"
   ]
  },
  {
   "cell_type": "code",
   "execution_count": 43,
   "metadata": {
    "ExecuteTime": {
     "end_time": "2019-09-20T10:38:53.126544Z",
     "start_time": "2019-09-20T10:38:53.108058Z"
    },
    "colab": {
     "base_uri": "https://localhost:8080/"
    },
    "executionInfo": {
     "elapsed": 302,
     "status": "ok",
     "timestamp": 1678202440580,
     "user": {
      "displayName": "Vahid Khalili Param",
      "userId": "06314421878379931304"
     },
     "user_tz": -180
    },
    "id": "JIYGgGUgSMyg",
    "outputId": "2e8a807d-2062-4dbf-d75b-291e732e7ebe"
   },
   "outputs": [
    {
     "name": "stdout",
     "output_type": "stream",
     "text": [
      "hello\n"
     ]
    }
   ],
   "source": [
    "def print_hello():\n",
    "    \"\"\"\n",
    "    just a silly function without any parameter\n",
    "    \"\"\"\n",
    "    print(\"hello\")\n",
    "\n",
    "print_hello  # returns the function reference\n",
    "#print_hello() # calling the function\n",
    "\n",
    "print_hello ()"
   ]
  },
  {
   "cell_type": "code",
   "execution_count": 44,
   "metadata": {
    "ExecuteTime": {
     "end_time": "2019-09-20T10:38:41.856550Z",
     "start_time": "2019-09-20T10:38:41.826076Z"
    },
    "colab": {
     "base_uri": "https://localhost:8080/"
    },
    "executionInfo": {
     "elapsed": 269,
     "status": "ok",
     "timestamp": 1678202467174,
     "user": {
      "displayName": "Vahid Khalili Param",
      "userId": "06314421878379931304"
     },
     "user_tz": -180
    },
    "id": "0UIyoGSASMyi",
    "outputId": "7ee3dc83-a2d3-4636-8972-3272aa8b961b"
   },
   "outputs": [
    {
     "name": "stdout",
     "output_type": "stream",
     "text": [
      "odd\n"
     ]
    }
   ],
   "source": [
    "def even_or_odd_P(x):\n",
    "    \"\"\"\n",
    "    Prints whether x is even or odd \n",
    "    \"\"\"\n",
    "    if (x % 2 == 0): \n",
    "        print(\"even\")\n",
    "    else: \n",
    "        print(\"odd\")\n",
    "\n",
    "even_or_odd_P(7)"
   ]
  },
  {
   "cell_type": "code",
   "execution_count": null,
   "metadata": {
    "ExecuteTime": {
     "end_time": "2019-09-20T10:43:28.448317Z",
     "start_time": "2019-09-20T10:43:28.434550Z"
    },
    "colab": {
     "base_uri": "https://localhost:8080/"
    },
    "executionInfo": {
     "elapsed": 3,
     "status": "ok",
     "timestamp": 1678115387696,
     "user": {
      "displayName": "Vahid Khalili Param",
      "userId": "06314421878379931304"
     },
     "user_tz": -180
    },
    "id": "Bk706ldMSMyk",
    "outputId": "501641c2-50bc-4cc5-abed-87dcc78f0bee"
   },
   "outputs": [
    {
     "name": "stdout",
     "output_type": "stream",
     "text": [
      "odd\n",
      "None\n"
     ]
    }
   ],
   "source": [
    "# If we assing the result to a variable\n",
    "# nothing will be there since the function does not return a value\n",
    "result = even_or_odd_P(17)\n",
    "# will print None\n",
    "print(result)"
   ]
  },
  {
   "cell_type": "code",
   "execution_count": 45,
   "metadata": {
    "ExecuteTime": {
     "end_time": "2019-09-20T10:44:01.108094Z",
     "start_time": "2019-09-20T10:44:01.092224Z"
    },
    "colab": {
     "base_uri": "https://localhost:8080/"
    },
    "executionInfo": {
     "elapsed": 470,
     "status": "ok",
     "timestamp": 1678202492136,
     "user": {
      "displayName": "Vahid Khalili Param",
      "userId": "06314421878379931304"
     },
     "user_tz": -180
    },
    "id": "r1JyzpB5SMyl",
    "outputId": "d0a0be09-21ad-44d3-bd3d-b0ab159824af"
   },
   "outputs": [
    {
     "name": "stdout",
     "output_type": "stream",
     "text": [
      "even\n"
     ]
    }
   ],
   "source": [
    "def even_or_odd_R(x):\n",
    "    \"\"\"\n",
    "    Returns whether x is even or odd \n",
    "    \"\"\"\n",
    "    if (x % 2 == 0): \n",
    "        return \"even\"\n",
    "    else: \n",
    "        return \"odd\"\n",
    "\n",
    "# now, we can see the assigned value\n",
    "result = even_or_odd_R(10)\n",
    "print(result)"
   ]
  },
  {
   "cell_type": "markdown",
   "metadata": {
    "id": "sqQ1UNPEmuQH"
   },
   "source": [
    "# Some Notes on Python\n",
    "\n",
    "Now, we are going to go through a couple of concepts that will be quite useful throughtout the semester, especially when dealing with data. The list of the concepts are below. \n",
    "\n",
    "- Zip Function for Parallel Iteration\n",
    "- List Comprehension\n",
    "- Map-Filter-Reduce\n",
    "- Lambda Expressions"
   ]
  },
  {
   "cell_type": "markdown",
   "metadata": {
    "id": "aCYAhQTEn4rW"
   },
   "source": [
    "## Zip Function\n",
    "\n",
    "In some cases, there is a need to iterate over a set of paired objects. One may use a shared index variable for this task."
   ]
  },
  {
   "cell_type": "code",
   "execution_count": null,
   "metadata": {
    "colab": {
     "base_uri": "https://localhost:8080/"
    },
    "executionInfo": {
     "elapsed": 580,
     "status": "ok",
     "timestamp": 1678108997074,
     "user": {
      "displayName": "Vahid Khalili Param",
      "userId": "06314421878379931304"
     },
     "user_tz": -180
    },
    "id": "5GxH3qyepKtv",
    "outputId": "21d159af-af38-4760-d72e-b3f46ea740f2"
   },
   "outputs": [
    {
     "name": "stdout",
     "output_type": "stream",
     "text": [
      "banana 60\n",
      "apple 70\n",
      "orange 80\n"
     ]
    }
   ],
   "source": [
    "fruits = [\"banana\", \"apple\", \"orange\"]\n",
    "prices = [60, 70, 80]\n",
    "\n",
    "for i in range(len(fruits)):\n",
    "  print(fruits[i], prices[i])"
   ]
  },
  {
   "cell_type": "markdown",
   "metadata": {
    "id": "keDpGQyZpl2n"
   },
   "source": [
    "Instead of dealing with the shared index, one could also utilize the `zip` function. It takes the iterable objects to be bounded as its input and returns a zip object."
   ]
  },
  {
   "cell_type": "code",
   "execution_count": null,
   "metadata": {
    "colab": {
     "base_uri": "https://localhost:8080/"
    },
    "executionInfo": {
     "elapsed": 887,
     "status": "ok",
     "timestamp": 1678115499242,
     "user": {
      "displayName": "Vahid Khalili Param",
      "userId": "06314421878379931304"
     },
     "user_tz": -180
    },
    "id": "qa6EUJusrIiY",
    "outputId": "d804c598-c2e6-442b-f25b-4193d825a74f"
   },
   "outputs": [
    {
     "data": {
      "text/plain": [
       "<zip at 0x7fa152c84a80>"
      ]
     },
     "execution_count": 118,
     "metadata": {},
     "output_type": "execute_result"
    }
   ],
   "source": [
    "fruits = [\"banana\", \"apple\", \"orange\"]\n",
    "prices = [60, 70, 80]\n",
    "\n",
    "zip(fruits, prices)"
   ]
  },
  {
   "cell_type": "markdown",
   "metadata": {
    "id": "5_bMbbNVrOfs"
   },
   "source": [
    "You may cast this zip object into other data types. Or put it in a for loop as well."
   ]
  },
  {
   "cell_type": "code",
   "execution_count": null,
   "metadata": {
    "colab": {
     "base_uri": "https://localhost:8080/"
    },
    "executionInfo": {
     "elapsed": 2,
     "status": "ok",
     "timestamp": 1678115500579,
     "user": {
      "displayName": "Vahid Khalili Param",
      "userId": "06314421878379931304"
     },
     "user_tz": -180
    },
    "id": "1Gk-6OrfrXdH",
    "outputId": "1658babf-62ac-4615-b3c8-eb22df36759f"
   },
   "outputs": [
    {
     "data": {
      "text/plain": [
       "[('banana', 60), ('apple', 70), ('orange', 80)]"
      ]
     },
     "execution_count": 119,
     "metadata": {},
     "output_type": "execute_result"
    }
   ],
   "source": [
    "list(zip(fruits, prices))"
   ]
  },
  {
   "cell_type": "code",
   "execution_count": null,
   "metadata": {
    "colab": {
     "base_uri": "https://localhost:8080/"
    },
    "executionInfo": {
     "elapsed": 692,
     "status": "ok",
     "timestamp": 1678115521797,
     "user": {
      "displayName": "Vahid Khalili Param",
      "userId": "06314421878379931304"
     },
     "user_tz": -180
    },
    "id": "4RjoR39graUW",
    "outputId": "301c896b-7122-41ef-9967-58d3f413a667"
   },
   "outputs": [
    {
     "name": "stdout",
     "output_type": "stream",
     "text": [
      "('banana', 60)\n",
      "('apple', 70)\n",
      "('orange', 80)\n"
     ]
    }
   ],
   "source": [
    "for i in zip(fruits, prices):\n",
    "  print(i)"
   ]
  },
  {
   "cell_type": "markdown",
   "metadata": {
    "id": "GmUq3Tl_CxQo"
   },
   "source": [
    "### Unpacking a tuple object"
   ]
  },
  {
   "cell_type": "code",
   "execution_count": null,
   "metadata": {
    "colab": {
     "base_uri": "https://localhost:8080/"
    },
    "executionInfo": {
     "elapsed": 266,
     "status": "ok",
     "timestamp": 1678007201562,
     "user": {
      "displayName": "Vahid Khalili Param",
      "userId": "06314421878379931304"
     },
     "user_tz": -180
    },
    "id": "je0MjLu4CXuS",
    "outputId": "ce051853-14d8-497b-89a7-2130e78667c1"
   },
   "outputs": [
    {
     "name": "stdout",
     "output_type": "stream",
     "text": [
      "item 10\n"
     ]
    }
   ],
   "source": [
    "tuple_obj = (\"item\", 10)\n",
    "item, price = tuple_obj\n",
    "\n",
    "print(item, price)"
   ]
  },
  {
   "cell_type": "markdown",
   "metadata": {
    "id": "bWylQLz5rdVK"
   },
   "source": [
    "As you can see, in the for loop each iteration it returns a tuple object. So, with the help of tuple unpacking, we could have written the loop:"
   ]
  },
  {
   "cell_type": "code",
   "execution_count": null,
   "metadata": {
    "colab": {
     "base_uri": "https://localhost:8080/"
    },
    "executionInfo": {
     "elapsed": 277,
     "status": "ok",
     "timestamp": 1678007204055,
     "user": {
      "displayName": "Vahid Khalili Param",
      "userId": "06314421878379931304"
     },
     "user_tz": -180
    },
    "id": "6VLP7Fsprs2M",
    "outputId": "8bd757d2-3334-45a4-d1ad-048980296cb2"
   },
   "outputs": [
    {
     "name": "stdout",
     "output_type": "stream",
     "text": [
      "banana 60\n",
      "apple 70\n",
      "orange 80\n"
     ]
    }
   ],
   "source": [
    "for fruit, price in zip(fruits, prices):\n",
    "  print(fruit, price)"
   ]
  },
  {
   "cell_type": "markdown",
   "metadata": {
    "id": "m5R5NGY1r0ch"
   },
   "source": [
    "You may zip as many iterable objects as you like."
   ]
  },
  {
   "cell_type": "code",
   "execution_count": null,
   "metadata": {
    "colab": {
     "base_uri": "https://localhost:8080/"
    },
    "executionInfo": {
     "elapsed": 319,
     "status": "ok",
     "timestamp": 1678007211692,
     "user": {
      "displayName": "Vahid Khalili Param",
      "userId": "06314421878379931304"
     },
     "user_tz": -180
    },
    "id": "KUYMScyir4Bw",
    "outputId": "dda338c9-b5ea-4889-dc8e-6158ae9ff968"
   },
   "outputs": [
    {
     "name": "stdout",
     "output_type": "stream",
     "text": [
      "('banana', 60, '12/05/2020')\n",
      "('apple', 70, '08/11/2019')\n",
      "('orange', 80, '01/01/1999')\n"
     ]
    }
   ],
   "source": [
    "dates = [\"12/05/2020\", \"08/11/2019\", \"01/01/1999\"]\n",
    "\n",
    "for i in zip(fruits, prices, dates):\n",
    "  print(i)"
   ]
  },
  {
   "cell_type": "markdown",
   "metadata": {
    "id": "sbu3HN_YCZ4c"
   },
   "source": [
    "## List Comprehension\n",
    "\n",
    "Python is renowned as a very readable programming language. Most of the statements are akin to plain English. List comprehension is a distinct feature of Python that enables you to reduce the iterations, loops, to a single line."
   ]
  },
  {
   "cell_type": "markdown",
   "metadata": {
    "id": "_s5yeu61JC5p"
   },
   "source": [
    "Most of the programs utilize loops\n",
    "\n",
    "- To initiate an object (list, dict, etc.)\n",
    "- As control mechanism\n",
    "- And so on"
   ]
  },
  {
   "cell_type": "code",
   "execution_count": null,
   "metadata": {
    "colab": {
     "base_uri": "https://localhost:8080/"
    },
    "executionInfo": {
     "elapsed": 309,
     "status": "ok",
     "timestamp": 1678007889103,
     "user": {
      "displayName": "Vahid Khalili Param",
      "userId": "06314421878379931304"
     },
     "user_tz": -180
    },
    "id": "MedZzCb2JMxK",
    "outputId": "671ed448-8e76-403b-aa9c-14c53d51abc2"
   },
   "outputs": [
    {
     "name": "stdout",
     "output_type": "stream",
     "text": [
      "0\n",
      "2\n",
      "4\n",
      "6\n",
      "8\n"
     ]
    }
   ],
   "source": [
    "foo = []\n",
    "for i in range(10):  # values between 0-9\n",
    "  foo.append(i)\n",
    "\n",
    "for i in foo:\n",
    "  if i % 2 == 0:  # prints even numbers\n",
    "    print(i)"
   ]
  },
  {
   "cell_type": "markdown",
   "metadata": {
    "id": "jyrJ8UZCJPzh"
   },
   "source": [
    "With the help of list comprehension, the statements above can be written more concisely."
   ]
  },
  {
   "cell_type": "code",
   "execution_count": null,
   "metadata": {
    "colab": {
     "base_uri": "https://localhost:8080/"
    },
    "executionInfo": {
     "elapsed": 285,
     "status": "ok",
     "timestamp": 1678115625169,
     "user": {
      "displayName": "Vahid Khalili Param",
      "userId": "06314421878379931304"
     },
     "user_tz": -180
    },
    "id": "ZAMZ_QPOMkPp",
    "outputId": "caff2442-fbd9-43bb-bb00-d608f61807ba"
   },
   "outputs": [
    {
     "data": {
      "text/plain": [
       "[0, 2, 4, 6, 8]"
      ]
     },
     "execution_count": 121,
     "metadata": {},
     "output_type": "execute_result"
    }
   ],
   "source": [
    "foo = [i for i in range(10)]\n",
    "\n",
    "evens = [i for i in foo if i % 2 == 0]\n",
    "evens"
   ]
  },
  {
   "cell_type": "markdown",
   "metadata": {
    "id": "B1Up8-VoMuKy"
   },
   "source": [
    "A list comprehension statement is evaluated with respect to three parts:\n",
    "\n",
    "``` py\n",
    "list = [expression for member in iterable]\n",
    "```\n",
    "\n",
    "The statement above is equivalent to:\n",
    "\n",
    "```py\n",
    "list = []\n",
    "for member in iterable:\n",
    "  list.append(expression)\n",
    "```\n",
    "\n",
    "Here `expression` can be any Python statement; it can be a function call or a very basic math statement.\n",
    "\n",
    "Additionally, you may include logical operators as well. For instance, in the code cell above where only the even numbers were extracted, we utilized an inline if statement.\n",
    "\n",
    "``` py\n",
    "evens = [i for i in foo if i % 2 == 0]\n",
    "```\n",
    "\n",
    "Which is again the equivalent to:\n",
    "\n",
    "``` py\n",
    "evens = []\n",
    "for i in foo:\n",
    "  if i % 2 == 0:\n",
    "    evens.append(i)\n",
    "```"
   ]
  },
  {
   "cell_type": "markdown",
   "metadata": {
    "id": "YoU26WlztyUK"
   },
   "source": [
    "Selection can be quite easy with the help of list comprehension.\n",
    "\n",
    "Here, we have a list of dictionaries in which several items are contained with their associated attributes. If we are only interested with the `price` attribute, we can construct a list comprehension statement."
   ]
  },
  {
   "cell_type": "code",
   "execution_count": null,
   "metadata": {
    "colab": {
     "base_uri": "https://localhost:8080/"
    },
    "executionInfo": {
     "elapsed": 291,
     "status": "ok",
     "timestamp": 1678007939179,
     "user": {
      "displayName": "Vahid Khalili Param",
      "userId": "06314421878379931304"
     },
     "user_tz": -180
    },
    "id": "-VkixjOVNpZL",
    "outputId": "124469fe-b038-419d-e8bb-467213f65f9d"
   },
   "outputs": [
    {
     "data": {
      "text/plain": [
       "[5.2, 4.7, 3.1, 8.2]"
      ]
     },
     "execution_count": 71,
     "metadata": {},
     "output_type": "execute_result"
    }
   ],
   "source": [
    "list_of_dicts = [\n",
    "                 {\"date\": \"12.07.2020\", \"price\": 5.2, \"product_name\": \"apple\"},\n",
    "                 {\"date\": \"13.07.2020\", \"price\": 4.7, \"product_name\": \"kiwi\"},\n",
    "                 {\"date\": \"14.07.2020\", \"price\": 3.1, \"product_name\": \"grape\"},\n",
    "                 {\"date\": \"14.07.2020\", \"price\": 8.2, \"product_name\": \"orange\"}\n",
    "]\n",
    "\n",
    "price = [item[\"price\"] for item in list_of_dicts]\n",
    "price"
   ]
  },
  {
   "cell_type": "markdown",
   "metadata": {
    "id": "sNlfNp4ZSgeH"
   },
   "source": [
    "You may apply nested loops as well."
   ]
  },
  {
   "cell_type": "code",
   "execution_count": null,
   "metadata": {
    "colab": {
     "base_uri": "https://localhost:8080/"
    },
    "executionInfo": {
     "elapsed": 288,
     "status": "ok",
     "timestamp": 1678007943814,
     "user": {
      "displayName": "Vahid Khalili Param",
      "userId": "06314421878379931304"
     },
     "user_tz": -180
    },
    "id": "BJQD2QXcS1J9",
    "outputId": "fc8a4987-4b53-44db-9a71-3b1a690e82c9"
   },
   "outputs": [
    {
     "name": "stdout",
     "output_type": "stream",
     "text": [
      "[1, 2, 3, 4, 5, 6, 7, 8, 9]\n",
      "[1, 2, 3, 4, 5, 6, 7, 8, 9]\n"
     ]
    }
   ],
   "source": [
    "matrix = [[1, 2, 3], [4, 5, 6], [7, 8, 9]]\n",
    "\n",
    "flattened = [i for row in matrix for i in row]\n",
    "print(flattened)\n",
    "\n",
    "# equivalent to\n",
    "flattened = []\n",
    "for row in matrix:\n",
    "  for i in row:\n",
    "    flattened.append(i)\n",
    "print(flattened)"
   ]
  },
  {
   "cell_type": "markdown",
   "metadata": {
    "id": "mrj3gg3gTITj"
   },
   "source": [
    "And finally, you may create other iterable objects as well. All you have to do is to change the encircling characters to the required object type and the expression."
   ]
  },
  {
   "cell_type": "code",
   "execution_count": null,
   "metadata": {
    "colab": {
     "base_uri": "https://localhost:8080/"
    },
    "executionInfo": {
     "elapsed": 313,
     "status": "ok",
     "timestamp": 1678007952268,
     "user": {
      "displayName": "Vahid Khalili Param",
      "userId": "06314421878379931304"
     },
     "user_tz": -180
    },
    "id": "ehdiuZqGUmja",
    "outputId": "f42738a8-58a1-4983-808f-3a5ea0ebd990"
   },
   "outputs": [
    {
     "data": {
      "text/plain": [
       "{'banana': 60, 'apple': 100, 'orange': 70}"
      ]
     },
     "execution_count": 73,
     "metadata": {},
     "output_type": "execute_result"
    }
   ],
   "source": [
    "import random\n",
    "\n",
    "fruits = [\"banana\", \"apple\", \"orange\"]\n",
    "# creating brand-price pairs \n",
    "fruit_price = {fruit: random.randint(50, 100) for fruit in fruits}\n",
    "fruit_price"
   ]
  },
  {
   "cell_type": "markdown",
   "metadata": {
    "id": "9--Z_YJ9oTM3"
   },
   "source": [
    "## Map-Filter-Reduce\n",
    "\n",
    "Let's say you have a function and it needs to be applied on each entry in an iterable object. And this function can manipulate the entries, selects a portion based on a condition or accumulates them. \n",
    "\n",
    "Map, Filter and Reduce help us implement such mechanisms with eliminating the need for explicit for loops and so on."
   ]
  },
  {
   "cell_type": "markdown",
   "metadata": {
    "id": "dDprpsasBjNQ"
   },
   "source": [
    "### Map\n",
    "\n",
    "`Map` allows you to apply a function to each element in an iterable object and returns a map object that can be cast into various types.\n",
    "\n",
    "``` py\n",
    "def function_to_be_applied(element):\n",
    "  # does something with the element\n",
    "  # and returns a value\n",
    "  return ...\n",
    "\n",
    "map(function_to_be_applied, iterable_object)\n",
    "```"
   ]
  },
  {
   "cell_type": "code",
   "execution_count": 46,
   "metadata": {
    "colab": {
     "base_uri": "https://localhost:8080/"
    },
    "executionInfo": {
     "elapsed": 296,
     "status": "ok",
     "timestamp": 1678202675278,
     "user": {
      "displayName": "Vahid Khalili Param",
      "userId": "06314421878379931304"
     },
     "user_tz": -180
    },
    "id": "NjQo1q1T-7Eh",
    "outputId": "e2ddef45-3d0f-4221-deb2-4e5a74d2261c"
   },
   "outputs": [
    {
     "name": "stdout",
     "output_type": "stream",
     "text": [
      "[3, 4, 5]\n"
     ]
    },
    {
     "data": {
      "text/plain": [
       "[3, 4, 5]"
      ]
     },
     "execution_count": 46,
     "metadata": {},
     "output_type": "execute_result"
    }
   ],
   "source": [
    "def add_two(num):\n",
    "  return num + 2\n",
    "\n",
    "nums = [1, 2, 3]\n",
    "result = []\n",
    "for i in nums:\n",
    "  result.append(add_two(i))\n",
    "print(result)\n",
    "\n",
    "# equivalent to\n",
    "list(map(add_two, nums))"
   ]
  },
  {
   "cell_type": "markdown",
   "metadata": {
    "id": "jVtHr0sAA2XX"
   },
   "source": [
    "### Filter\n",
    "\n",
    "`Filter` allows you to conditionally select entries in an iterable object. It returns a filter object that can be cast into various types.\n",
    "\n",
    "``` py\n",
    "def function_to_be_applied(element):\n",
    "  # does something with the element\n",
    "  # at the must return a boolean value\n",
    "  return True/False\n",
    "\n",
    "filter(function_to_be_applied, iterable_object)\n",
    "```"
   ]
  },
  {
   "cell_type": "code",
   "execution_count": null,
   "metadata": {
    "colab": {
     "base_uri": "https://localhost:8080/"
    },
    "executionInfo": {
     "elapsed": 4,
     "status": "ok",
     "timestamp": 1678115803499,
     "user": {
      "displayName": "Vahid Khalili Param",
      "userId": "06314421878379931304"
     },
     "user_tz": -180
    },
    "id": "n4kx36R9Ea1C",
    "outputId": "1260c422-7b70-4cd1-b265-2c8b6346982e"
   },
   "outputs": [
    {
     "data": {
      "text/plain": [
       "[4, 9]"
      ]
     },
     "execution_count": 125,
     "metadata": {},
     "output_type": "execute_result"
    }
   ],
   "source": [
    "def smaller_than_10(n):\n",
    "  return n < 10\n",
    "\n",
    "list(filter(smaller_than_10, [4, 9, 10, 15, 21]))"
   ]
  },
  {
   "cell_type": "markdown",
   "metadata": {
    "id": "rE_WpdoaE10g"
   },
   "source": [
    "### Reduce\n",
    "\n",
    "And finally, `Reduce` takes a function and iterable object as its inputs and produce a single value by:\n",
    "\n",
    "1. First, the function is executed with the first two entries in the iterable object and the result is returned.\n",
    "\n",
    "2. The function is then executed again with the result obtained in step 1 and the next entry in the iterable object. This execution is performed till there are no more entries left. \n",
    "\n",
    "``` py\n",
    "from functools import reduce\n",
    "\n",
    "def function_to_be_applied(element1, element2):\n",
    "  # does something with the elements\n",
    "  # at the must return a value to be used in the next iteration\n",
    "  return ...\n",
    "\n",
    "reduce(function_to_be_applied, iterable_object)\n",
    "```"
   ]
  },
  {
   "cell_type": "code",
   "execution_count": 47,
   "metadata": {
    "colab": {
     "base_uri": "https://localhost:8080/"
    },
    "executionInfo": {
     "elapsed": 275,
     "status": "ok",
     "timestamp": 1678202786225,
     "user": {
      "displayName": "Vahid Khalili Param",
      "userId": "06314421878379931304"
     },
     "user_tz": -180
    },
    "id": "NQdiH8lEFhoC",
    "outputId": "bd122fe0-b4e3-41dc-fdb3-625ae40f7af7"
   },
   "outputs": [
    {
     "name": "stdout",
     "output_type": "stream",
     "text": [
      "1 2\n",
      "3 3\n",
      "6 4\n",
      "result 10\n"
     ]
    }
   ],
   "source": [
    "from functools import reduce\n",
    "\n",
    "def summation(x, y):\n",
    "  print(x, y)\n",
    "  return x + y\n",
    "\n",
    "result = reduce(summation, [1, 2, 3, 4])\n",
    "print(\"result\", result)"
   ]
  },
  {
   "cell_type": "markdown",
   "metadata": {
    "id": "PwHj4O6S0zlm"
   },
   "source": [
    "Moreover, you can also start the execution with a user-defined initial value."
   ]
  },
  {
   "cell_type": "code",
   "execution_count": null,
   "metadata": {
    "colab": {
     "base_uri": "https://localhost:8080/"
    },
    "executionInfo": {
     "elapsed": 279,
     "status": "ok",
     "timestamp": 1678008139098,
     "user": {
      "displayName": "Vahid Khalili Param",
      "userId": "06314421878379931304"
     },
     "user_tz": -180
    },
    "id": "hFaXMYH4HQfp",
    "outputId": "40f0071a-77ca-4b3a-e806-96ac63490f22"
   },
   "outputs": [
    {
     "name": "stdout",
     "output_type": "stream",
     "text": [
      "10 1\n",
      "11 2\n",
      "13 3\n",
      "16 4\n",
      "result 20\n"
     ]
    }
   ],
   "source": [
    "def summation(x, y):\n",
    "  print(x, y)\n",
    "  return x + y\n",
    "\n",
    "result = reduce(summation, [1, 2, 3, 4], 10)  # summation will begin with 10\n",
    "print(\"result\", result)"
   ]
  },
  {
   "cell_type": "code",
   "execution_count": null,
   "metadata": {
    "colab": {
     "base_uri": "https://localhost:8080/"
    },
    "executionInfo": {
     "elapsed": 380,
     "status": "ok",
     "timestamp": 1678008150151,
     "user": {
      "displayName": "Vahid Khalili Param",
      "userId": "06314421878379931304"
     },
     "user_tz": -180
    },
    "id": "j-Ff6-i3J15M",
    "outputId": "01a72f7f-dd8b-4b98-9cf4-204789f11c29"
   },
   "outputs": [
    {
     "data": {
      "text/plain": [
       "{'pending': 1, 'attending': 2, 'declined': 1}"
      ]
     },
     "execution_count": 76,
     "metadata": {},
     "output_type": "execute_result"
    }
   ],
   "source": [
    "# a list of dicts that contain an invitation and the responses\n",
    "# we are going to create another dict that stores the count of status\n",
    "guestlist = [\n",
    "             {\"guest_id\": \"a520\", \"status\": \"pending\"},\n",
    "             {\"guest_id\": \"b125\", \"status\": \"attending\"},\n",
    "             {\"guest_id\": \"c886\", \"status\": \"declined\"},\n",
    "             {\"guest_id\": \"d336\", \"status\": \"attending\"},\n",
    "]\n",
    "\n",
    "# our goal is to create a dict object with statuses and associated counts\n",
    "# {'attending': 2, 'declined': 1, 'pending': 1}\n",
    "\n",
    "def counts(status_counts, invitation):\n",
    "  if invitation[\"status\"] in status_counts:\n",
    "    status_counts[invitation[\"status\"]] += 1\n",
    "  else:\n",
    "    status_counts[invitation[\"status\"]] = 1\n",
    "  return status_counts\n",
    "\n",
    "reduce(counts, guestlist, {})"
   ]
  },
  {
   "cell_type": "markdown",
   "metadata": {
    "id": "N2r60UXRMYpN"
   },
   "source": [
    "Keep in mind that you can use the output of a function as the input of another."
   ]
  },
  {
   "cell_type": "code",
   "execution_count": null,
   "metadata": {
    "colab": {
     "base_uri": "https://localhost:8080/"
    },
    "executionInfo": {
     "elapsed": 286,
     "status": "ok",
     "timestamp": 1678008160737,
     "user": {
      "displayName": "Vahid Khalili Param",
      "userId": "06314421878379931304"
     },
     "user_tz": -180
    },
    "id": "8k5xUGEcTBJy",
    "outputId": "00a158fb-8a3c-4068-f4fd-6af7b6d4761b"
   },
   "outputs": [
    {
     "data": {
      "text/plain": [
       "['Karen', 'Tom', 'Jen']"
      ]
     },
     "execution_count": 77,
     "metadata": {},
     "output_type": "execute_result"
    }
   ],
   "source": [
    "# find the guests older than 20 and print their names capitalized\n",
    "guestlist = [\n",
    "             {\"guest_id\": \"a520\", \"name\": \"john\", \"status\": \"pending\", \"age\": 19},\n",
    "             {\"guest_id\": \"b125\", \"name\": \"karen\", \"status\": \"attending\", \"age\": 25},\n",
    "             {\"guest_id\": \"c886\", \"name\": \"tom\", \"status\": \"declined\", \"age\": 30},\n",
    "             {\"guest_id\": \"d336\", \"name\": \"jen\", \"status\": \"attending\", \"age\": 40}\n",
    "]\n",
    "\n",
    "def age_filter(guest): \n",
    "  return guest[\"age\"] > 20\n",
    "\n",
    "def capitalize(guest):\n",
    "  return guest[\"name\"].capitalize()\n",
    "\n",
    "list(map(capitalize, filter(age_filter, guestlist)))"
   ]
  },
  {
   "cell_type": "markdown",
   "metadata": {
    "id": "4-1irb_CVRrs"
   },
   "source": [
    "## Lambda Expressions\n",
    "\n",
    "In the examples above, we needed to create very minimal functions for very simple tasks. And to create a function, you need to include the required keywords such `def`, `return` and a function name.\n",
    "\n",
    "In such cases, writing such a formal function definition may take some time. Instead, you can utilize an `anonymous function` to get the job done. \n",
    "\n",
    "- An anonymous function is not associated with a name.\n",
    "- Can have any number of arguments but only a single expression which is directly returned.\n",
    "- Definitions start with the `lambda` keyword.\n",
    "\n",
    "``` py\n",
    "lambda argument(s): expression\n",
    "```"
   ]
  },
  {
   "cell_type": "code",
   "execution_count": 48,
   "metadata": {
    "colab": {
     "base_uri": "https://localhost:8080/"
    },
    "executionInfo": {
     "elapsed": 306,
     "status": "ok",
     "timestamp": 1678202853601,
     "user": {
      "displayName": "Vahid Khalili Param",
      "userId": "06314421878379931304"
     },
     "user_tz": -180
    },
    "id": "K9GFnnblao1j",
    "outputId": "b2e38302-f680-4d32-d437-cb9b7f703789"
   },
   "outputs": [
    {
     "data": {
      "text/plain": [
       "11"
      ]
     },
     "execution_count": 48,
     "metadata": {},
     "output_type": "execute_result"
    }
   ],
   "source": [
    "add_2 = lambda x: x + 2\n",
    "\n",
    "add_2(9)"
   ]
  },
  {
   "cell_type": "markdown",
   "metadata": {
    "id": "wNfjmQYlfOBO"
   },
   "source": [
    "Lambda expressions can be used in the previous examples to shorten the code."
   ]
  },
  {
   "cell_type": "code",
   "execution_count": null,
   "metadata": {
    "colab": {
     "base_uri": "https://localhost:8080/"
    },
    "executionInfo": {
     "elapsed": 252,
     "status": "ok",
     "timestamp": 1678008351243,
     "user": {
      "displayName": "Vahid Khalili Param",
      "userId": "06314421878379931304"
     },
     "user_tz": -180
    },
    "id": "gC14RWRqfghA",
    "outputId": "fa38511a-9153-44a7-c20d-e7c2129131f9"
   },
   "outputs": [
    {
     "data": {
      "text/plain": [
       "['Karen', 'Tom', 'Jen']"
      ]
     },
     "execution_count": 80,
     "metadata": {},
     "output_type": "execute_result"
    }
   ],
   "source": [
    "guestlist = [\n",
    "             {\"guest_id\": \"a520\", \"name\": \"john\", \"status\": \"pending\", \"age\": 20},\n",
    "             {\"guest_id\": \"b125\", \"name\": \"karen\", \"status\": \"attending\", \"age\": 25},\n",
    "             {\"guest_id\": \"c886\", \"name\": \"tom\", \"status\": \"declined\", \"age\": 30},\n",
    "             {\"guest_id\": \"d336\", \"name\": \"jen\", \"status\": \"attending\", \"age\": 40}\n",
    "]\n",
    "\n",
    "list(map(lambda guest: guest[\"name\"].capitalize(), filter(lambda guest: guest[\"age\"] > 20, guestlist)))"
   ]
  },
  {
   "cell_type": "markdown",
   "metadata": {
    "id": "jh1_Zp-hfsuS"
   },
   "source": [
    "## Choice between List Comprehension and Map-Filter-Reduce\n",
    "\n",
    "It's a design choice. Almost all of the `map` or `filter` statements can be rewritten with list comprehension."
   ]
  },
  {
   "cell_type": "code",
   "execution_count": null,
   "metadata": {
    "colab": {
     "base_uri": "https://localhost:8080/"
    },
    "executionInfo": {
     "elapsed": 282,
     "status": "ok",
     "timestamp": 1678008469008,
     "user": {
      "displayName": "Vahid Khalili Param",
      "userId": "06314421878379931304"
     },
     "user_tz": -180
    },
    "id": "cGcOVO0ziU5Q",
    "outputId": "9a1c9794-9502-433d-9fd0-5360f2582d71"
   },
   "outputs": [
    {
     "name": "stdout",
     "output_type": "stream",
     "text": [
      "[0, 4, 16, 36, 64]\n",
      "[0, 4, 16, 36, 64]\n"
     ]
    }
   ],
   "source": [
    "nums = list(range(10))\n",
    "\n",
    "print(list(map(lambda x: x**2, filter(lambda x: x % 2 == 0, nums))))\n",
    "\n",
    "print([x**2 for x in nums if x % 2 == 0])"
   ]
  },
  {
   "cell_type": "markdown",
   "metadata": {
    "id": "C9aut2YlnTZM"
   },
   "source": [
    "- In most of the cases, list comprehension is more concise and readable.\n",
    "- Depending on the expression, there are differences in terms of the execution speed."
   ]
  },
  {
   "cell_type": "markdown",
   "metadata": {
    "id": "UHUfW47_qQA8"
   },
   "source": [
    "Lambda expressions allow a single expression to be evaluated with no bounded name. This may induce a readability issue. Do not hesitate to write a regular named functions with appropriate comments if you are in such a need."
   ]
  }
 ],
 "metadata": {
  "colab": {
   "provenance": [
    {
     "file_id": "16ONqR54_bvOQCjEDfaH_sxeokmOeznrI",
     "timestamp": 1633180219369
    }
   ]
  },
  "kernelspec": {
   "display_name": "Python 3 (ipykernel)",
   "language": "python",
   "name": "python3"
  },
  "language_info": {
   "codemirror_mode": {
    "name": "ipython",
    "version": 3
   },
   "file_extension": ".py",
   "mimetype": "text/x-python",
   "name": "python",
   "nbconvert_exporter": "python",
   "pygments_lexer": "ipython3",
   "version": "3.11.2"
  }
 },
 "nbformat": 4,
 "nbformat_minor": 1
}
